{
 "cells": [
  {
   "cell_type": "code",
   "execution_count": 1,
   "metadata": {},
   "outputs": [],
   "source": [
    "import pandas as pd"
   ]
  },
  {
   "cell_type": "code",
   "execution_count": 2,
   "metadata": {},
   "outputs": [],
   "source": [
    "import copy\n",
    "from copy import deepcopy"
   ]
  },
  {
   "cell_type": "code",
   "execution_count": 292,
   "metadata": {},
   "outputs": [],
   "source": [
    "import pickle"
   ]
  },
  {
   "cell_type": "code",
   "execution_count": 3,
   "metadata": {},
   "outputs": [],
   "source": [
    "df = pd.read_csv(\"df_watches.csv\")"
   ]
  },
  {
   "cell_type": "code",
   "execution_count": 4,
   "metadata": {},
   "outputs": [],
   "source": [
    "cols = df.columns.to_list()"
   ]
  },
  {
   "cell_type": "markdown",
   "metadata": {},
   "source": [
    "# Clean Columns"
   ]
  },
  {
   "cell_type": "code",
   "execution_count": 6,
   "metadata": {},
   "outputs": [],
   "source": [
    "drop_cols = []"
   ]
  },
  {
   "cell_type": "code",
   "execution_count": 7,
   "metadata": {},
   "outputs": [],
   "source": [
    "drop_cols.append('Unnamed: 0')"
   ]
  },
  {
   "cell_type": "markdown",
   "metadata": {},
   "source": [
    "## Drop Columns with more than 75% Missing"
   ]
  },
  {
   "cell_type": "code",
   "execution_count": 8,
   "metadata": {},
   "outputs": [
    {
     "data": {
      "text/plain": [
       "(10652, 44)"
      ]
     },
     "execution_count": 8,
     "metadata": {},
     "output_type": "execute_result"
    }
   ],
   "source": [
    "df.shape"
   ]
  },
  {
   "cell_type": "code",
   "execution_count": 9,
   "metadata": {},
   "outputs": [
    {
     "data": {
      "text/plain": [
       "5326.0"
      ]
     },
     "execution_count": 9,
     "metadata": {},
     "output_type": "execute_result"
    }
   ],
   "source": [
    "# calculate 50%\n",
    ".50 * 10652"
   ]
  },
  {
   "cell_type": "code",
   "execution_count": 11,
   "metadata": {},
   "outputs": [],
   "source": [
    "# turn na values into dictionary\n",
    "col_totals = df.isna().sum().to_dict()"
   ]
  },
  {
   "cell_type": "code",
   "execution_count": 13,
   "metadata": {},
   "outputs": [],
   "source": [
    "# if va\n",
    "for i in col_totals:\n",
    "    if col_totals[i] >= 5326:\n",
    "        drop_cols.append(i)\n",
    "        "
   ]
  },
  {
   "cell_type": "code",
   "execution_count": 19,
   "metadata": {},
   "outputs": [
    {
     "data": {
      "text/plain": [
       "['Unnamed: 0',\n",
       " 'Additional Info',\n",
       " 'Band Color',\n",
       " 'Band Length',\n",
       " 'Bezel Color',\n",
       " 'Dial Markers',\n",
       " 'Luminiscence',\n",
       " 'Power Reserve',\n",
       " 'Second Markers',\n",
       " 'Sub Dials',\n",
       " 'Case Color']"
      ]
     },
     "execution_count": 19,
     "metadata": {},
     "output_type": "execute_result"
    }
   ],
   "source": [
    "drop_cols"
   ]
  },
  {
   "cell_type": "code",
   "execution_count": 20,
   "metadata": {},
   "outputs": [],
   "source": [
    "cols = df.columns.to_list()"
   ]
  },
  {
   "cell_type": "code",
   "execution_count": 28,
   "metadata": {},
   "outputs": [],
   "source": [
    "for i in cols:\n",
    "    if i in drop_cols:\n",
    "        cols.remove(i)"
   ]
  },
  {
   "cell_type": "code",
   "execution_count": 29,
   "metadata": {},
   "outputs": [
    {
     "data": {
      "text/plain": [
       "['Band Material',\n",
       " 'Band Type',\n",
       " 'Band Width',\n",
       " 'Bezel Material',\n",
       " 'Bezel',\n",
       " 'Brand',\n",
       " 'Calendar',\n",
       " 'Case Back',\n",
       " 'Case Diameter',\n",
       " 'Case Material',\n",
       " 'Case Shape',\n",
       " 'Case Thickness',\n",
       " 'Clasp',\n",
       " 'Crown',\n",
       " 'Crystal',\n",
       " 'Dial Color',\n",
       " 'Dial Type',\n",
       " 'Engine',\n",
       " 'Features',\n",
       " 'Functions',\n",
       " 'Gender',\n",
       " 'Hands',\n",
       " 'Model',\n",
       " 'Movement',\n",
       " 'SKU',\n",
       " 'Series',\n",
       " 'Style',\n",
       " 'UPC Code',\n",
       " 'Warranty',\n",
       " 'Watch Label',\n",
       " 'Watch Style',\n",
       " 'Water Resistance',\n",
       " 'price']"
      ]
     },
     "execution_count": 29,
     "metadata": {},
     "output_type": "execute_result"
    }
   ],
   "source": [
    "cols"
   ]
  },
  {
   "cell_type": "code",
   "execution_count": 31,
   "metadata": {},
   "outputs": [],
   "source": [
    "df = deepcopy(df[cols])"
   ]
  },
  {
   "cell_type": "code",
   "execution_count": null,
   "metadata": {},
   "outputs": [],
   "source": []
  },
  {
   "cell_type": "code",
   "execution_count": 37,
   "metadata": {},
   "outputs": [],
   "source": [
    "cols = df.columns.to_list()"
   ]
  },
  {
   "cell_type": "markdown",
   "metadata": {},
   "source": [
    "# Delete Top 20% of rows that have missing columns"
   ]
  },
  {
   "cell_type": "code",
   "execution_count": 42,
   "metadata": {},
   "outputs": [
    {
     "data": {
      "text/plain": [
       "Band Material       3994\n",
       "Band Type           5011\n",
       "Band Width          2948\n",
       "Bezel Material      2238\n",
       "Bezel               4166\n",
       "Brand                  0\n",
       "Calendar            4458\n",
       "Case Back           1914\n",
       "Case Diameter         18\n",
       "Case Material          8\n",
       "Case Shape            67\n",
       "Case Thickness      2579\n",
       "Clasp               1711\n",
       "Crown               2381\n",
       "Crystal              214\n",
       "Dial Color            32\n",
       "Dial Type             21\n",
       "Engine              4731\n",
       "Features             456\n",
       "Functions             19\n",
       "Gender                 0\n",
       "Hands               1129\n",
       "Model                  0\n",
       "Movement               0\n",
       "SKU                    0\n",
       "Series              2780\n",
       "Style                  0\n",
       "UPC Code            2807\n",
       "Warranty             161\n",
       "Watch Label         2862\n",
       "Watch Style            0\n",
       "Water Resistance     299\n",
       "price                  0\n",
       "dtype: int64"
      ]
     },
     "execution_count": 42,
     "metadata": {},
     "output_type": "execute_result"
    }
   ],
   "source": [
    "df.isna().sum()"
   ]
  },
  {
   "cell_type": "code",
   "execution_count": 55,
   "metadata": {},
   "outputs": [
    {
     "name": "stdout",
     "output_type": "stream",
     "text": [
      "20\n",
      "(10545, 33) \n",
      "\n",
      "21\n",
      "(10514, 33) \n",
      "\n",
      "22\n",
      "(10058, 33) \n",
      "\n",
      "23\n",
      "(9625, 33) \n",
      "\n",
      "24\n",
      "(9398, 33) \n",
      "\n",
      "25\n",
      "(9072, 33) \n",
      "\n",
      "26\n",
      "(8682, 33) \n",
      "\n",
      "27\n",
      "(8114, 33) \n",
      "\n",
      "28\n",
      "(7329, 33) \n",
      "\n",
      "29\n",
      "(6404, 33) \n",
      "\n",
      "30\n",
      "(5194, 33) \n",
      "\n",
      "31\n",
      "(3845, 33) \n",
      "\n",
      "32\n",
      "(2430, 33) \n",
      "\n"
     ]
    }
   ],
   "source": [
    "#find where the threshhold is that keeps 80% of watches\n",
    "for i in range(20,33):\n",
    "    print(i)\n",
    "    print(df.dropna(thresh = i).shape, \"\\n\")\n",
    "    "
   ]
  },
  {
   "cell_type": "code",
   "execution_count": 59,
   "metadata": {},
   "outputs": [],
   "source": [
    "df.dropna(thresh = 26, inplace=True)"
   ]
  },
  {
   "cell_type": "markdown",
   "metadata": {},
   "source": [
    "# Fix Columns"
   ]
  },
  {
   "cell_type": "markdown",
   "metadata": {},
   "source": [
    "## Band Material"
   ]
  },
  {
   "cell_type": "code",
   "execution_count": 71,
   "metadata": {},
   "outputs": [],
   "source": [
    "band_material = df['Band Material'].value_counts().to_dict()"
   ]
  },
  {
   "cell_type": "code",
   "execution_count": 96,
   "metadata": {},
   "outputs": [],
   "source": [
    "band_material_keep = []"
   ]
  },
  {
   "cell_type": "code",
   "execution_count": 97,
   "metadata": {},
   "outputs": [],
   "source": [
    "for i in band_material:\n",
    "    if band_material[i] >= 46:\n",
    "        band_material_keep.append(i)"
   ]
  },
  {
   "cell_type": "code",
   "execution_count": 98,
   "metadata": {},
   "outputs": [
    {
     "data": {
      "text/plain": [
       "['Stainless Steel',\n",
       " 'Leather',\n",
       " 'Genuine Leather',\n",
       " 'Rubber',\n",
       " 'Alligator Leather',\n",
       " 'Silicone',\n",
       " 'Calfskin Leather',\n",
       " 'Stainless Steel Mesh',\n",
       " 'Polyurethane',\n",
       " 'Ceramic']"
      ]
     },
     "execution_count": 98,
     "metadata": {},
     "output_type": "execute_result"
    }
   ],
   "source": [
    "band_material_keep"
   ]
  },
  {
   "cell_type": "code",
   "execution_count": 143,
   "metadata": {},
   "outputs": [],
   "source": [
    "#see bottom 10%\n",
    "matches = []\n",
    "for i in band_material:\n",
    "    if band_material[i] in range(10,45):\n",
    "        matches.append(i)"
   ]
  },
  {
   "cell_type": "code",
   "execution_count": 146,
   "metadata": {},
   "outputs": [],
   "source": [
    "band_material_keep = matches+band_material_keep"
   ]
  },
  {
   "cell_type": "code",
   "execution_count": 153,
   "metadata": {},
   "outputs": [],
   "source": [
    "band_material_keep = list(set(band_material_keep))"
   ]
  },
  {
   "cell_type": "code",
   "execution_count": 156,
   "metadata": {},
   "outputs": [],
   "source": [
    "band_material_keep.sort()"
   ]
  },
  {
   "cell_type": "code",
   "execution_count": null,
   "metadata": {},
   "outputs": [],
   "source": []
  },
  {
   "cell_type": "code",
   "execution_count": 174,
   "metadata": {},
   "outputs": [],
   "source": [
    "band_material_keep.remove(\"(Alligator) Leather\")"
   ]
  },
  {
   "cell_type": "code",
   "execution_count": 178,
   "metadata": {},
   "outputs": [],
   "source": [
    "#function to turn '(Alligator) Leather' to 'Alligator Leather'\n",
    "def alligator(string):\n",
    "    if string == \"Alligator Leather\":\n",
    "        return 'Alligator'\n",
    "    else:\n",
    "        return string"
   ]
  },
  {
   "cell_type": "code",
   "execution_count": 179,
   "metadata": {},
   "outputs": [],
   "source": [
    "df[\"Band Material\"] = df[\"Band Material\"].apply(alligator)"
   ]
  },
  {
   "cell_type": "code",
   "execution_count": null,
   "metadata": {},
   "outputs": [],
   "source": []
  },
  {
   "cell_type": "code",
   "execution_count": 190,
   "metadata": {},
   "outputs": [],
   "source": [
    "crocodile = band_material_keep[5:10]"
   ]
  },
  {
   "cell_type": "code",
   "execution_count": 191,
   "metadata": {},
   "outputs": [],
   "source": [
    "#function to turn '(Alligator) Leather' to 'Alligator Leather'\n",
    "def croc(string):\n",
    "    if string in crocodile:\n",
    "        return 'Crocodile'\n",
    "    else:\n",
    "        return string"
   ]
  },
  {
   "cell_type": "code",
   "execution_count": null,
   "metadata": {},
   "outputs": [],
   "source": []
  },
  {
   "cell_type": "code",
   "execution_count": 197,
   "metadata": {},
   "outputs": [],
   "source": [
    "df[\"Band Material\"] = df[\"Band Material\"].apply(croc)"
   ]
  },
  {
   "cell_type": "code",
   "execution_count": 210,
   "metadata": {},
   "outputs": [],
   "source": [
    "for i in band_material_keep:\n",
    "    if \"Alligator\" in i:\n",
    "        band_material_keep.remove(i)"
   ]
  },
  {
   "cell_type": "code",
   "execution_count": 216,
   "metadata": {},
   "outputs": [],
   "source": [
    "for i in band_material_keep:\n",
    "    if \"Croco\" in i:\n",
    "        band_material_keep.remove(i)\n",
    "    else:\n",
    "        continue"
   ]
  },
  {
   "cell_type": "code",
   "execution_count": 219,
   "metadata": {},
   "outputs": [],
   "source": [
    "band_material_keep.append(\"Crocodile\")"
   ]
  },
  {
   "cell_type": "code",
   "execution_count": 220,
   "metadata": {},
   "outputs": [],
   "source": [
    "band_material_keep.append('Alligator')"
   ]
  },
  {
   "cell_type": "code",
   "execution_count": 222,
   "metadata": {},
   "outputs": [],
   "source": [
    "band_material_keep.sort()"
   ]
  },
  {
   "cell_type": "code",
   "execution_count": null,
   "metadata": {},
   "outputs": [],
   "source": []
  },
  {
   "cell_type": "code",
   "execution_count": 224,
   "metadata": {},
   "outputs": [],
   "source": [
    "#function to turn '(Alligator) Leather' to 'Alligator Leather'\n",
    "def silicone(string):\n",
    "    if string == \"Silicon\":\n",
    "        return 'Silicone'\n",
    "    else:\n",
    "        return string"
   ]
  },
  {
   "cell_type": "code",
   "execution_count": 225,
   "metadata": {},
   "outputs": [],
   "source": [
    "df[\"Band Material\"] = df[\"Band Material\"].apply(silicone)"
   ]
  },
  {
   "cell_type": "code",
   "execution_count": null,
   "metadata": {},
   "outputs": [],
   "source": []
  },
  {
   "cell_type": "code",
   "execution_count": 239,
   "metadata": {},
   "outputs": [
    {
     "data": {
      "text/html": [
       "<div>\n",
       "<style scoped>\n",
       "    .dataframe tbody tr th:only-of-type {\n",
       "        vertical-align: middle;\n",
       "    }\n",
       "\n",
       "    .dataframe tbody tr th {\n",
       "        vertical-align: top;\n",
       "    }\n",
       "\n",
       "    .dataframe thead th {\n",
       "        text-align: right;\n",
       "    }\n",
       "</style>\n",
       "<table border=\"1\" class=\"dataframe\">\n",
       "  <thead>\n",
       "    <tr style=\"text-align: right;\">\n",
       "      <th></th>\n",
       "      <th>Band Material</th>\n",
       "      <th>Band Type</th>\n",
       "      <th>Band Width</th>\n",
       "      <th>Bezel Material</th>\n",
       "      <th>Bezel</th>\n",
       "      <th>Brand</th>\n",
       "      <th>Calendar</th>\n",
       "      <th>Case Back</th>\n",
       "      <th>Case Diameter</th>\n",
       "      <th>Case Material</th>\n",
       "      <th>...</th>\n",
       "      <th>Movement</th>\n",
       "      <th>SKU</th>\n",
       "      <th>Series</th>\n",
       "      <th>Style</th>\n",
       "      <th>UPC Code</th>\n",
       "      <th>Warranty</th>\n",
       "      <th>Watch Label</th>\n",
       "      <th>Watch Style</th>\n",
       "      <th>Water Resistance</th>\n",
       "      <th>price</th>\n",
       "    </tr>\n",
       "  </thead>\n",
       "  <tbody>\n",
       "    <tr>\n",
       "      <td>6</td>\n",
       "      <td>18kt Rose Gold</td>\n",
       "      <td>Bracelet</td>\n",
       "      <td>NaN</td>\n",
       "      <td>18kt Rose Gold</td>\n",
       "      <td>Fixed</td>\n",
       "      <td>Patek Philippe</td>\n",
       "      <td>Perpetual Calendar</td>\n",
       "      <td>Transparent</td>\n",
       "      <td>40 mm</td>\n",
       "      <td>18kt Rose Gold</td>\n",
       "      <td>...</td>\n",
       "      <td>Hand Wind</td>\n",
       "      <td>PK-52041R001</td>\n",
       "      <td>Grand Complications</td>\n",
       "      <td>Watches</td>\n",
       "      <td>NaN</td>\n",
       "      <td>2 Year WatchCenter Warranty</td>\n",
       "      <td>Swiss Made</td>\n",
       "      <td>Luxury Watches</td>\n",
       "      <td>30 meters / 100 feet</td>\n",
       "      <td>\\n                        $323,200.00         ...</td>\n",
       "    </tr>\n",
       "    <tr>\n",
       "      <td>89</td>\n",
       "      <td>18 Carat Rose Gold</td>\n",
       "      <td>NaN</td>\n",
       "      <td>NaN</td>\n",
       "      <td>18 Carat Rose Gold</td>\n",
       "      <td>Fixed</td>\n",
       "      <td>Audemars Piguet</td>\n",
       "      <td>Date display between 4 and 5 o'clock position</td>\n",
       "      <td>NaN</td>\n",
       "      <td>41 mm</td>\n",
       "      <td>18 Carat Rose Gold</td>\n",
       "      <td>...</td>\n",
       "      <td>Automatic</td>\n",
       "      <td>AP26331OROO1220OR02</td>\n",
       "      <td>Royal Oak</td>\n",
       "      <td>Watches</td>\n",
       "      <td>NaN</td>\n",
       "      <td>2 Year WatchCenter Warranty</td>\n",
       "      <td>Swiss Made</td>\n",
       "      <td>Luxury Watches</td>\n",
       "      <td>50 meters / 165 feet</td>\n",
       "      <td>\\n                        $56,600.00          ...</td>\n",
       "    </tr>\n",
       "    <tr>\n",
       "      <td>184</td>\n",
       "      <td>18kt Rose Gold</td>\n",
       "      <td>NaN</td>\n",
       "      <td>NaN</td>\n",
       "      <td>Diamond Set</td>\n",
       "      <td>Fixed</td>\n",
       "      <td>Audemars Piguet</td>\n",
       "      <td>Date display at the 3 o'clock position</td>\n",
       "      <td>NaN</td>\n",
       "      <td>42 mm x 33 mm</td>\n",
       "      <td>18kt Rose Gold</td>\n",
       "      <td>...</td>\n",
       "      <td>Quartz</td>\n",
       "      <td>AP67651ORZZ1261OR01</td>\n",
       "      <td>Royal Oak</td>\n",
       "      <td>Watches</td>\n",
       "      <td>NaN</td>\n",
       "      <td>2 Year WatchCenter Warranty</td>\n",
       "      <td>Swiss Made</td>\n",
       "      <td>Luxury Watches</td>\n",
       "      <td>50 meters / 165 feet</td>\n",
       "      <td>\\n                        $37,800.00          ...</td>\n",
       "    </tr>\n",
       "    <tr>\n",
       "      <td>277</td>\n",
       "      <td>18kt Rose Gold</td>\n",
       "      <td>Bracelet</td>\n",
       "      <td>NaN</td>\n",
       "      <td>18kt Rose Gold</td>\n",
       "      <td>Fixed</td>\n",
       "      <td>Cartier</td>\n",
       "      <td>Date display at the 6 o'clock position</td>\n",
       "      <td>NaN</td>\n",
       "      <td>35 mm</td>\n",
       "      <td>18kt Rose Gold</td>\n",
       "      <td>...</td>\n",
       "      <td>Automatic</td>\n",
       "      <td>CRTWJCL0033</td>\n",
       "      <td>Cle</td>\n",
       "      <td>Watches</td>\n",
       "      <td>NaN</td>\n",
       "      <td>2 Year WatchCenter Warranty</td>\n",
       "      <td>Swiss Made</td>\n",
       "      <td>Luxury Watches</td>\n",
       "      <td>30 meters / 100 feet</td>\n",
       "      <td>\\n                        $29,100.00          ...</td>\n",
       "    </tr>\n",
       "    <tr>\n",
       "      <td>348</td>\n",
       "      <td>18kt Rose Gold</td>\n",
       "      <td>Bracelet</td>\n",
       "      <td>25 mm</td>\n",
       "      <td>NaN</td>\n",
       "      <td>Fixed</td>\n",
       "      <td>Omega</td>\n",
       "      <td>Date display at the 6 o'clock position</td>\n",
       "      <td>Transparent</td>\n",
       "      <td>38 mm</td>\n",
       "      <td>18kt Red Gold</td>\n",
       "      <td>...</td>\n",
       "      <td>Automatic</td>\n",
       "      <td>OM12355382202001</td>\n",
       "      <td>Constellation</td>\n",
       "      <td>Watches</td>\n",
       "      <td>6.834984e+11</td>\n",
       "      <td>2 Year WatchCenter Warranty</td>\n",
       "      <td>Swiss Made</td>\n",
       "      <td>Luxury Watches</td>\n",
       "      <td>100 meters / 330 feet</td>\n",
       "      <td>\\n                        $44,000.00          ...</td>\n",
       "    </tr>\n",
       "    <tr>\n",
       "      <td>...</td>\n",
       "      <td>...</td>\n",
       "      <td>...</td>\n",
       "      <td>...</td>\n",
       "      <td>...</td>\n",
       "      <td>...</td>\n",
       "      <td>...</td>\n",
       "      <td>...</td>\n",
       "      <td>...</td>\n",
       "      <td>...</td>\n",
       "      <td>...</td>\n",
       "      <td>...</td>\n",
       "      <td>...</td>\n",
       "      <td>...</td>\n",
       "      <td>...</td>\n",
       "      <td>...</td>\n",
       "      <td>...</td>\n",
       "      <td>...</td>\n",
       "      <td>...</td>\n",
       "      <td>...</td>\n",
       "      <td>...</td>\n",
       "      <td>...</td>\n",
       "    </tr>\n",
       "    <tr>\n",
       "      <td>9591</td>\n",
       "      <td>18K Rose Gold Plated Stainless Steel</td>\n",
       "      <td>Bracelet</td>\n",
       "      <td>16 mm</td>\n",
       "      <td>18K Rose Gold Plated Stainless Steel</td>\n",
       "      <td>Fixed</td>\n",
       "      <td>JBW</td>\n",
       "      <td>NaN</td>\n",
       "      <td>Solid</td>\n",
       "      <td>34 mm</td>\n",
       "      <td>18K Rose Gold Plated Stainless Steel</td>\n",
       "      <td>...</td>\n",
       "      <td>Quartz</td>\n",
       "      <td>JBW-J6356B</td>\n",
       "      <td>Gala</td>\n",
       "      <td>Watches</td>\n",
       "      <td>7.389640e+11</td>\n",
       "      <td>With Manufacturers Guarantee</td>\n",
       "      <td>Swiss Movt</td>\n",
       "      <td>Dress Watches</td>\n",
       "      <td>50 meters / 165 feet</td>\n",
       "      <td>\\n                        $615.00             ...</td>\n",
       "    </tr>\n",
       "    <tr>\n",
       "      <td>9761</td>\n",
       "      <td>Black Rubber and Rose Gold-tone Steel</td>\n",
       "      <td>Strap</td>\n",
       "      <td>23 mm</td>\n",
       "      <td>Fixed with Diamonds</td>\n",
       "      <td>Fixed with Diamonds</td>\n",
       "      <td>JBW</td>\n",
       "      <td>NaN</td>\n",
       "      <td>Solid</td>\n",
       "      <td>50 mm</td>\n",
       "      <td>Rose Gold-tone Stainless Steel</td>\n",
       "      <td>...</td>\n",
       "      <td>Quartz</td>\n",
       "      <td>JBW-6225-L</td>\n",
       "      <td>562</td>\n",
       "      <td>Watches</td>\n",
       "      <td>7.217623e+11</td>\n",
       "      <td>With Manufacturers Guarantee</td>\n",
       "      <td>NaN</td>\n",
       "      <td>Dress Watches</td>\n",
       "      <td>100 meters / 330 feet</td>\n",
       "      <td>\\n                        $1,090.00           ...</td>\n",
       "    </tr>\n",
       "    <tr>\n",
       "      <td>9842</td>\n",
       "      <td>18kt Rose Gold-Plated Stainless Steel</td>\n",
       "      <td>Bracelet</td>\n",
       "      <td>18 mm</td>\n",
       "      <td>Fixed</td>\n",
       "      <td>Fixed</td>\n",
       "      <td>JBW</td>\n",
       "      <td>Date display at the 6 o'clock position</td>\n",
       "      <td>NaN</td>\n",
       "      <td>38 mm</td>\n",
       "      <td>18K Rose Gold-Plated Stainless Steel</td>\n",
       "      <td>...</td>\n",
       "      <td>Quartz</td>\n",
       "      <td>JBW-J6340A</td>\n",
       "      <td>Capri</td>\n",
       "      <td>Watches</td>\n",
       "      <td>7.389640e+11</td>\n",
       "      <td>With Manufacturers Guarantee</td>\n",
       "      <td>NaN</td>\n",
       "      <td>Dress Watches</td>\n",
       "      <td>50 meters / 165 feet</td>\n",
       "      <td>\\n                        $475.00             ...</td>\n",
       "    </tr>\n",
       "    <tr>\n",
       "      <td>10117</td>\n",
       "      <td>Ceramic and Rose Gold-tone Metal</td>\n",
       "      <td>Bracelet</td>\n",
       "      <td>20 mm</td>\n",
       "      <td>Stainless Steel</td>\n",
       "      <td>Fixed</td>\n",
       "      <td>Anne Klein</td>\n",
       "      <td>NaN</td>\n",
       "      <td>Solid</td>\n",
       "      <td>36 mm</td>\n",
       "      <td>Metal</td>\n",
       "      <td>...</td>\n",
       "      <td>Quartz</td>\n",
       "      <td>ANK-2834LPGB</td>\n",
       "      <td>NaN</td>\n",
       "      <td>Watches</td>\n",
       "      <td>8.670260e+10</td>\n",
       "      <td>2 Year WatchCenter Warranty</td>\n",
       "      <td>NaN</td>\n",
       "      <td>Dress Watches</td>\n",
       "      <td>30 meters / 100 feet</td>\n",
       "      <td>\\n                        $150.00             ...</td>\n",
       "    </tr>\n",
       "    <tr>\n",
       "      <td>10245</td>\n",
       "      <td>Rose Gold-tone Stainless Steel and White Ceramic</td>\n",
       "      <td>Bracelet</td>\n",
       "      <td>16 mm</td>\n",
       "      <td>Fixed rose gold-tone bezel set with crystals</td>\n",
       "      <td>Fixed rose gold-tone bezel set with crystals</td>\n",
       "      <td>Akribos XXIV</td>\n",
       "      <td>NaN</td>\n",
       "      <td>Solid</td>\n",
       "      <td>35 mm</td>\n",
       "      <td>Rose Gold-tone Stainless Steel</td>\n",
       "      <td>...</td>\n",
       "      <td>Quartz</td>\n",
       "      <td>AK534RG</td>\n",
       "      <td>NaN</td>\n",
       "      <td>Watches</td>\n",
       "      <td>8.485720e+11</td>\n",
       "      <td>With Manufacturers Guarantee</td>\n",
       "      <td>NaN</td>\n",
       "      <td>Dress Watches</td>\n",
       "      <td>30 meters / 100 feet</td>\n",
       "      <td>\\n                        $695.00             ...</td>\n",
       "    </tr>\n",
       "  </tbody>\n",
       "</table>\n",
       "<p>104 rows × 33 columns</p>\n",
       "</div>"
      ],
      "text/plain": [
       "                                          Band Material Band Type Band Width  \\\n",
       "6                                        18kt Rose Gold  Bracelet        NaN   \n",
       "89                                   18 Carat Rose Gold       NaN        NaN   \n",
       "184                                      18kt Rose Gold       NaN        NaN   \n",
       "277                                      18kt Rose Gold  Bracelet        NaN   \n",
       "348                                      18kt Rose Gold  Bracelet      25 mm   \n",
       "...                                                 ...       ...        ...   \n",
       "9591               18K Rose Gold Plated Stainless Steel  Bracelet      16 mm   \n",
       "9761              Black Rubber and Rose Gold-tone Steel     Strap      23 mm   \n",
       "9842              18kt Rose Gold-Plated Stainless Steel  Bracelet      18 mm   \n",
       "10117                  Ceramic and Rose Gold-tone Metal  Bracelet      20 mm   \n",
       "10245  Rose Gold-tone Stainless Steel and White Ceramic  Bracelet      16 mm   \n",
       "\n",
       "                                     Bezel Material  \\\n",
       "6                                    18kt Rose Gold   \n",
       "89                               18 Carat Rose Gold   \n",
       "184                                     Diamond Set   \n",
       "277                                  18kt Rose Gold   \n",
       "348                                             NaN   \n",
       "...                                             ...   \n",
       "9591           18K Rose Gold Plated Stainless Steel   \n",
       "9761                            Fixed with Diamonds   \n",
       "9842                                          Fixed   \n",
       "10117                               Stainless Steel   \n",
       "10245  Fixed rose gold-tone bezel set with crystals   \n",
       "\n",
       "                                              Bezel            Brand  \\\n",
       "6                                             Fixed   Patek Philippe   \n",
       "89                                            Fixed  Audemars Piguet   \n",
       "184                                           Fixed  Audemars Piguet   \n",
       "277                                           Fixed          Cartier   \n",
       "348                                           Fixed            Omega   \n",
       "...                                             ...              ...   \n",
       "9591                                          Fixed              JBW   \n",
       "9761                            Fixed with Diamonds              JBW   \n",
       "9842                                          Fixed              JBW   \n",
       "10117                                         Fixed       Anne Klein   \n",
       "10245  Fixed rose gold-tone bezel set with crystals     Akribos XXIV   \n",
       "\n",
       "                                            Calendar    Case Back  \\\n",
       "6                                 Perpetual Calendar  Transparent   \n",
       "89     Date display between 4 and 5 o'clock position          NaN   \n",
       "184           Date display at the 3 o'clock position          NaN   \n",
       "277           Date display at the 6 o'clock position          NaN   \n",
       "348           Date display at the 6 o'clock position  Transparent   \n",
       "...                                              ...          ...   \n",
       "9591                                             NaN        Solid   \n",
       "9761                                             NaN        Solid   \n",
       "9842          Date display at the 6 o'clock position          NaN   \n",
       "10117                                            NaN        Solid   \n",
       "10245                                            NaN        Solid   \n",
       "\n",
       "       Case Diameter                         Case Material  ...   Movement  \\\n",
       "6              40 mm                        18kt Rose Gold  ...  Hand Wind   \n",
       "89             41 mm                    18 Carat Rose Gold  ...  Automatic   \n",
       "184    42 mm x 33 mm                        18kt Rose Gold  ...     Quartz   \n",
       "277            35 mm                        18kt Rose Gold  ...  Automatic   \n",
       "348            38 mm                         18kt Red Gold  ...  Automatic   \n",
       "...              ...                                   ...  ...        ...   \n",
       "9591           34 mm  18K Rose Gold Plated Stainless Steel  ...     Quartz   \n",
       "9761           50 mm        Rose Gold-tone Stainless Steel  ...     Quartz   \n",
       "9842           38 mm  18K Rose Gold-Plated Stainless Steel  ...     Quartz   \n",
       "10117          36 mm                                 Metal  ...     Quartz   \n",
       "10245          35 mm        Rose Gold-tone Stainless Steel  ...     Quartz   \n",
       "\n",
       "                       SKU               Series    Style      UPC Code  \\\n",
       "6             PK-52041R001  Grand Complications  Watches           NaN   \n",
       "89     AP26331OROO1220OR02            Royal Oak  Watches           NaN   \n",
       "184    AP67651ORZZ1261OR01            Royal Oak  Watches           NaN   \n",
       "277            CRTWJCL0033                  Cle  Watches           NaN   \n",
       "348       OM12355382202001        Constellation  Watches  6.834984e+11   \n",
       "...                    ...                  ...      ...           ...   \n",
       "9591            JBW-J6356B                 Gala  Watches  7.389640e+11   \n",
       "9761            JBW-6225-L                  562  Watches  7.217623e+11   \n",
       "9842            JBW-J6340A                Capri  Watches  7.389640e+11   \n",
       "10117         ANK-2834LPGB                  NaN  Watches  8.670260e+10   \n",
       "10245              AK534RG                  NaN  Watches  8.485720e+11   \n",
       "\n",
       "                           Warranty Watch Label     Watch Style  \\\n",
       "6       2 Year WatchCenter Warranty  Swiss Made  Luxury Watches   \n",
       "89      2 Year WatchCenter Warranty  Swiss Made  Luxury Watches   \n",
       "184     2 Year WatchCenter Warranty  Swiss Made  Luxury Watches   \n",
       "277     2 Year WatchCenter Warranty  Swiss Made  Luxury Watches   \n",
       "348     2 Year WatchCenter Warranty  Swiss Made  Luxury Watches   \n",
       "...                             ...         ...             ...   \n",
       "9591   With Manufacturers Guarantee  Swiss Movt   Dress Watches   \n",
       "9761   With Manufacturers Guarantee         NaN   Dress Watches   \n",
       "9842   With Manufacturers Guarantee         NaN   Dress Watches   \n",
       "10117   2 Year WatchCenter Warranty         NaN   Dress Watches   \n",
       "10245  With Manufacturers Guarantee         NaN   Dress Watches   \n",
       "\n",
       "            Water Resistance  \\\n",
       "6       30 meters / 100 feet   \n",
       "89      50 meters / 165 feet   \n",
       "184     50 meters / 165 feet   \n",
       "277     30 meters / 100 feet   \n",
       "348    100 meters / 330 feet   \n",
       "...                      ...   \n",
       "9591    50 meters / 165 feet   \n",
       "9761   100 meters / 330 feet   \n",
       "9842    50 meters / 165 feet   \n",
       "10117   30 meters / 100 feet   \n",
       "10245   30 meters / 100 feet   \n",
       "\n",
       "                                                   price  \n",
       "6      \\n                        $323,200.00         ...  \n",
       "89     \\n                        $56,600.00          ...  \n",
       "184    \\n                        $37,800.00          ...  \n",
       "277    \\n                        $29,100.00          ...  \n",
       "348    \\n                        $44,000.00          ...  \n",
       "...                                                  ...  \n",
       "9591   \\n                        $615.00             ...  \n",
       "9761   \\n                        $1,090.00           ...  \n",
       "9842   \\n                        $475.00             ...  \n",
       "10117  \\n                        $150.00             ...  \n",
       "10245  \\n                        $695.00             ...  \n",
       "\n",
       "[104 rows x 33 columns]"
      ]
     },
     "execution_count": 239,
     "metadata": {},
     "output_type": "execute_result"
    }
   ],
   "source": [
    "#problem I had is if having multiple matches in list would hurt algorithm\n",
    "#solution is if they are in list and we loop through list, if we hit one, it returns that name\n",
    "df[df[\"Band Material\"].str.contains(\"Rose Gold\", na=False)]\n",
    "\n",
    "#df[df[\"Band Material\"].str.contains(\"Gold\", na=False)]"
   ]
  },
  {
   "cell_type": "code",
   "execution_count": null,
   "metadata": {},
   "outputs": [],
   "source": []
  },
  {
   "cell_type": "code",
   "execution_count": 247,
   "metadata": {},
   "outputs": [],
   "source": [
    "for i in band_material_keep:\n",
    "    if \"Stainless Steel\" in i:\n",
    "        band_material_keep.remove(i)\n",
    "    else:\n",
    "        continue"
   ]
  },
  {
   "cell_type": "code",
   "execution_count": 257,
   "metadata": {},
   "outputs": [],
   "source": [
    "for i in band_material_keep:\n",
    "    if \"Leather\" in i:\n",
    "        band_material_keep.remove(i)\n",
    "    else:\n",
    "        continue"
   ]
  },
  {
   "cell_type": "code",
   "execution_count": 249,
   "metadata": {},
   "outputs": [],
   "source": [
    "band_material_keep.remove(\"Silicon\")"
   ]
  },
  {
   "cell_type": "code",
   "execution_count": 253,
   "metadata": {},
   "outputs": [],
   "source": [
    "band_material_keep.append('Rose Gold')"
   ]
  },
  {
   "cell_type": "code",
   "execution_count": 259,
   "metadata": {},
   "outputs": [],
   "source": [
    "band_material_keep.append(\"Leather\")"
   ]
  },
  {
   "cell_type": "code",
   "execution_count": 261,
   "metadata": {},
   "outputs": [
    {
     "data": {
      "text/plain": [
       "['Alligator',\n",
       " 'Alloy',\n",
       " 'Ceramic',\n",
       " 'Crocodile',\n",
       " 'Fabric',\n",
       " 'Gold',\n",
       " 'Leather',\n",
       " 'NATO Nylon',\n",
       " 'Nylon',\n",
       " 'Polyurethane',\n",
       " 'Resin',\n",
       " 'Rose Gold',\n",
       " 'Rubber',\n",
       " 'Satin',\n",
       " 'Silicone',\n",
       " 'Stainless Steel',\n",
       " 'Textile',\n",
       " 'Titanium',\n",
       " 'Wood']"
      ]
     },
     "execution_count": 261,
     "metadata": {},
     "output_type": "execute_result"
    }
   ],
   "source": [
    "band_material_keep"
   ]
  },
  {
   "cell_type": "code",
   "execution_count": 267,
   "metadata": {},
   "outputs": [],
   "source": [
    "#reorganize by my heirarchy\n",
    "band_material_keep = ['Rose Gold',\n",
    "    'Gold',\n",
    "    'Alligator',\n",
    "    'Alloy',\n",
    "    'Ceramic',\n",
    "    'Crocodile',\n",
    "    'Fabric',\n",
    "    'Stainless Steel',\n",
    "    'Leather',\n",
    "    'NATO Nylon',\n",
    "    'Nylon',\n",
    "    'Polyurethane',\n",
    "    'Resin',\n",
    "    'Rubber',\n",
    "    'Satin',\n",
    "    'Silicone',\n",
    "    'Textile',\n",
    "    'Titanium',\n",
    "    'Wood']"
   ]
  },
  {
   "cell_type": "code",
   "execution_count": 287,
   "metadata": {},
   "outputs": [],
   "source": [
    "#function to clean band_material\n",
    "#looping through it all then adding \n",
    "def fix_column(string):\n",
    "    for i in band_material_keep:\n",
    "        if i in string:\n",
    "            return i\n",
    "        else:\n",
    "            continue\n",
    "    if string not in band_material_keep:\n",
    "        return \"Unknown\"\n",
    "    "
   ]
  },
  {
   "cell_type": "code",
   "execution_count": 275,
   "metadata": {},
   "outputs": [
    {
     "data": {
      "text/plain": [
       "2119"
      ]
     },
     "execution_count": 275,
     "metadata": {},
     "output_type": "execute_result"
    }
   ],
   "source": [
    "df[\"Band Material\"].isna().sum()"
   ]
  },
  {
   "cell_type": "code",
   "execution_count": 276,
   "metadata": {},
   "outputs": [],
   "source": [
    "df[\"Band Material\"].fillna(\"Unknown\", inplace = True)"
   ]
  },
  {
   "cell_type": "code",
   "execution_count": 288,
   "metadata": {},
   "outputs": [],
   "source": [
    "df[\"band_material_fixed\"] = df[\"Band Material\"].apply(fix_column)"
   ]
  },
  {
   "cell_type": "code",
   "execution_count": 289,
   "metadata": {},
   "outputs": [
    {
     "data": {
      "text/plain": [
       "0                Unknown\n",
       "2                Unknown\n",
       "3              Crocodile\n",
       "5              Alligator\n",
       "6              Rose Gold\n",
       "              ...       \n",
       "10647            Leather\n",
       "10648    Stainless Steel\n",
       "10649    Stainless Steel\n",
       "10650            Leather\n",
       "10651            Leather\n",
       "Name: band_material_fixed, Length: 8682, dtype: object"
      ]
     },
     "execution_count": 289,
     "metadata": {},
     "output_type": "execute_result"
    }
   ],
   "source": [
    "df[\"band_material_fixed\"]"
   ]
  },
  {
   "cell_type": "code",
   "execution_count": 290,
   "metadata": {
    "scrolled": true
   },
   "outputs": [
    {
     "data": {
      "text/plain": [
       "Stainless Steel    2624\n",
       "Unknown            2190\n",
       "Leather            2025\n",
       "Rubber              332\n",
       "Alligator           331\n",
       "Silicone            257\n",
       "Gold                253\n",
       "Crocodile           138\n",
       "Ceramic             131\n",
       "Rose Gold           104\n",
       "Polyurethane         77\n",
       "Nylon                38\n",
       "Titanium             32\n",
       "Wood                 32\n",
       "NATO Nylon           23\n",
       "Resin                22\n",
       "Satin                21\n",
       "Alloy                19\n",
       "Fabric               18\n",
       "Textile              15\n",
       "Name: band_material_fixed, dtype: int64"
      ]
     },
     "execution_count": 290,
     "metadata": {},
     "output_type": "execute_result"
    }
   ],
   "source": [
    "df[\"band_material_fixed\"].value_counts()"
   ]
  },
  {
   "cell_type": "code",
   "execution_count": null,
   "metadata": {},
   "outputs": [],
   "source": []
  },
  {
   "cell_type": "code",
   "execution_count": 293,
   "metadata": {},
   "outputs": [],
   "source": [
    "df.to_pickle(\"final_watches.pkl\")"
   ]
  },
  {
   "cell_type": "code",
   "execution_count": 295,
   "metadata": {},
   "outputs": [
    {
     "data": {
      "text/html": [
       "<div>\n",
       "<style scoped>\n",
       "    .dataframe tbody tr th:only-of-type {\n",
       "        vertical-align: middle;\n",
       "    }\n",
       "\n",
       "    .dataframe tbody tr th {\n",
       "        vertical-align: top;\n",
       "    }\n",
       "\n",
       "    .dataframe thead th {\n",
       "        text-align: right;\n",
       "    }\n",
       "</style>\n",
       "<table border=\"1\" class=\"dataframe\">\n",
       "  <thead>\n",
       "    <tr style=\"text-align: right;\">\n",
       "      <th></th>\n",
       "      <th>Band Material</th>\n",
       "      <th>Band Type</th>\n",
       "      <th>Band Width</th>\n",
       "      <th>Bezel Material</th>\n",
       "      <th>Bezel</th>\n",
       "      <th>Brand</th>\n",
       "      <th>Calendar</th>\n",
       "      <th>Case Back</th>\n",
       "      <th>Case Diameter</th>\n",
       "      <th>Case Material</th>\n",
       "      <th>...</th>\n",
       "      <th>SKU</th>\n",
       "      <th>Series</th>\n",
       "      <th>Style</th>\n",
       "      <th>UPC Code</th>\n",
       "      <th>Warranty</th>\n",
       "      <th>Watch Label</th>\n",
       "      <th>Watch Style</th>\n",
       "      <th>Water Resistance</th>\n",
       "      <th>price</th>\n",
       "      <th>band_material_fixed</th>\n",
       "    </tr>\n",
       "  </thead>\n",
       "  <tbody>\n",
       "    <tr>\n",
       "      <td>0</td>\n",
       "      <td>Unknown</td>\n",
       "      <td>NaN</td>\n",
       "      <td>NaN</td>\n",
       "      <td>Platinum</td>\n",
       "      <td>NaN</td>\n",
       "      <td>Patek Philippe</td>\n",
       "      <td>Perpetual Calendar</td>\n",
       "      <td>Transparent</td>\n",
       "      <td>37.3 mm</td>\n",
       "      <td>Platinum</td>\n",
       "      <td>...</td>\n",
       "      <td>PK-5951P001</td>\n",
       "      <td>Grand Complications</td>\n",
       "      <td>Watches</td>\n",
       "      <td>NaN</td>\n",
       "      <td>2 Year WatchCenter Warranty</td>\n",
       "      <td>Swiss Made</td>\n",
       "      <td>Luxury Watches</td>\n",
       "      <td>30 meters / 100 feet</td>\n",
       "      <td>\\n                        $547,771.00         ...</td>\n",
       "      <td>Unknown</td>\n",
       "    </tr>\n",
       "    <tr>\n",
       "      <td>2</td>\n",
       "      <td>Unknown</td>\n",
       "      <td>NaN</td>\n",
       "      <td>NaN</td>\n",
       "      <td>Titanium</td>\n",
       "      <td>NaN</td>\n",
       "      <td>Audemars Piguet</td>\n",
       "      <td>NaN</td>\n",
       "      <td>Transparent</td>\n",
       "      <td>44 mm</td>\n",
       "      <td>Titanium</td>\n",
       "      <td>...</td>\n",
       "      <td>AP26587TIOOD031CA01</td>\n",
       "      <td>NaN</td>\n",
       "      <td>Watches</td>\n",
       "      <td>NaN</td>\n",
       "      <td>2 Year WatchCenter Warranty</td>\n",
       "      <td>Swiss Made</td>\n",
       "      <td>Luxury Watches</td>\n",
       "      <td>100 meters / 330 feet</td>\n",
       "      <td>\\n                        $316,799.98         ...</td>\n",
       "      <td>Unknown</td>\n",
       "    </tr>\n",
       "    <tr>\n",
       "      <td>3</td>\n",
       "      <td>Crocodile</td>\n",
       "      <td>Strap</td>\n",
       "      <td>16 mm</td>\n",
       "      <td>Platinum</td>\n",
       "      <td>Fixed</td>\n",
       "      <td>Patek Philippe</td>\n",
       "      <td>NaN</td>\n",
       "      <td>Transparent</td>\n",
       "      <td>33 mm</td>\n",
       "      <td>Platinum</td>\n",
       "      <td>...</td>\n",
       "      <td>PK-5959P011</td>\n",
       "      <td>Complications</td>\n",
       "      <td>Watches</td>\n",
       "      <td>NaN</td>\n",
       "      <td>2 Year WatchCenter Warranty</td>\n",
       "      <td>Swiss Made</td>\n",
       "      <td>Luxury Watches</td>\n",
       "      <td>30 meters / 100 feet</td>\n",
       "      <td>\\n                        $350,000.00         ...</td>\n",
       "      <td>Crocodile</td>\n",
       "    </tr>\n",
       "    <tr>\n",
       "      <td>5</td>\n",
       "      <td>Alligator</td>\n",
       "      <td>NaN</td>\n",
       "      <td>NaN</td>\n",
       "      <td>NaN</td>\n",
       "      <td>Fixed</td>\n",
       "      <td>Patek Philippe</td>\n",
       "      <td>Pointer Date</td>\n",
       "      <td>Sapphire crystal</td>\n",
       "      <td>44 mm</td>\n",
       "      <td>Platinum</td>\n",
       "      <td>...</td>\n",
       "      <td>PK-6102P-001</td>\n",
       "      <td>Grand Complications</td>\n",
       "      <td>Watches</td>\n",
       "      <td>NaN</td>\n",
       "      <td>2 Year WatchCenter Warranty</td>\n",
       "      <td>Swiss Made</td>\n",
       "      <td>Luxury Watches</td>\n",
       "      <td>30 meters / 100 feet</td>\n",
       "      <td>\\n                        $311,850.00         ...</td>\n",
       "      <td>Alligator</td>\n",
       "    </tr>\n",
       "    <tr>\n",
       "      <td>6</td>\n",
       "      <td>18kt Rose Gold</td>\n",
       "      <td>Bracelet</td>\n",
       "      <td>NaN</td>\n",
       "      <td>18kt Rose Gold</td>\n",
       "      <td>Fixed</td>\n",
       "      <td>Patek Philippe</td>\n",
       "      <td>Perpetual Calendar</td>\n",
       "      <td>Transparent</td>\n",
       "      <td>40 mm</td>\n",
       "      <td>18kt Rose Gold</td>\n",
       "      <td>...</td>\n",
       "      <td>PK-52041R001</td>\n",
       "      <td>Grand Complications</td>\n",
       "      <td>Watches</td>\n",
       "      <td>NaN</td>\n",
       "      <td>2 Year WatchCenter Warranty</td>\n",
       "      <td>Swiss Made</td>\n",
       "      <td>Luxury Watches</td>\n",
       "      <td>30 meters / 100 feet</td>\n",
       "      <td>\\n                        $323,200.00         ...</td>\n",
       "      <td>Rose Gold</td>\n",
       "    </tr>\n",
       "    <tr>\n",
       "      <td>...</td>\n",
       "      <td>...</td>\n",
       "      <td>...</td>\n",
       "      <td>...</td>\n",
       "      <td>...</td>\n",
       "      <td>...</td>\n",
       "      <td>...</td>\n",
       "      <td>...</td>\n",
       "      <td>...</td>\n",
       "      <td>...</td>\n",
       "      <td>...</td>\n",
       "      <td>...</td>\n",
       "      <td>...</td>\n",
       "      <td>...</td>\n",
       "      <td>...</td>\n",
       "      <td>...</td>\n",
       "      <td>...</td>\n",
       "      <td>...</td>\n",
       "      <td>...</td>\n",
       "      <td>...</td>\n",
       "      <td>...</td>\n",
       "      <td>...</td>\n",
       "    </tr>\n",
       "    <tr>\n",
       "      <td>10647</td>\n",
       "      <td>Leather</td>\n",
       "      <td>Strap</td>\n",
       "      <td>22 mm</td>\n",
       "      <td>Stainless Steel</td>\n",
       "      <td>Fixed</td>\n",
       "      <td>Fossil</td>\n",
       "      <td>NaN</td>\n",
       "      <td>Solid</td>\n",
       "      <td>43 mm</td>\n",
       "      <td>Stainless Steel</td>\n",
       "      <td>...</td>\n",
       "      <td>FSFS5061IE</td>\n",
       "      <td>Grant</td>\n",
       "      <td>Watches</td>\n",
       "      <td>7.964834e+11</td>\n",
       "      <td>2 Year WatchCenter Warranty</td>\n",
       "      <td>NaN</td>\n",
       "      <td>Dress Watches</td>\n",
       "      <td>50 meters / 165 feet</td>\n",
       "      <td>\\n                        $145.00             ...</td>\n",
       "      <td>Leather</td>\n",
       "    </tr>\n",
       "    <tr>\n",
       "      <td>10648</td>\n",
       "      <td>Stainless Steel</td>\n",
       "      <td>Bracelet</td>\n",
       "      <td>NaN</td>\n",
       "      <td>Stainless Steel</td>\n",
       "      <td>Fixed</td>\n",
       "      <td>Guy Laroche</td>\n",
       "      <td>NaN</td>\n",
       "      <td>Solid</td>\n",
       "      <td>32 mm</td>\n",
       "      <td>Stainless Steel</td>\n",
       "      <td>...</td>\n",
       "      <td>GUYLRL2008-05</td>\n",
       "      <td>Far East</td>\n",
       "      <td>Watches</td>\n",
       "      <td>8.420471e+11</td>\n",
       "      <td>2 Year WatchCenter Warranty</td>\n",
       "      <td>NaN</td>\n",
       "      <td>Dress Watches</td>\n",
       "      <td>50 meters / 165 feet</td>\n",
       "      <td>\\n                        $200.00             ...</td>\n",
       "      <td>Stainless Steel</td>\n",
       "    </tr>\n",
       "    <tr>\n",
       "      <td>10649</td>\n",
       "      <td>Stainless Steel</td>\n",
       "      <td>NaN</td>\n",
       "      <td>18 mm</td>\n",
       "      <td>Stainless Steel</td>\n",
       "      <td>Fixed</td>\n",
       "      <td>Invicta</td>\n",
       "      <td>NaN</td>\n",
       "      <td>Solid</td>\n",
       "      <td>35 mm</td>\n",
       "      <td>Stainless Steel</td>\n",
       "      <td>...</td>\n",
       "      <td>IN27443</td>\n",
       "      <td>Angel</td>\n",
       "      <td>Watches</td>\n",
       "      <td>8.866783e+11</td>\n",
       "      <td>1 Year Manufacturer Warranty</td>\n",
       "      <td>Japan Movt</td>\n",
       "      <td>Dress Watches</td>\n",
       "      <td>100 meters / 330 feet</td>\n",
       "      <td>\\n                        $595.00             ...</td>\n",
       "      <td>Stainless Steel</td>\n",
       "    </tr>\n",
       "    <tr>\n",
       "      <td>10650</td>\n",
       "      <td>Leather</td>\n",
       "      <td>NaN</td>\n",
       "      <td>14 mm</td>\n",
       "      <td>Stainless Steel</td>\n",
       "      <td>Fixed</td>\n",
       "      <td>Olivia Burton</td>\n",
       "      <td>NaN</td>\n",
       "      <td>Solid</td>\n",
       "      <td>38 mm</td>\n",
       "      <td>Stainless Steel</td>\n",
       "      <td>...</td>\n",
       "      <td>OLBOB16PP30</td>\n",
       "      <td>Watercolour Florals</td>\n",
       "      <td>Watches</td>\n",
       "      <td>5.060496e+12</td>\n",
       "      <td>2 Year WatchCenter Warranty</td>\n",
       "      <td>Japan Movt</td>\n",
       "      <td>Dress Watches</td>\n",
       "      <td>10 meters / 33 feet</td>\n",
       "      <td>\\n                        $140.00             ...</td>\n",
       "      <td>Leather</td>\n",
       "    </tr>\n",
       "    <tr>\n",
       "      <td>10651</td>\n",
       "      <td>Leather</td>\n",
       "      <td>NaN</td>\n",
       "      <td>NaN</td>\n",
       "      <td>Stainless Steel</td>\n",
       "      <td>Fixed</td>\n",
       "      <td>Saint Honore</td>\n",
       "      <td>NaN</td>\n",
       "      <td>Solid</td>\n",
       "      <td>26 mm</td>\n",
       "      <td>Stainless Steel</td>\n",
       "      <td>...</td>\n",
       "      <td>SNH7215248AIRBM</td>\n",
       "      <td>Charisma</td>\n",
       "      <td>Watches</td>\n",
       "      <td>NaN</td>\n",
       "      <td>2 Year Manufacturer Warranty</td>\n",
       "      <td>Swiss Made</td>\n",
       "      <td>Dress Watches</td>\n",
       "      <td>30 meters / 100 feet</td>\n",
       "      <td>\\n                        $410.00             ...</td>\n",
       "      <td>Leather</td>\n",
       "    </tr>\n",
       "  </tbody>\n",
       "</table>\n",
       "<p>8682 rows × 34 columns</p>\n",
       "</div>"
      ],
      "text/plain": [
       "         Band Material Band Type Band Width   Bezel Material  Bezel  \\\n",
       "0              Unknown       NaN        NaN         Platinum    NaN   \n",
       "2              Unknown       NaN        NaN         Titanium    NaN   \n",
       "3            Crocodile     Strap      16 mm         Platinum  Fixed   \n",
       "5            Alligator       NaN        NaN              NaN  Fixed   \n",
       "6       18kt Rose Gold  Bracelet        NaN   18kt Rose Gold  Fixed   \n",
       "...                ...       ...        ...              ...    ...   \n",
       "10647          Leather     Strap      22 mm  Stainless Steel  Fixed   \n",
       "10648  Stainless Steel  Bracelet        NaN  Stainless Steel  Fixed   \n",
       "10649  Stainless Steel       NaN      18 mm  Stainless Steel  Fixed   \n",
       "10650          Leather       NaN      14 mm  Stainless Steel  Fixed   \n",
       "10651          Leather       NaN        NaN  Stainless Steel  Fixed   \n",
       "\n",
       "                 Brand            Calendar         Case Back Case Diameter  \\\n",
       "0       Patek Philippe  Perpetual Calendar       Transparent       37.3 mm   \n",
       "2      Audemars Piguet                 NaN       Transparent         44 mm   \n",
       "3       Patek Philippe                 NaN       Transparent         33 mm   \n",
       "5       Patek Philippe        Pointer Date  Sapphire crystal         44 mm   \n",
       "6       Patek Philippe  Perpetual Calendar       Transparent         40 mm   \n",
       "...                ...                 ...               ...           ...   \n",
       "10647           Fossil                 NaN             Solid         43 mm   \n",
       "10648      Guy Laroche                 NaN             Solid         32 mm   \n",
       "10649          Invicta                 NaN             Solid         35 mm   \n",
       "10650    Olivia Burton                 NaN             Solid         38 mm   \n",
       "10651     Saint Honore                 NaN             Solid         26 mm   \n",
       "\n",
       "         Case Material  ...                  SKU               Series  \\\n",
       "0             Platinum  ...          PK-5951P001  Grand Complications   \n",
       "2             Titanium  ...  AP26587TIOOD031CA01                  NaN   \n",
       "3             Platinum  ...          PK-5959P011        Complications   \n",
       "5             Platinum  ...         PK-6102P-001  Grand Complications   \n",
       "6       18kt Rose Gold  ...         PK-52041R001  Grand Complications   \n",
       "...                ...  ...                  ...                  ...   \n",
       "10647  Stainless Steel  ...           FSFS5061IE                Grant   \n",
       "10648  Stainless Steel  ...        GUYLRL2008-05             Far East   \n",
       "10649  Stainless Steel  ...              IN27443                Angel   \n",
       "10650  Stainless Steel  ...          OLBOB16PP30  Watercolour Florals   \n",
       "10651  Stainless Steel  ...      SNH7215248AIRBM             Charisma   \n",
       "\n",
       "         Style      UPC Code                      Warranty Watch Label  \\\n",
       "0      Watches           NaN   2 Year WatchCenter Warranty  Swiss Made   \n",
       "2      Watches           NaN   2 Year WatchCenter Warranty  Swiss Made   \n",
       "3      Watches           NaN   2 Year WatchCenter Warranty  Swiss Made   \n",
       "5      Watches           NaN   2 Year WatchCenter Warranty  Swiss Made   \n",
       "6      Watches           NaN   2 Year WatchCenter Warranty  Swiss Made   \n",
       "...        ...           ...                           ...         ...   \n",
       "10647  Watches  7.964834e+11   2 Year WatchCenter Warranty         NaN   \n",
       "10648  Watches  8.420471e+11   2 Year WatchCenter Warranty         NaN   \n",
       "10649  Watches  8.866783e+11  1 Year Manufacturer Warranty  Japan Movt   \n",
       "10650  Watches  5.060496e+12   2 Year WatchCenter Warranty  Japan Movt   \n",
       "10651  Watches           NaN  2 Year Manufacturer Warranty  Swiss Made   \n",
       "\n",
       "          Watch Style       Water Resistance  \\\n",
       "0      Luxury Watches   30 meters / 100 feet   \n",
       "2      Luxury Watches  100 meters / 330 feet   \n",
       "3      Luxury Watches   30 meters / 100 feet   \n",
       "5      Luxury Watches   30 meters / 100 feet   \n",
       "6      Luxury Watches   30 meters / 100 feet   \n",
       "...               ...                    ...   \n",
       "10647   Dress Watches   50 meters / 165 feet   \n",
       "10648   Dress Watches   50 meters / 165 feet   \n",
       "10649   Dress Watches  100 meters / 330 feet   \n",
       "10650   Dress Watches    10 meters / 33 feet   \n",
       "10651   Dress Watches   30 meters / 100 feet   \n",
       "\n",
       "                                                   price band_material_fixed  \n",
       "0      \\n                        $547,771.00         ...             Unknown  \n",
       "2      \\n                        $316,799.98         ...             Unknown  \n",
       "3      \\n                        $350,000.00         ...           Crocodile  \n",
       "5      \\n                        $311,850.00         ...           Alligator  \n",
       "6      \\n                        $323,200.00         ...           Rose Gold  \n",
       "...                                                  ...                 ...  \n",
       "10647  \\n                        $145.00             ...             Leather  \n",
       "10648  \\n                        $200.00             ...     Stainless Steel  \n",
       "10649  \\n                        $595.00             ...     Stainless Steel  \n",
       "10650  \\n                        $140.00             ...             Leather  \n",
       "10651  \\n                        $410.00             ...             Leather  \n",
       "\n",
       "[8682 rows x 34 columns]"
      ]
     },
     "execution_count": 295,
     "metadata": {},
     "output_type": "execute_result"
    }
   ],
   "source": [
    "pd.read_pickle(\"final_watches.pkl\")"
   ]
  },
  {
   "cell_type": "code",
   "execution_count": null,
   "metadata": {},
   "outputs": [],
   "source": []
  }
 ],
 "metadata": {
  "kernelspec": {
   "display_name": "Python 3",
   "language": "python",
   "name": "python3"
  },
  "language_info": {
   "codemirror_mode": {
    "name": "ipython",
    "version": 3
   },
   "file_extension": ".py",
   "mimetype": "text/x-python",
   "name": "python",
   "nbconvert_exporter": "python",
   "pygments_lexer": "ipython3",
   "version": "3.7.4"
  },
  "toc": {
   "base_numbering": 1,
   "nav_menu": {},
   "number_sections": true,
   "sideBar": true,
   "skip_h1_title": false,
   "title_cell": "Table of Contents",
   "title_sidebar": "Contents",
   "toc_cell": false,
   "toc_position": {
    "height": "calc(100% - 180px)",
    "left": "10px",
    "top": "150px",
    "width": "213.333px"
   },
   "toc_section_display": true,
   "toc_window_display": true
  }
 },
 "nbformat": 4,
 "nbformat_minor": 2
}
