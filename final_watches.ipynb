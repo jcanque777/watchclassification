{
 "cells": [
  {
   "cell_type": "code",
   "execution_count": 1,
   "metadata": {},
   "outputs": [],
   "source": [
    "import pandas as pd"
   ]
  },
  {
   "cell_type": "code",
   "execution_count": 2,
   "metadata": {},
   "outputs": [],
   "source": [
    "import copy\n",
    "from copy import deepcopy"
   ]
  },
  {
   "cell_type": "code",
   "execution_count": 3,
   "metadata": {},
   "outputs": [],
   "source": [
    "df = pd.read_csv(\"df_watches.csv\")"
   ]
  },
  {
   "cell_type": "code",
   "execution_count": 4,
   "metadata": {},
   "outputs": [],
   "source": [
    "cols = df.columns.to_list()"
   ]
  },
  {
   "cell_type": "markdown",
   "metadata": {},
   "source": [
    "# Clean Columns"
   ]
  },
  {
   "cell_type": "code",
   "execution_count": 6,
   "metadata": {},
   "outputs": [],
   "source": [
    "drop_cols = []"
   ]
  },
  {
   "cell_type": "code",
   "execution_count": 7,
   "metadata": {},
   "outputs": [],
   "source": [
    "drop_cols.append('Unnamed: 0')"
   ]
  },
  {
   "cell_type": "markdown",
   "metadata": {},
   "source": [
    "## Drop Columns with more than 75% Missing"
   ]
  },
  {
   "cell_type": "code",
   "execution_count": 8,
   "metadata": {},
   "outputs": [
    {
     "data": {
      "text/plain": [
       "(10652, 44)"
      ]
     },
     "execution_count": 8,
     "metadata": {},
     "output_type": "execute_result"
    }
   ],
   "source": [
    "df.shape"
   ]
  },
  {
   "cell_type": "code",
   "execution_count": 9,
   "metadata": {},
   "outputs": [
    {
     "data": {
      "text/plain": [
       "5326.0"
      ]
     },
     "execution_count": 9,
     "metadata": {},
     "output_type": "execute_result"
    }
   ],
   "source": [
    "# calculate 50%\n",
    ".50 * 10652"
   ]
  },
  {
   "cell_type": "code",
   "execution_count": 11,
   "metadata": {},
   "outputs": [],
   "source": [
    "# turn na values into dictionary\n",
    "col_totals = df.isna().sum().to_dict()"
   ]
  },
  {
   "cell_type": "code",
   "execution_count": 13,
   "metadata": {},
   "outputs": [],
   "source": [
    "# if va\n",
    "for i in col_totals:\n",
    "    if col_totals[i] >= 5326:\n",
    "        drop_cols.append(i)\n",
    "        "
   ]
  },
  {
   "cell_type": "code",
   "execution_count": 19,
   "metadata": {},
   "outputs": [
    {
     "data": {
      "text/plain": [
       "['Unnamed: 0',\n",
       " 'Additional Info',\n",
       " 'Band Color',\n",
       " 'Band Length',\n",
       " 'Bezel Color',\n",
       " 'Dial Markers',\n",
       " 'Luminiscence',\n",
       " 'Power Reserve',\n",
       " 'Second Markers',\n",
       " 'Sub Dials',\n",
       " 'Case Color']"
      ]
     },
     "execution_count": 19,
     "metadata": {},
     "output_type": "execute_result"
    }
   ],
   "source": [
    "drop_cols"
   ]
  },
  {
   "cell_type": "code",
   "execution_count": 20,
   "metadata": {},
   "outputs": [],
   "source": [
    "cols = df.columns.to_list()"
   ]
  },
  {
   "cell_type": "code",
   "execution_count": 28,
   "metadata": {},
   "outputs": [],
   "source": [
    "for i in cols:\n",
    "    if i in drop_cols:\n",
    "        cols.remove(i)"
   ]
  },
  {
   "cell_type": "code",
   "execution_count": 29,
   "metadata": {},
   "outputs": [
    {
     "data": {
      "text/plain": [
       "['Band Material',\n",
       " 'Band Type',\n",
       " 'Band Width',\n",
       " 'Bezel Material',\n",
       " 'Bezel',\n",
       " 'Brand',\n",
       " 'Calendar',\n",
       " 'Case Back',\n",
       " 'Case Diameter',\n",
       " 'Case Material',\n",
       " 'Case Shape',\n",
       " 'Case Thickness',\n",
       " 'Clasp',\n",
       " 'Crown',\n",
       " 'Crystal',\n",
       " 'Dial Color',\n",
       " 'Dial Type',\n",
       " 'Engine',\n",
       " 'Features',\n",
       " 'Functions',\n",
       " 'Gender',\n",
       " 'Hands',\n",
       " 'Model',\n",
       " 'Movement',\n",
       " 'SKU',\n",
       " 'Series',\n",
       " 'Style',\n",
       " 'UPC Code',\n",
       " 'Warranty',\n",
       " 'Watch Label',\n",
       " 'Watch Style',\n",
       " 'Water Resistance',\n",
       " 'price']"
      ]
     },
     "execution_count": 29,
     "metadata": {},
     "output_type": "execute_result"
    }
   ],
   "source": [
    "cols"
   ]
  },
  {
   "cell_type": "code",
   "execution_count": 31,
   "metadata": {},
   "outputs": [],
   "source": [
    "df = deepcopy(df[cols])"
   ]
  },
  {
   "cell_type": "code",
   "execution_count": null,
   "metadata": {},
   "outputs": [],
   "source": []
  },
  {
   "cell_type": "code",
   "execution_count": 37,
   "metadata": {},
   "outputs": [],
   "source": [
    "cols = df.columns.to_list()"
   ]
  },
  {
   "cell_type": "markdown",
   "metadata": {},
   "source": [
    "# Delete Top 20% of rows that have missing columns"
   ]
  },
  {
   "cell_type": "code",
   "execution_count": 42,
   "metadata": {},
   "outputs": [
    {
     "data": {
      "text/plain": [
       "Band Material       3994\n",
       "Band Type           5011\n",
       "Band Width          2948\n",
       "Bezel Material      2238\n",
       "Bezel               4166\n",
       "Brand                  0\n",
       "Calendar            4458\n",
       "Case Back           1914\n",
       "Case Diameter         18\n",
       "Case Material          8\n",
       "Case Shape            67\n",
       "Case Thickness      2579\n",
       "Clasp               1711\n",
       "Crown               2381\n",
       "Crystal              214\n",
       "Dial Color            32\n",
       "Dial Type             21\n",
       "Engine              4731\n",
       "Features             456\n",
       "Functions             19\n",
       "Gender                 0\n",
       "Hands               1129\n",
       "Model                  0\n",
       "Movement               0\n",
       "SKU                    0\n",
       "Series              2780\n",
       "Style                  0\n",
       "UPC Code            2807\n",
       "Warranty             161\n",
       "Watch Label         2862\n",
       "Watch Style            0\n",
       "Water Resistance     299\n",
       "price                  0\n",
       "dtype: int64"
      ]
     },
     "execution_count": 42,
     "metadata": {},
     "output_type": "execute_result"
    }
   ],
   "source": [
    "df.isna().sum()"
   ]
  },
  {
   "cell_type": "code",
   "execution_count": 44,
   "metadata": {},
   "outputs": [
    {
     "data": {
      "text/plain": [
       "33"
      ]
     },
     "execution_count": 44,
     "metadata": {},
     "output_type": "execute_result"
    }
   ],
   "source": [
    "len(df.columns)"
   ]
  },
  {
   "cell_type": "code",
   "execution_count": 57,
   "metadata": {},
   "outputs": [
    {
     "data": {
      "text/plain": [
       "(10652, 33)"
      ]
     },
     "execution_count": 57,
     "metadata": {},
     "output_type": "execute_result"
    }
   ],
   "source": [
    "df.shape"
   ]
  },
  {
   "cell_type": "code",
   "execution_count": 52,
   "metadata": {},
   "outputs": [
    {
     "data": {
      "text/plain": [
       "(10545, 33)"
      ]
     },
     "execution_count": 52,
     "metadata": {},
     "output_type": "execute_result"
    }
   ],
   "source": [
    "df.dropna(thresh = 20).shape"
   ]
  },
  {
   "cell_type": "code",
   "execution_count": 55,
   "metadata": {},
   "outputs": [
    {
     "name": "stdout",
     "output_type": "stream",
     "text": [
      "20\n",
      "(10545, 33) \n",
      "\n",
      "21\n",
      "(10514, 33) \n",
      "\n",
      "22\n",
      "(10058, 33) \n",
      "\n",
      "23\n",
      "(9625, 33) \n",
      "\n",
      "24\n",
      "(9398, 33) \n",
      "\n",
      "25\n",
      "(9072, 33) \n",
      "\n",
      "26\n",
      "(8682, 33) \n",
      "\n",
      "27\n",
      "(8114, 33) \n",
      "\n",
      "28\n",
      "(7329, 33) \n",
      "\n",
      "29\n",
      "(6404, 33) \n",
      "\n",
      "30\n",
      "(5194, 33) \n",
      "\n",
      "31\n",
      "(3845, 33) \n",
      "\n",
      "32\n",
      "(2430, 33) \n",
      "\n"
     ]
    }
   ],
   "source": [
    "#find where the threshhold is that keeps 80% of watches\n",
    "for i in range(20,33):\n",
    "    print(i)\n",
    "    print(df.dropna(thresh = i).shape, \"\\n\")\n",
    "    "
   ]
  },
  {
   "cell_type": "code",
   "execution_count": 59,
   "metadata": {},
   "outputs": [],
   "source": [
    "df.dropna(thresh = 26, inplace=True)"
   ]
  },
  {
   "cell_type": "code",
   "execution_count": 62,
   "metadata": {},
   "outputs": [
    {
     "data": {
      "text/plain": [
       "Band Material       2119\n",
       "Band Type           3091\n",
       "Band Width          2037\n",
       "Bezel Material       746\n",
       "Bezel               2273\n",
       "Brand                  0\n",
       "Calendar            2881\n",
       "Case Back            720\n",
       "Case Diameter          1\n",
       "Case Material          3\n",
       "Case Shape            35\n",
       "Case Thickness      1824\n",
       "Clasp                520\n",
       "Crown               1714\n",
       "Crystal               42\n",
       "Dial Color            11\n",
       "Dial Type              5\n",
       "Engine              3167\n",
       "Features              24\n",
       "Functions              2\n",
       "Gender                 0\n",
       "Hands                215\n",
       "Model                  0\n",
       "Movement               0\n",
       "SKU                    0\n",
       "Series              1423\n",
       "Style                  0\n",
       "UPC Code            1890\n",
       "Warranty              96\n",
       "Watch Label         1576\n",
       "Watch Style            0\n",
       "Water Resistance      55\n",
       "price                  0\n",
       "dtype: int64"
      ]
     },
     "execution_count": 62,
     "metadata": {},
     "output_type": "execute_result"
    }
   ],
   "source": [
    "df.isna().sum()"
   ]
  },
  {
   "cell_type": "code",
   "execution_count": null,
   "metadata": {},
   "outputs": [],
   "source": []
  },
  {
   "cell_type": "code",
   "execution_count": null,
   "metadata": {},
   "outputs": [],
   "source": []
  },
  {
   "cell_type": "code",
   "execution_count": null,
   "metadata": {},
   "outputs": [],
   "source": []
  },
  {
   "cell_type": "code",
   "execution_count": null,
   "metadata": {},
   "outputs": [],
   "source": []
  },
  {
   "cell_type": "code",
   "execution_count": 39,
   "metadata": {},
   "outputs": [
    {
     "data": {
      "text/plain": [
       "0                      NaN\n",
       "1                      NaN\n",
       "2                      NaN\n",
       "3        Crocodile Leather\n",
       "4                      NaN\n",
       "               ...        \n",
       "10647              Leather\n",
       "10648      Stainless Steel\n",
       "10649      Stainless Steel\n",
       "10650              Leather\n",
       "10651              Leather\n",
       "Name: Band Material, Length: 10652, dtype: object"
      ]
     },
     "execution_count": 39,
     "metadata": {},
     "output_type": "execute_result"
    }
   ],
   "source": [
    "df[cols[0]]"
   ]
  },
  {
   "cell_type": "code",
   "execution_count": null,
   "metadata": {},
   "outputs": [],
   "source": []
  },
  {
   "cell_type": "code",
   "execution_count": null,
   "metadata": {},
   "outputs": [],
   "source": []
  },
  {
   "cell_type": "code",
   "execution_count": null,
   "metadata": {},
   "outputs": [],
   "source": []
  },
  {
   "cell_type": "code",
   "execution_count": null,
   "metadata": {},
   "outputs": [],
   "source": []
  },
  {
   "cell_type": "code",
   "execution_count": null,
   "metadata": {},
   "outputs": [],
   "source": []
  }
 ],
 "metadata": {
  "kernelspec": {
   "display_name": "Python 3",
   "language": "python",
   "name": "python3"
  },
  "language_info": {
   "codemirror_mode": {
    "name": "ipython",
    "version": 3
   },
   "file_extension": ".py",
   "mimetype": "text/x-python",
   "name": "python",
   "nbconvert_exporter": "python",
   "pygments_lexer": "ipython3",
   "version": "3.7.4"
  },
  "toc": {
   "base_numbering": 1,
   "nav_menu": {},
   "number_sections": true,
   "sideBar": true,
   "skip_h1_title": false,
   "title_cell": "Table of Contents",
   "title_sidebar": "Contents",
   "toc_cell": false,
   "toc_position": {},
   "toc_section_display": true,
   "toc_window_display": true
  }
 },
 "nbformat": 4,
 "nbformat_minor": 2
}
