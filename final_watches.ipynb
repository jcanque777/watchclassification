{
 "cells": [
  {
   "cell_type": "code",
   "execution_count": 1,
   "metadata": {},
   "outputs": [],
   "source": [
    "import pandas as pd"
   ]
  },
  {
   "cell_type": "code",
   "execution_count": 2,
   "metadata": {},
   "outputs": [],
   "source": [
    "import copy\n",
    "from copy import deepcopy"
   ]
  },
  {
   "cell_type": "code",
   "execution_count": 3,
   "metadata": {},
   "outputs": [],
   "source": [
    "import pickle"
   ]
  },
  {
   "cell_type": "code",
   "execution_count": 3,
   "metadata": {},
   "outputs": [],
   "source": [
    "df = pd.read_csv(\"df_watches.csv\")"
   ]
  },
  {
   "cell_type": "code",
   "execution_count": 4,
   "metadata": {},
   "outputs": [],
   "source": [
    "cols = df.columns.to_list()"
   ]
  },
  {
   "cell_type": "markdown",
   "metadata": {},
   "source": [
    "# Clean Columns"
   ]
  },
  {
   "cell_type": "code",
   "execution_count": 6,
   "metadata": {},
   "outputs": [],
   "source": [
    "drop_cols = []"
   ]
  },
  {
   "cell_type": "code",
   "execution_count": 7,
   "metadata": {},
   "outputs": [],
   "source": [
    "drop_cols.append('Unnamed: 0')"
   ]
  },
  {
   "cell_type": "markdown",
   "metadata": {},
   "source": [
    "## Drop Columns with more than 75% Missing"
   ]
  },
  {
   "cell_type": "code",
   "execution_count": 8,
   "metadata": {},
   "outputs": [
    {
     "data": {
      "text/plain": [
       "(10652, 44)"
      ]
     },
     "execution_count": 8,
     "metadata": {},
     "output_type": "execute_result"
    }
   ],
   "source": [
    "df.shape"
   ]
  },
  {
   "cell_type": "code",
   "execution_count": 9,
   "metadata": {},
   "outputs": [
    {
     "data": {
      "text/plain": [
       "5326.0"
      ]
     },
     "execution_count": 9,
     "metadata": {},
     "output_type": "execute_result"
    }
   ],
   "source": [
    "# calculate 50%\n",
    ".50 * 10652"
   ]
  },
  {
   "cell_type": "code",
   "execution_count": 11,
   "metadata": {},
   "outputs": [],
   "source": [
    "# turn na values into dictionary\n",
    "col_totals = df.isna().sum().to_dict()"
   ]
  },
  {
   "cell_type": "code",
   "execution_count": 13,
   "metadata": {},
   "outputs": [],
   "source": [
    "# if va\n",
    "for i in col_totals:\n",
    "    if col_totals[i] >= 5326:\n",
    "        drop_cols.append(i)\n",
    "        "
   ]
  },
  {
   "cell_type": "code",
   "execution_count": 19,
   "metadata": {},
   "outputs": [
    {
     "data": {
      "text/plain": [
       "['Unnamed: 0',\n",
       " 'Additional Info',\n",
       " 'Band Color',\n",
       " 'Band Length',\n",
       " 'Bezel Color',\n",
       " 'Dial Markers',\n",
       " 'Luminiscence',\n",
       " 'Power Reserve',\n",
       " 'Second Markers',\n",
       " 'Sub Dials',\n",
       " 'Case Color']"
      ]
     },
     "execution_count": 19,
     "metadata": {},
     "output_type": "execute_result"
    }
   ],
   "source": [
    "drop_cols"
   ]
  },
  {
   "cell_type": "code",
   "execution_count": 20,
   "metadata": {},
   "outputs": [],
   "source": [
    "cols = df.columns.to_list()"
   ]
  },
  {
   "cell_type": "code",
   "execution_count": 28,
   "metadata": {},
   "outputs": [],
   "source": [
    "for i in cols:\n",
    "    if i in drop_cols:\n",
    "        cols.remove(i)"
   ]
  },
  {
   "cell_type": "code",
   "execution_count": 29,
   "metadata": {},
   "outputs": [
    {
     "data": {
      "text/plain": [
       "['Band Material',\n",
       " 'Band Type',\n",
       " 'Band Width',\n",
       " 'Bezel Material',\n",
       " 'Bezel',\n",
       " 'Brand',\n",
       " 'Calendar',\n",
       " 'Case Back',\n",
       " 'Case Diameter',\n",
       " 'Case Material',\n",
       " 'Case Shape',\n",
       " 'Case Thickness',\n",
       " 'Clasp',\n",
       " 'Crown',\n",
       " 'Crystal',\n",
       " 'Dial Color',\n",
       " 'Dial Type',\n",
       " 'Engine',\n",
       " 'Features',\n",
       " 'Functions',\n",
       " 'Gender',\n",
       " 'Hands',\n",
       " 'Model',\n",
       " 'Movement',\n",
       " 'SKU',\n",
       " 'Series',\n",
       " 'Style',\n",
       " 'UPC Code',\n",
       " 'Warranty',\n",
       " 'Watch Label',\n",
       " 'Watch Style',\n",
       " 'Water Resistance',\n",
       " 'price']"
      ]
     },
     "execution_count": 29,
     "metadata": {},
     "output_type": "execute_result"
    }
   ],
   "source": [
    "cols"
   ]
  },
  {
   "cell_type": "code",
   "execution_count": 31,
   "metadata": {},
   "outputs": [],
   "source": [
    "df = deepcopy(df[cols])"
   ]
  },
  {
   "cell_type": "code",
   "execution_count": null,
   "metadata": {},
   "outputs": [],
   "source": []
  },
  {
   "cell_type": "code",
   "execution_count": 37,
   "metadata": {},
   "outputs": [],
   "source": [
    "cols = df.columns.to_list()"
   ]
  },
  {
   "cell_type": "markdown",
   "metadata": {},
   "source": [
    "# Delete Top 20% of rows that have missing columns"
   ]
  },
  {
   "cell_type": "code",
   "execution_count": 42,
   "metadata": {},
   "outputs": [
    {
     "data": {
      "text/plain": [
       "Band Material       3994\n",
       "Band Type           5011\n",
       "Band Width          2948\n",
       "Bezel Material      2238\n",
       "Bezel               4166\n",
       "Brand                  0\n",
       "Calendar            4458\n",
       "Case Back           1914\n",
       "Case Diameter         18\n",
       "Case Material          8\n",
       "Case Shape            67\n",
       "Case Thickness      2579\n",
       "Clasp               1711\n",
       "Crown               2381\n",
       "Crystal              214\n",
       "Dial Color            32\n",
       "Dial Type             21\n",
       "Engine              4731\n",
       "Features             456\n",
       "Functions             19\n",
       "Gender                 0\n",
       "Hands               1129\n",
       "Model                  0\n",
       "Movement               0\n",
       "SKU                    0\n",
       "Series              2780\n",
       "Style                  0\n",
       "UPC Code            2807\n",
       "Warranty             161\n",
       "Watch Label         2862\n",
       "Watch Style            0\n",
       "Water Resistance     299\n",
       "price                  0\n",
       "dtype: int64"
      ]
     },
     "execution_count": 42,
     "metadata": {},
     "output_type": "execute_result"
    }
   ],
   "source": [
    "df.isna().sum()"
   ]
  },
  {
   "cell_type": "code",
   "execution_count": 55,
   "metadata": {},
   "outputs": [
    {
     "name": "stdout",
     "output_type": "stream",
     "text": [
      "20\n",
      "(10545, 33) \n",
      "\n",
      "21\n",
      "(10514, 33) \n",
      "\n",
      "22\n",
      "(10058, 33) \n",
      "\n",
      "23\n",
      "(9625, 33) \n",
      "\n",
      "24\n",
      "(9398, 33) \n",
      "\n",
      "25\n",
      "(9072, 33) \n",
      "\n",
      "26\n",
      "(8682, 33) \n",
      "\n",
      "27\n",
      "(8114, 33) \n",
      "\n",
      "28\n",
      "(7329, 33) \n",
      "\n",
      "29\n",
      "(6404, 33) \n",
      "\n",
      "30\n",
      "(5194, 33) \n",
      "\n",
      "31\n",
      "(3845, 33) \n",
      "\n",
      "32\n",
      "(2430, 33) \n",
      "\n"
     ]
    }
   ],
   "source": [
    "#find where the threshhold is that keeps 80% of watches\n",
    "for i in range(20,33):\n",
    "    print(i)\n",
    "    print(df.dropna(thresh = i).shape, \"\\n\")\n",
    "    "
   ]
  },
  {
   "cell_type": "code",
   "execution_count": 59,
   "metadata": {},
   "outputs": [],
   "source": [
    "df.dropna(thresh = 26, inplace=True)"
   ]
  },
  {
   "cell_type": "markdown",
   "metadata": {},
   "source": [
    "# Fix Columns"
   ]
  },
  {
   "cell_type": "markdown",
   "metadata": {},
   "source": [
    "## Band Material"
   ]
  },
  {
   "cell_type": "code",
   "execution_count": 71,
   "metadata": {},
   "outputs": [],
   "source": [
    "band_material = df['Band Material'].value_counts().to_dict()"
   ]
  },
  {
   "cell_type": "code",
   "execution_count": 96,
   "metadata": {},
   "outputs": [],
   "source": [
    "band_material_keep = []"
   ]
  },
  {
   "cell_type": "code",
   "execution_count": 97,
   "metadata": {},
   "outputs": [],
   "source": [
    "for i in band_material:\n",
    "    if band_material[i] >= 46:\n",
    "        band_material_keep.append(i)"
   ]
  },
  {
   "cell_type": "code",
   "execution_count": 98,
   "metadata": {},
   "outputs": [
    {
     "data": {
      "text/plain": [
       "['Stainless Steel',\n",
       " 'Leather',\n",
       " 'Genuine Leather',\n",
       " 'Rubber',\n",
       " 'Alligator Leather',\n",
       " 'Silicone',\n",
       " 'Calfskin Leather',\n",
       " 'Stainless Steel Mesh',\n",
       " 'Polyurethane',\n",
       " 'Ceramic']"
      ]
     },
     "execution_count": 98,
     "metadata": {},
     "output_type": "execute_result"
    }
   ],
   "source": [
    "band_material_keep"
   ]
  },
  {
   "cell_type": "code",
   "execution_count": 143,
   "metadata": {},
   "outputs": [],
   "source": [
    "#see bottom 10%\n",
    "matches = []\n",
    "for i in band_material:\n",
    "    if band_material[i] in range(10,45):\n",
    "        matches.append(i)"
   ]
  },
  {
   "cell_type": "code",
   "execution_count": 146,
   "metadata": {},
   "outputs": [],
   "source": [
    "band_material_keep = matches+band_material_keep"
   ]
  },
  {
   "cell_type": "code",
   "execution_count": 153,
   "metadata": {},
   "outputs": [],
   "source": [
    "band_material_keep = list(set(band_material_keep))"
   ]
  },
  {
   "cell_type": "code",
   "execution_count": 156,
   "metadata": {},
   "outputs": [],
   "source": [
    "band_material_keep.sort()"
   ]
  },
  {
   "cell_type": "code",
   "execution_count": null,
   "metadata": {},
   "outputs": [],
   "source": []
  },
  {
   "cell_type": "code",
   "execution_count": 174,
   "metadata": {},
   "outputs": [],
   "source": [
    "band_material_keep.remove(\"(Alligator) Leather\")"
   ]
  },
  {
   "cell_type": "code",
   "execution_count": 178,
   "metadata": {},
   "outputs": [],
   "source": [
    "#function to turn '(Alligator) Leather' to 'Alligator Leather'\n",
    "def alligator(string):\n",
    "    if string == \"Alligator Leather\":\n",
    "        return 'Alligator'\n",
    "    else:\n",
    "        return string"
   ]
  },
  {
   "cell_type": "code",
   "execution_count": 179,
   "metadata": {},
   "outputs": [],
   "source": [
    "df[\"Band Material\"] = df[\"Band Material\"].apply(alligator)"
   ]
  },
  {
   "cell_type": "code",
   "execution_count": null,
   "metadata": {},
   "outputs": [],
   "source": []
  },
  {
   "cell_type": "code",
   "execution_count": 190,
   "metadata": {},
   "outputs": [],
   "source": [
    "crocodile = band_material_keep[5:10]"
   ]
  },
  {
   "cell_type": "code",
   "execution_count": 191,
   "metadata": {},
   "outputs": [],
   "source": [
    "#function to turn '(Alligator) Leather' to 'Alligator Leather'\n",
    "def croc(string):\n",
    "    if string in crocodile:\n",
    "        return 'Crocodile'\n",
    "    else:\n",
    "        return string"
   ]
  },
  {
   "cell_type": "code",
   "execution_count": null,
   "metadata": {},
   "outputs": [],
   "source": []
  },
  {
   "cell_type": "code",
   "execution_count": 197,
   "metadata": {},
   "outputs": [],
   "source": [
    "df[\"Band Material\"] = df[\"Band Material\"].apply(croc)"
   ]
  },
  {
   "cell_type": "code",
   "execution_count": 210,
   "metadata": {},
   "outputs": [],
   "source": [
    "for i in band_material_keep:\n",
    "    if \"Alligator\" in i:\n",
    "        band_material_keep.remove(i)"
   ]
  },
  {
   "cell_type": "code",
   "execution_count": 216,
   "metadata": {},
   "outputs": [],
   "source": [
    "for i in band_material_keep:\n",
    "    if \"Croco\" in i:\n",
    "        band_material_keep.remove(i)\n",
    "    else:\n",
    "        continue"
   ]
  },
  {
   "cell_type": "code",
   "execution_count": 219,
   "metadata": {},
   "outputs": [],
   "source": [
    "band_material_keep.append(\"Crocodile\")"
   ]
  },
  {
   "cell_type": "code",
   "execution_count": 220,
   "metadata": {},
   "outputs": [],
   "source": [
    "band_material_keep.append('Alligator')"
   ]
  },
  {
   "cell_type": "code",
   "execution_count": 222,
   "metadata": {},
   "outputs": [],
   "source": [
    "band_material_keep.sort()"
   ]
  },
  {
   "cell_type": "code",
   "execution_count": null,
   "metadata": {},
   "outputs": [],
   "source": []
  },
  {
   "cell_type": "code",
   "execution_count": 224,
   "metadata": {},
   "outputs": [],
   "source": [
    "#function to turn '(Alligator) Leather' to 'Alligator Leather'\n",
    "def silicone(string):\n",
    "    if string == \"Silicon\":\n",
    "        return 'Silicone'\n",
    "    else:\n",
    "        return string"
   ]
  },
  {
   "cell_type": "code",
   "execution_count": 225,
   "metadata": {},
   "outputs": [],
   "source": [
    "df[\"Band Material\"] = df[\"Band Material\"].apply(silicone)"
   ]
  },
  {
   "cell_type": "code",
   "execution_count": null,
   "metadata": {},
   "outputs": [],
   "source": []
  },
  {
   "cell_type": "code",
   "execution_count": 239,
   "metadata": {},
   "outputs": [
    {
     "data": {
      "text/html": [
       "<div>\n",
       "<style scoped>\n",
       "    .dataframe tbody tr th:only-of-type {\n",
       "        vertical-align: middle;\n",
       "    }\n",
       "\n",
       "    .dataframe tbody tr th {\n",
       "        vertical-align: top;\n",
       "    }\n",
       "\n",
       "    .dataframe thead th {\n",
       "        text-align: right;\n",
       "    }\n",
       "</style>\n",
       "<table border=\"1\" class=\"dataframe\">\n",
       "  <thead>\n",
       "    <tr style=\"text-align: right;\">\n",
       "      <th></th>\n",
       "      <th>Band Material</th>\n",
       "      <th>Band Type</th>\n",
       "      <th>Band Width</th>\n",
       "      <th>Bezel Material</th>\n",
       "      <th>Bezel</th>\n",
       "      <th>Brand</th>\n",
       "      <th>Calendar</th>\n",
       "      <th>Case Back</th>\n",
       "      <th>Case Diameter</th>\n",
       "      <th>Case Material</th>\n",
       "      <th>...</th>\n",
       "      <th>Movement</th>\n",
       "      <th>SKU</th>\n",
       "      <th>Series</th>\n",
       "      <th>Style</th>\n",
       "      <th>UPC Code</th>\n",
       "      <th>Warranty</th>\n",
       "      <th>Watch Label</th>\n",
       "      <th>Watch Style</th>\n",
       "      <th>Water Resistance</th>\n",
       "      <th>price</th>\n",
       "    </tr>\n",
       "  </thead>\n",
       "  <tbody>\n",
       "    <tr>\n",
       "      <td>6</td>\n",
       "      <td>18kt Rose Gold</td>\n",
       "      <td>Bracelet</td>\n",
       "      <td>NaN</td>\n",
       "      <td>18kt Rose Gold</td>\n",
       "      <td>Fixed</td>\n",
       "      <td>Patek Philippe</td>\n",
       "      <td>Perpetual Calendar</td>\n",
       "      <td>Transparent</td>\n",
       "      <td>40 mm</td>\n",
       "      <td>18kt Rose Gold</td>\n",
       "      <td>...</td>\n",
       "      <td>Hand Wind</td>\n",
       "      <td>PK-52041R001</td>\n",
       "      <td>Grand Complications</td>\n",
       "      <td>Watches</td>\n",
       "      <td>NaN</td>\n",
       "      <td>2 Year WatchCenter Warranty</td>\n",
       "      <td>Swiss Made</td>\n",
       "      <td>Luxury Watches</td>\n",
       "      <td>30 meters / 100 feet</td>\n",
       "      <td>\\n                        $323,200.00         ...</td>\n",
       "    </tr>\n",
       "    <tr>\n",
       "      <td>89</td>\n",
       "      <td>18 Carat Rose Gold</td>\n",
       "      <td>NaN</td>\n",
       "      <td>NaN</td>\n",
       "      <td>18 Carat Rose Gold</td>\n",
       "      <td>Fixed</td>\n",
       "      <td>Audemars Piguet</td>\n",
       "      <td>Date display between 4 and 5 o'clock position</td>\n",
       "      <td>NaN</td>\n",
       "      <td>41 mm</td>\n",
       "      <td>18 Carat Rose Gold</td>\n",
       "      <td>...</td>\n",
       "      <td>Automatic</td>\n",
       "      <td>AP26331OROO1220OR02</td>\n",
       "      <td>Royal Oak</td>\n",
       "      <td>Watches</td>\n",
       "      <td>NaN</td>\n",
       "      <td>2 Year WatchCenter Warranty</td>\n",
       "      <td>Swiss Made</td>\n",
       "      <td>Luxury Watches</td>\n",
       "      <td>50 meters / 165 feet</td>\n",
       "      <td>\\n                        $56,600.00          ...</td>\n",
       "    </tr>\n",
       "    <tr>\n",
       "      <td>184</td>\n",
       "      <td>18kt Rose Gold</td>\n",
       "      <td>NaN</td>\n",
       "      <td>NaN</td>\n",
       "      <td>Diamond Set</td>\n",
       "      <td>Fixed</td>\n",
       "      <td>Audemars Piguet</td>\n",
       "      <td>Date display at the 3 o'clock position</td>\n",
       "      <td>NaN</td>\n",
       "      <td>42 mm x 33 mm</td>\n",
       "      <td>18kt Rose Gold</td>\n",
       "      <td>...</td>\n",
       "      <td>Quartz</td>\n",
       "      <td>AP67651ORZZ1261OR01</td>\n",
       "      <td>Royal Oak</td>\n",
       "      <td>Watches</td>\n",
       "      <td>NaN</td>\n",
       "      <td>2 Year WatchCenter Warranty</td>\n",
       "      <td>Swiss Made</td>\n",
       "      <td>Luxury Watches</td>\n",
       "      <td>50 meters / 165 feet</td>\n",
       "      <td>\\n                        $37,800.00          ...</td>\n",
       "    </tr>\n",
       "    <tr>\n",
       "      <td>277</td>\n",
       "      <td>18kt Rose Gold</td>\n",
       "      <td>Bracelet</td>\n",
       "      <td>NaN</td>\n",
       "      <td>18kt Rose Gold</td>\n",
       "      <td>Fixed</td>\n",
       "      <td>Cartier</td>\n",
       "      <td>Date display at the 6 o'clock position</td>\n",
       "      <td>NaN</td>\n",
       "      <td>35 mm</td>\n",
       "      <td>18kt Rose Gold</td>\n",
       "      <td>...</td>\n",
       "      <td>Automatic</td>\n",
       "      <td>CRTWJCL0033</td>\n",
       "      <td>Cle</td>\n",
       "      <td>Watches</td>\n",
       "      <td>NaN</td>\n",
       "      <td>2 Year WatchCenter Warranty</td>\n",
       "      <td>Swiss Made</td>\n",
       "      <td>Luxury Watches</td>\n",
       "      <td>30 meters / 100 feet</td>\n",
       "      <td>\\n                        $29,100.00          ...</td>\n",
       "    </tr>\n",
       "    <tr>\n",
       "      <td>348</td>\n",
       "      <td>18kt Rose Gold</td>\n",
       "      <td>Bracelet</td>\n",
       "      <td>25 mm</td>\n",
       "      <td>NaN</td>\n",
       "      <td>Fixed</td>\n",
       "      <td>Omega</td>\n",
       "      <td>Date display at the 6 o'clock position</td>\n",
       "      <td>Transparent</td>\n",
       "      <td>38 mm</td>\n",
       "      <td>18kt Red Gold</td>\n",
       "      <td>...</td>\n",
       "      <td>Automatic</td>\n",
       "      <td>OM12355382202001</td>\n",
       "      <td>Constellation</td>\n",
       "      <td>Watches</td>\n",
       "      <td>6.834984e+11</td>\n",
       "      <td>2 Year WatchCenter Warranty</td>\n",
       "      <td>Swiss Made</td>\n",
       "      <td>Luxury Watches</td>\n",
       "      <td>100 meters / 330 feet</td>\n",
       "      <td>\\n                        $44,000.00          ...</td>\n",
       "    </tr>\n",
       "    <tr>\n",
       "      <td>...</td>\n",
       "      <td>...</td>\n",
       "      <td>...</td>\n",
       "      <td>...</td>\n",
       "      <td>...</td>\n",
       "      <td>...</td>\n",
       "      <td>...</td>\n",
       "      <td>...</td>\n",
       "      <td>...</td>\n",
       "      <td>...</td>\n",
       "      <td>...</td>\n",
       "      <td>...</td>\n",
       "      <td>...</td>\n",
       "      <td>...</td>\n",
       "      <td>...</td>\n",
       "      <td>...</td>\n",
       "      <td>...</td>\n",
       "      <td>...</td>\n",
       "      <td>...</td>\n",
       "      <td>...</td>\n",
       "      <td>...</td>\n",
       "      <td>...</td>\n",
       "    </tr>\n",
       "    <tr>\n",
       "      <td>9591</td>\n",
       "      <td>18K Rose Gold Plated Stainless Steel</td>\n",
       "      <td>Bracelet</td>\n",
       "      <td>16 mm</td>\n",
       "      <td>18K Rose Gold Plated Stainless Steel</td>\n",
       "      <td>Fixed</td>\n",
       "      <td>JBW</td>\n",
       "      <td>NaN</td>\n",
       "      <td>Solid</td>\n",
       "      <td>34 mm</td>\n",
       "      <td>18K Rose Gold Plated Stainless Steel</td>\n",
       "      <td>...</td>\n",
       "      <td>Quartz</td>\n",
       "      <td>JBW-J6356B</td>\n",
       "      <td>Gala</td>\n",
       "      <td>Watches</td>\n",
       "      <td>7.389640e+11</td>\n",
       "      <td>With Manufacturers Guarantee</td>\n",
       "      <td>Swiss Movt</td>\n",
       "      <td>Dress Watches</td>\n",
       "      <td>50 meters / 165 feet</td>\n",
       "      <td>\\n                        $615.00             ...</td>\n",
       "    </tr>\n",
       "    <tr>\n",
       "      <td>9761</td>\n",
       "      <td>Black Rubber and Rose Gold-tone Steel</td>\n",
       "      <td>Strap</td>\n",
       "      <td>23 mm</td>\n",
       "      <td>Fixed with Diamonds</td>\n",
       "      <td>Fixed with Diamonds</td>\n",
       "      <td>JBW</td>\n",
       "      <td>NaN</td>\n",
       "      <td>Solid</td>\n",
       "      <td>50 mm</td>\n",
       "      <td>Rose Gold-tone Stainless Steel</td>\n",
       "      <td>...</td>\n",
       "      <td>Quartz</td>\n",
       "      <td>JBW-6225-L</td>\n",
       "      <td>562</td>\n",
       "      <td>Watches</td>\n",
       "      <td>7.217623e+11</td>\n",
       "      <td>With Manufacturers Guarantee</td>\n",
       "      <td>NaN</td>\n",
       "      <td>Dress Watches</td>\n",
       "      <td>100 meters / 330 feet</td>\n",
       "      <td>\\n                        $1,090.00           ...</td>\n",
       "    </tr>\n",
       "    <tr>\n",
       "      <td>9842</td>\n",
       "      <td>18kt Rose Gold-Plated Stainless Steel</td>\n",
       "      <td>Bracelet</td>\n",
       "      <td>18 mm</td>\n",
       "      <td>Fixed</td>\n",
       "      <td>Fixed</td>\n",
       "      <td>JBW</td>\n",
       "      <td>Date display at the 6 o'clock position</td>\n",
       "      <td>NaN</td>\n",
       "      <td>38 mm</td>\n",
       "      <td>18K Rose Gold-Plated Stainless Steel</td>\n",
       "      <td>...</td>\n",
       "      <td>Quartz</td>\n",
       "      <td>JBW-J6340A</td>\n",
       "      <td>Capri</td>\n",
       "      <td>Watches</td>\n",
       "      <td>7.389640e+11</td>\n",
       "      <td>With Manufacturers Guarantee</td>\n",
       "      <td>NaN</td>\n",
       "      <td>Dress Watches</td>\n",
       "      <td>50 meters / 165 feet</td>\n",
       "      <td>\\n                        $475.00             ...</td>\n",
       "    </tr>\n",
       "    <tr>\n",
       "      <td>10117</td>\n",
       "      <td>Ceramic and Rose Gold-tone Metal</td>\n",
       "      <td>Bracelet</td>\n",
       "      <td>20 mm</td>\n",
       "      <td>Stainless Steel</td>\n",
       "      <td>Fixed</td>\n",
       "      <td>Anne Klein</td>\n",
       "      <td>NaN</td>\n",
       "      <td>Solid</td>\n",
       "      <td>36 mm</td>\n",
       "      <td>Metal</td>\n",
       "      <td>...</td>\n",
       "      <td>Quartz</td>\n",
       "      <td>ANK-2834LPGB</td>\n",
       "      <td>NaN</td>\n",
       "      <td>Watches</td>\n",
       "      <td>8.670260e+10</td>\n",
       "      <td>2 Year WatchCenter Warranty</td>\n",
       "      <td>NaN</td>\n",
       "      <td>Dress Watches</td>\n",
       "      <td>30 meters / 100 feet</td>\n",
       "      <td>\\n                        $150.00             ...</td>\n",
       "    </tr>\n",
       "    <tr>\n",
       "      <td>10245</td>\n",
       "      <td>Rose Gold-tone Stainless Steel and White Ceramic</td>\n",
       "      <td>Bracelet</td>\n",
       "      <td>16 mm</td>\n",
       "      <td>Fixed rose gold-tone bezel set with crystals</td>\n",
       "      <td>Fixed rose gold-tone bezel set with crystals</td>\n",
       "      <td>Akribos XXIV</td>\n",
       "      <td>NaN</td>\n",
       "      <td>Solid</td>\n",
       "      <td>35 mm</td>\n",
       "      <td>Rose Gold-tone Stainless Steel</td>\n",
       "      <td>...</td>\n",
       "      <td>Quartz</td>\n",
       "      <td>AK534RG</td>\n",
       "      <td>NaN</td>\n",
       "      <td>Watches</td>\n",
       "      <td>8.485720e+11</td>\n",
       "      <td>With Manufacturers Guarantee</td>\n",
       "      <td>NaN</td>\n",
       "      <td>Dress Watches</td>\n",
       "      <td>30 meters / 100 feet</td>\n",
       "      <td>\\n                        $695.00             ...</td>\n",
       "    </tr>\n",
       "  </tbody>\n",
       "</table>\n",
       "<p>104 rows × 33 columns</p>\n",
       "</div>"
      ],
      "text/plain": [
       "                                          Band Material Band Type Band Width  \\\n",
       "6                                        18kt Rose Gold  Bracelet        NaN   \n",
       "89                                   18 Carat Rose Gold       NaN        NaN   \n",
       "184                                      18kt Rose Gold       NaN        NaN   \n",
       "277                                      18kt Rose Gold  Bracelet        NaN   \n",
       "348                                      18kt Rose Gold  Bracelet      25 mm   \n",
       "...                                                 ...       ...        ...   \n",
       "9591               18K Rose Gold Plated Stainless Steel  Bracelet      16 mm   \n",
       "9761              Black Rubber and Rose Gold-tone Steel     Strap      23 mm   \n",
       "9842              18kt Rose Gold-Plated Stainless Steel  Bracelet      18 mm   \n",
       "10117                  Ceramic and Rose Gold-tone Metal  Bracelet      20 mm   \n",
       "10245  Rose Gold-tone Stainless Steel and White Ceramic  Bracelet      16 mm   \n",
       "\n",
       "                                     Bezel Material  \\\n",
       "6                                    18kt Rose Gold   \n",
       "89                               18 Carat Rose Gold   \n",
       "184                                     Diamond Set   \n",
       "277                                  18kt Rose Gold   \n",
       "348                                             NaN   \n",
       "...                                             ...   \n",
       "9591           18K Rose Gold Plated Stainless Steel   \n",
       "9761                            Fixed with Diamonds   \n",
       "9842                                          Fixed   \n",
       "10117                               Stainless Steel   \n",
       "10245  Fixed rose gold-tone bezel set with crystals   \n",
       "\n",
       "                                              Bezel            Brand  \\\n",
       "6                                             Fixed   Patek Philippe   \n",
       "89                                            Fixed  Audemars Piguet   \n",
       "184                                           Fixed  Audemars Piguet   \n",
       "277                                           Fixed          Cartier   \n",
       "348                                           Fixed            Omega   \n",
       "...                                             ...              ...   \n",
       "9591                                          Fixed              JBW   \n",
       "9761                            Fixed with Diamonds              JBW   \n",
       "9842                                          Fixed              JBW   \n",
       "10117                                         Fixed       Anne Klein   \n",
       "10245  Fixed rose gold-tone bezel set with crystals     Akribos XXIV   \n",
       "\n",
       "                                            Calendar    Case Back  \\\n",
       "6                                 Perpetual Calendar  Transparent   \n",
       "89     Date display between 4 and 5 o'clock position          NaN   \n",
       "184           Date display at the 3 o'clock position          NaN   \n",
       "277           Date display at the 6 o'clock position          NaN   \n",
       "348           Date display at the 6 o'clock position  Transparent   \n",
       "...                                              ...          ...   \n",
       "9591                                             NaN        Solid   \n",
       "9761                                             NaN        Solid   \n",
       "9842          Date display at the 6 o'clock position          NaN   \n",
       "10117                                            NaN        Solid   \n",
       "10245                                            NaN        Solid   \n",
       "\n",
       "       Case Diameter                         Case Material  ...   Movement  \\\n",
       "6              40 mm                        18kt Rose Gold  ...  Hand Wind   \n",
       "89             41 mm                    18 Carat Rose Gold  ...  Automatic   \n",
       "184    42 mm x 33 mm                        18kt Rose Gold  ...     Quartz   \n",
       "277            35 mm                        18kt Rose Gold  ...  Automatic   \n",
       "348            38 mm                         18kt Red Gold  ...  Automatic   \n",
       "...              ...                                   ...  ...        ...   \n",
       "9591           34 mm  18K Rose Gold Plated Stainless Steel  ...     Quartz   \n",
       "9761           50 mm        Rose Gold-tone Stainless Steel  ...     Quartz   \n",
       "9842           38 mm  18K Rose Gold-Plated Stainless Steel  ...     Quartz   \n",
       "10117          36 mm                                 Metal  ...     Quartz   \n",
       "10245          35 mm        Rose Gold-tone Stainless Steel  ...     Quartz   \n",
       "\n",
       "                       SKU               Series    Style      UPC Code  \\\n",
       "6             PK-52041R001  Grand Complications  Watches           NaN   \n",
       "89     AP26331OROO1220OR02            Royal Oak  Watches           NaN   \n",
       "184    AP67651ORZZ1261OR01            Royal Oak  Watches           NaN   \n",
       "277            CRTWJCL0033                  Cle  Watches           NaN   \n",
       "348       OM12355382202001        Constellation  Watches  6.834984e+11   \n",
       "...                    ...                  ...      ...           ...   \n",
       "9591            JBW-J6356B                 Gala  Watches  7.389640e+11   \n",
       "9761            JBW-6225-L                  562  Watches  7.217623e+11   \n",
       "9842            JBW-J6340A                Capri  Watches  7.389640e+11   \n",
       "10117         ANK-2834LPGB                  NaN  Watches  8.670260e+10   \n",
       "10245              AK534RG                  NaN  Watches  8.485720e+11   \n",
       "\n",
       "                           Warranty Watch Label     Watch Style  \\\n",
       "6       2 Year WatchCenter Warranty  Swiss Made  Luxury Watches   \n",
       "89      2 Year WatchCenter Warranty  Swiss Made  Luxury Watches   \n",
       "184     2 Year WatchCenter Warranty  Swiss Made  Luxury Watches   \n",
       "277     2 Year WatchCenter Warranty  Swiss Made  Luxury Watches   \n",
       "348     2 Year WatchCenter Warranty  Swiss Made  Luxury Watches   \n",
       "...                             ...         ...             ...   \n",
       "9591   With Manufacturers Guarantee  Swiss Movt   Dress Watches   \n",
       "9761   With Manufacturers Guarantee         NaN   Dress Watches   \n",
       "9842   With Manufacturers Guarantee         NaN   Dress Watches   \n",
       "10117   2 Year WatchCenter Warranty         NaN   Dress Watches   \n",
       "10245  With Manufacturers Guarantee         NaN   Dress Watches   \n",
       "\n",
       "            Water Resistance  \\\n",
       "6       30 meters / 100 feet   \n",
       "89      50 meters / 165 feet   \n",
       "184     50 meters / 165 feet   \n",
       "277     30 meters / 100 feet   \n",
       "348    100 meters / 330 feet   \n",
       "...                      ...   \n",
       "9591    50 meters / 165 feet   \n",
       "9761   100 meters / 330 feet   \n",
       "9842    50 meters / 165 feet   \n",
       "10117   30 meters / 100 feet   \n",
       "10245   30 meters / 100 feet   \n",
       "\n",
       "                                                   price  \n",
       "6      \\n                        $323,200.00         ...  \n",
       "89     \\n                        $56,600.00          ...  \n",
       "184    \\n                        $37,800.00          ...  \n",
       "277    \\n                        $29,100.00          ...  \n",
       "348    \\n                        $44,000.00          ...  \n",
       "...                                                  ...  \n",
       "9591   \\n                        $615.00             ...  \n",
       "9761   \\n                        $1,090.00           ...  \n",
       "9842   \\n                        $475.00             ...  \n",
       "10117  \\n                        $150.00             ...  \n",
       "10245  \\n                        $695.00             ...  \n",
       "\n",
       "[104 rows x 33 columns]"
      ]
     },
     "execution_count": 239,
     "metadata": {},
     "output_type": "execute_result"
    }
   ],
   "source": [
    "#problem I had is if having multiple matches in list would hurt algorithm\n",
    "#solution is if they are in list and we loop through list, if we hit one, it returns that name\n",
    "df[df[\"Band Material\"].str.contains(\"Rose Gold\", na=False)]\n",
    "\n",
    "#df[df[\"Band Material\"].str.contains(\"Gold\", na=False)]"
   ]
  },
  {
   "cell_type": "code",
   "execution_count": null,
   "metadata": {},
   "outputs": [],
   "source": []
  },
  {
   "cell_type": "code",
   "execution_count": 247,
   "metadata": {},
   "outputs": [],
   "source": [
    "for i in band_material_keep:\n",
    "    if \"Stainless Steel\" in i:\n",
    "        band_material_keep.remove(i)\n",
    "    else:\n",
    "        continue"
   ]
  },
  {
   "cell_type": "code",
   "execution_count": 257,
   "metadata": {},
   "outputs": [],
   "source": [
    "for i in band_material_keep:\n",
    "    if \"Leather\" in i:\n",
    "        band_material_keep.remove(i)\n",
    "    else:\n",
    "        continue"
   ]
  },
  {
   "cell_type": "code",
   "execution_count": 249,
   "metadata": {},
   "outputs": [],
   "source": [
    "band_material_keep.remove(\"Silicon\")"
   ]
  },
  {
   "cell_type": "code",
   "execution_count": 253,
   "metadata": {},
   "outputs": [],
   "source": [
    "band_material_keep.append('Rose Gold')"
   ]
  },
  {
   "cell_type": "code",
   "execution_count": 259,
   "metadata": {},
   "outputs": [],
   "source": [
    "band_material_keep.append(\"Leather\")"
   ]
  },
  {
   "cell_type": "code",
   "execution_count": 261,
   "metadata": {},
   "outputs": [
    {
     "data": {
      "text/plain": [
       "['Alligator',\n",
       " 'Alloy',\n",
       " 'Ceramic',\n",
       " 'Crocodile',\n",
       " 'Fabric',\n",
       " 'Gold',\n",
       " 'Leather',\n",
       " 'NATO Nylon',\n",
       " 'Nylon',\n",
       " 'Polyurethane',\n",
       " 'Resin',\n",
       " 'Rose Gold',\n",
       " 'Rubber',\n",
       " 'Satin',\n",
       " 'Silicone',\n",
       " 'Stainless Steel',\n",
       " 'Textile',\n",
       " 'Titanium',\n",
       " 'Wood']"
      ]
     },
     "execution_count": 261,
     "metadata": {},
     "output_type": "execute_result"
    }
   ],
   "source": [
    "band_material_keep"
   ]
  },
  {
   "cell_type": "code",
   "execution_count": 267,
   "metadata": {},
   "outputs": [],
   "source": [
    "#reorganize by my heirarchy\n",
    "band_material_keep = ['Rose Gold',\n",
    "    'Gold',\n",
    "    'Alligator',\n",
    "    'Alloy',\n",
    "    'Ceramic',\n",
    "    'Crocodile',\n",
    "    'Fabric',\n",
    "    'Stainless Steel',\n",
    "    'Leather',\n",
    "    'NATO Nylon',\n",
    "    'Nylon',\n",
    "    'Polyurethane',\n",
    "    'Resin',\n",
    "    'Rubber',\n",
    "    'Satin',\n",
    "    'Silicone',\n",
    "    'Textile',\n",
    "    'Titanium',\n",
    "    'Wood']"
   ]
  },
  {
   "cell_type": "code",
   "execution_count": 287,
   "metadata": {},
   "outputs": [],
   "source": [
    "#function to clean band_material\n",
    "#looping through it all then adding \n",
    "def fix_column(string):\n",
    "    for i in band_material_keep:\n",
    "        if i in string:\n",
    "            return i\n",
    "        else:\n",
    "            continue\n",
    "    if string not in band_material_keep:\n",
    "        return \"Unknown\"\n",
    "    "
   ]
  },
  {
   "cell_type": "code",
   "execution_count": 275,
   "metadata": {},
   "outputs": [
    {
     "data": {
      "text/plain": [
       "2119"
      ]
     },
     "execution_count": 275,
     "metadata": {},
     "output_type": "execute_result"
    }
   ],
   "source": [
    "df[\"Band Material\"].isna().sum()"
   ]
  },
  {
   "cell_type": "code",
   "execution_count": 276,
   "metadata": {},
   "outputs": [],
   "source": [
    "df[\"Band Material\"].fillna(\"Unknown\", inplace = True)"
   ]
  },
  {
   "cell_type": "code",
   "execution_count": 288,
   "metadata": {},
   "outputs": [],
   "source": [
    "df[\"band_material_fixed\"] = df[\"Band Material\"].apply(fix_column)"
   ]
  },
  {
   "cell_type": "code",
   "execution_count": 289,
   "metadata": {},
   "outputs": [
    {
     "data": {
      "text/plain": [
       "0                Unknown\n",
       "2                Unknown\n",
       "3              Crocodile\n",
       "5              Alligator\n",
       "6              Rose Gold\n",
       "              ...       \n",
       "10647            Leather\n",
       "10648    Stainless Steel\n",
       "10649    Stainless Steel\n",
       "10650            Leather\n",
       "10651            Leather\n",
       "Name: band_material_fixed, Length: 8682, dtype: object"
      ]
     },
     "execution_count": 289,
     "metadata": {},
     "output_type": "execute_result"
    }
   ],
   "source": [
    "df[\"band_material_fixed\"]"
   ]
  },
  {
   "cell_type": "code",
   "execution_count": 290,
   "metadata": {
    "scrolled": true
   },
   "outputs": [
    {
     "data": {
      "text/plain": [
       "Stainless Steel    2624\n",
       "Unknown            2190\n",
       "Leather            2025\n",
       "Rubber              332\n",
       "Alligator           331\n",
       "Silicone            257\n",
       "Gold                253\n",
       "Crocodile           138\n",
       "Ceramic             131\n",
       "Rose Gold           104\n",
       "Polyurethane         77\n",
       "Nylon                38\n",
       "Titanium             32\n",
       "Wood                 32\n",
       "NATO Nylon           23\n",
       "Resin                22\n",
       "Satin                21\n",
       "Alloy                19\n",
       "Fabric               18\n",
       "Textile              15\n",
       "Name: band_material_fixed, dtype: int64"
      ]
     },
     "execution_count": 290,
     "metadata": {},
     "output_type": "execute_result"
    }
   ],
   "source": [
    "df[\"band_material_fixed\"].value_counts()"
   ]
  },
  {
   "cell_type": "code",
   "execution_count": null,
   "metadata": {},
   "outputs": [],
   "source": []
  },
  {
   "cell_type": "code",
   "execution_count": 293,
   "metadata": {},
   "outputs": [],
   "source": [
    "df.to_pickle(\"final_watches.pkl\")"
   ]
  },
  {
   "cell_type": "code",
   "execution_count": null,
   "metadata": {},
   "outputs": [],
   "source": []
  },
  {
   "cell_type": "code",
   "execution_count": null,
   "metadata": {},
   "outputs": [],
   "source": []
  },
  {
   "cell_type": "code",
   "execution_count": 102,
   "metadata": {},
   "outputs": [],
   "source": [
    "#load \n",
    "df = pd.read_pickle(\"final_watches.pkl\")"
   ]
  },
  {
   "cell_type": "code",
   "execution_count": 18,
   "metadata": {},
   "outputs": [],
   "source": [
    "fix_columns = {}\n",
    "for i in df.columns:\n",
    "    fix_columns[i] = df[i].isna().sum()"
   ]
  },
  {
   "cell_type": "code",
   "execution_count": 34,
   "metadata": {},
   "outputs": [
    {
     "data": {
      "text/plain": [
       "{'Band Material': 0,\n",
       " 'Band Type': 3091,\n",
       " 'Band Width': 2037,\n",
       " 'Bezel Material': 746,\n",
       " 'Bezel': 2273,\n",
       " 'Brand': 0,\n",
       " 'Calendar': 2881,\n",
       " 'Case Back': 720,\n",
       " 'Case Diameter': 1,\n",
       " 'Case Material': 3,\n",
       " 'Case Shape': 35,\n",
       " 'Case Thickness': 1824,\n",
       " 'Clasp': 520,\n",
       " 'Crown': 1714,\n",
       " 'Crystal': 42,\n",
       " 'Dial Color': 11,\n",
       " 'Dial Type': 5,\n",
       " 'Engine': 3167,\n",
       " 'Features': 24,\n",
       " 'Functions': 2,\n",
       " 'Gender': 0,\n",
       " 'Hands': 215,\n",
       " 'Model': 0,\n",
       " 'Movement': 0,\n",
       " 'SKU': 0,\n",
       " 'Series': 1423,\n",
       " 'Style': 0,\n",
       " 'UPC Code': 1890,\n",
       " 'Warranty': 96,\n",
       " 'Watch Label': 1576,\n",
       " 'Watch Style': 0,\n",
       " 'Water Resistance': 55,\n",
       " 'price': 0,\n",
       " 'band_material_fixed': 0}"
      ]
     },
     "execution_count": 34,
     "metadata": {},
     "output_type": "execute_result"
    }
   ],
   "source": [
    "fix_columns"
   ]
  },
  {
   "cell_type": "code",
   "execution_count": 47,
   "metadata": {},
   "outputs": [
    {
     "name": "stdout",
     "output_type": "stream",
     "text": [
      "Engine 3167\n",
      "Band Type 3091\n",
      "Calendar 2881\n",
      "Bezel 2273\n",
      "Band Width 2037\n",
      "UPC Code 1890\n",
      "Case Thickness 1824\n",
      "Crown 1714\n",
      "Watch Label 1576\n",
      "Series 1423\n",
      "Bezel Material 746\n",
      "Case Back 720\n",
      "Clasp 520\n",
      "Hands 215\n",
      "Warranty 96\n",
      "Water Resistance 55\n",
      "Crystal 42\n",
      "Case Shape 35\n",
      "Features 24\n",
      "Dial Color 11\n",
      "Dial Type 5\n",
      "Case Material 3\n",
      "Functions 2\n",
      "Case Diameter 1\n",
      "Band Material 0\n",
      "Brand 0\n",
      "Gender 0\n",
      "Model 0\n",
      "Movement 0\n",
      "SKU 0\n",
      "Style 0\n",
      "Watch Style 0\n",
      "price 0\n",
      "band_material_fixed 0\n",
      "Band Material 0\n",
      "Brand 0\n",
      "Gender 0\n",
      "Model 0\n",
      "Movement 0\n",
      "SKU 0\n",
      "Style 0\n",
      "Watch Style 0\n",
      "price 0\n",
      "band_material_fixed 0\n",
      "Band Material 0\n",
      "Brand 0\n",
      "Gender 0\n",
      "Model 0\n",
      "Movement 0\n",
      "SKU 0\n",
      "Style 0\n",
      "Watch Style 0\n",
      "price 0\n",
      "band_material_fixed 0\n",
      "Band Material 0\n",
      "Brand 0\n",
      "Gender 0\n",
      "Model 0\n",
      "Movement 0\n",
      "SKU 0\n",
      "Style 0\n",
      "Watch Style 0\n",
      "price 0\n",
      "band_material_fixed 0\n",
      "Band Material 0\n",
      "Brand 0\n",
      "Gender 0\n",
      "Model 0\n",
      "Movement 0\n",
      "SKU 0\n",
      "Style 0\n",
      "Watch Style 0\n",
      "price 0\n",
      "band_material_fixed 0\n",
      "Band Material 0\n",
      "Brand 0\n",
      "Gender 0\n",
      "Model 0\n",
      "Movement 0\n",
      "SKU 0\n",
      "Style 0\n",
      "Watch Style 0\n",
      "price 0\n",
      "band_material_fixed 0\n",
      "Band Material 0\n",
      "Brand 0\n",
      "Gender 0\n",
      "Model 0\n",
      "Movement 0\n",
      "SKU 0\n",
      "Style 0\n",
      "Watch Style 0\n",
      "price 0\n",
      "band_material_fixed 0\n",
      "Band Material 0\n",
      "Brand 0\n",
      "Gender 0\n",
      "Model 0\n",
      "Movement 0\n",
      "SKU 0\n",
      "Style 0\n",
      "Watch Style 0\n",
      "price 0\n",
      "band_material_fixed 0\n",
      "Band Material 0\n",
      "Brand 0\n",
      "Gender 0\n",
      "Model 0\n",
      "Movement 0\n",
      "SKU 0\n",
      "Style 0\n",
      "Watch Style 0\n",
      "price 0\n",
      "band_material_fixed 0\n",
      "Band Material 0\n",
      "Brand 0\n",
      "Gender 0\n",
      "Model 0\n",
      "Movement 0\n",
      "SKU 0\n",
      "Style 0\n",
      "Watch Style 0\n",
      "price 0\n",
      "band_material_fixed 0\n"
     ]
    }
   ],
   "source": [
    "for j in sorted(fix_columns.values(), reverse=True):\n",
    "    for i in fix_columns:\n",
    "        if fix_columns[i] == j:\n",
    "            print(i, j)"
   ]
  },
  {
   "cell_type": "code",
   "execution_count": 51,
   "metadata": {},
   "outputs": [],
   "source": [
    "df['Engine'].fillna(\"Unknown\" , inplace=True)"
   ]
  },
  {
   "cell_type": "code",
   "execution_count": 58,
   "metadata": {},
   "outputs": [
    {
     "data": {
      "text/plain": [
       "Strap       2863\n",
       "Bracelet    2728\n",
       "Name: Band Type, dtype: int64"
      ]
     },
     "execution_count": 58,
     "metadata": {},
     "output_type": "execute_result"
    }
   ],
   "source": [
    "df['Band Type'].value_counts()"
   ]
  },
  {
   "cell_type": "code",
   "execution_count": 66,
   "metadata": {},
   "outputs": [
    {
     "name": "stdout",
     "output_type": "stream",
     "text": [
      "Name: Band Material\n",
      "Unique Values: 551\n",
      "None Value: 0\n",
      "Value Counts: Stainless Steel                                     2319\n",
      "Unknown                                             2119\n",
      "Leather                                             1410\n",
      "Genuine Leather                                      294\n",
      "Alligator                                            290\n",
      "                                                    ... \n",
      "Stainless Steel with Horne Plastic                     1\n",
      "Polished Titanium                                      1\n",
      "Ceramic and Rose Gold-tone Metal                       1\n",
      "Stainless Steel and Yellow Gold PVD Center Links       1\n",
      "Calf Leather and Silicone                              1\n",
      "Name: Band Material, Length: 551, dtype: int64 \n",
      "\n",
      "Name: Band Type\n",
      "Unique Values: 2\n",
      "None Value: 3091\n",
      "Value Counts: Strap       2863\n",
      "Bracelet    2728\n",
      "Name: Band Type, dtype: int64 \n",
      "\n",
      "Name: Band Width\n",
      "Unique Values: 116\n",
      "None Value: 2037\n",
      "Value Counts: 22 mm            1385\n",
      "20 mm            1344\n",
      "18 mm             727\n",
      "24 mm             429\n",
      "21 mm             362\n",
      "                 ... \n",
      "17-15 mm            1\n",
      "13.2 mm             1\n",
      "33.3 mm             1\n",
      "8.50 mm             1\n",
      "22 mm / 24 mm       1\n",
      "Name: Band Width, Length: 116, dtype: int64 \n",
      "\n",
      "Name: Bezel Material\n",
      "Unique Values: 687\n",
      "None Value: 746\n",
      "Value Counts: Stainless Steel                                    4168\n",
      "Fixed                                               396\n",
      "Crystal Set                                         256\n",
      "18kt Rose Gold                                      180\n",
      "Diamond Set                                         179\n",
      "                                                   ... \n",
      "Plasma high-tech Ceramic                              1\n",
      "Fixed Black Ceramic displaying 24 hour markings       1\n",
      "Fixed Rose Gold-tone set with  Crystals               1\n",
      "Stainless Steel set with 72 Diamonds                  1\n",
      "18kt Sedna Rose Gold                                  1\n",
      "Name: Bezel Material, Length: 687, dtype: int64 \n",
      "\n",
      "Name: Bezel\n",
      "Unique Values: 252\n",
      "None Value: 2273\n",
      "Value Counts: Fixed                                           5149\n",
      "Uni-directional Rotating                         625\n",
      "Fixed Fluted                                      58\n",
      "Bi-directional Rotating                           44\n",
      "Fixed Domed                                       33\n",
      "                                                ... \n",
      "Stainless steel, gold-tone, crystal sections       1\n",
      "Fixed Ceramos                                      1\n",
      "black Carbon Finer and Gold-tone                   1\n",
      "Unidirectional Blue PVD                            1\n",
      "Fixed Gold-tone Coin-edged                         1\n",
      "Name: Bezel, Length: 252, dtype: int64 \n",
      "\n",
      "Name: Brand\n",
      "Unique Values: 167\n",
      "None Value: 0\n",
      "Value Counts: Invicta          650\n",
      "Tissot           456\n",
      "Omega            416\n",
      "Movado           314\n",
      "Longines         299\n",
      "                ... \n",
      "Aerowatch          1\n",
      "Roamer             1\n",
      "Ralph Lauren       1\n",
      "GC by Guess        1\n",
      "Richard Mille      1\n",
      "Name: Brand, Length: 167, dtype: int64 \n",
      "\n",
      "Name: Calendar\n",
      "Unique Values: 182\n",
      "None Value: 2881\n",
      "Value Counts: Date display at the 3 o'clock position                                               2347\n",
      "Date display at the 6 o'clock position                                               1053\n",
      "Date display between 4 and 5 o'clock position                                         664\n",
      "Date display at the 4 o'clock position                                                413\n",
      "Day of the Week and Date display at the 3 o'clock position                            260\n",
      "                                                                                     ... \n",
      "Date display at the 6 o'clock position. Day of Week display center dial                 1\n",
      "Month and Day of the Week below the 12 o'clock position                                 1\n",
      "Day of the week and date display at the 12 o'clock position                             1\n",
      "Date display at the 6 o'clock position. Day of the Week appears at the 12 o'clock       1\n",
      "Day of the Week Display. Date Display. Month Display                                    1\n",
      "Name: Calendar, Length: 182, dtype: int64 \n",
      "\n",
      "Name: Case Back\n",
      "Unique Values: 75\n",
      "None Value: 720\n",
      "Value Counts: Solid                                              5105\n",
      "Transparent                                        1886\n",
      "Skeleton                                            408\n",
      "Skeleton Transparent Exhibition See Through         148\n",
      "Screw Down                                          128\n",
      "                                                   ... \n",
      "sapphire crystal case back                            1\n",
      "Solid Screw In                                        1\n",
      "Transparen                                            1\n",
      "Solid engraved with Fish Symbol and diving mask       1\n",
      "Transparent See-through sapphire crystal              1\n",
      "Name: Case Back, Length: 75, dtype: int64 \n",
      "\n",
      "Name: Case Diameter\n",
      "Unique Values: 406\n",
      "None Value: 1\n",
      "Value Counts: 42 mm               908\n",
      "40 mm               689\n",
      "44 mm               593\n",
      "38 mm               537\n",
      "43 mm               505\n",
      "                   ... \n",
      "41 mm x 40 mm         1\n",
      "42 x 46 mm            1\n",
      "32 mm x 20.50 mm      1\n",
      "27 mm x 27 mm         1\n",
      "38 mm x 31 mm         1\n",
      "Name: Case Diameter, Length: 406, dtype: int64 \n",
      "\n",
      "Name: Case Material\n",
      "Unique Values: 328\n",
      "None Value: 3\n",
      "Value Counts: Stainless Steel                           6680\n",
      "18kt Rose Gold                             223\n",
      "Stainless steel                            153\n",
      "Titanium                                   129\n",
      "Ceramic                                    128\n",
      "                                          ... \n",
      "950 Platinum                                 1\n",
      "Two-Tone 316L Surgical Stainless Steel       1\n",
      "Yellow Gold Ion-plated Stainless Steel       1\n",
      "High tech Ceramic                            1\n",
      "Swarovski Crystal-Set Stainless Steel        1\n",
      "Name: Case Material, Length: 328, dtype: int64 \n",
      "\n",
      "Name: Case Shape\n",
      "Unique Values: 9\n",
      "None Value: 35\n",
      "Value Counts: Round          7985\n",
      "Rectangle       247\n",
      "Tonneau         124\n",
      "Square          116\n",
      "Unique           61\n",
      "Cushion          57\n",
      "Oval             47\n",
      "Octagon           7\n",
      "Dodecagonal       3\n",
      "Name: Case Shape, dtype: int64 \n",
      "\n",
      "Name: Case Thickness\n",
      "Unique Values: 426\n",
      "None Value: 1824\n",
      "Value Counts: 10 mm       587\n",
      "13 mm       565\n",
      "12 mm       540\n",
      "11 mm       461\n",
      "9 mm        382\n",
      "           ... \n",
      "6.86 mm       1\n",
      "7.98 mm       1\n",
      "11.22 mm      1\n",
      "6/7 mm        1\n",
      "7.19 mm       1\n",
      "Name: Case Thickness, Length: 426, dtype: int64 \n",
      "\n",
      "Name: Clasp\n",
      "Unique Values: 241\n",
      "None Value: 520\n",
      "Value Counts: Tang                                              1681\n",
      "Buckle                                            1353\n",
      "Deployment                                        1231\n",
      "Deployment with Push Button Release                971\n",
      "Fold Over                                          699\n",
      "                                                  ... \n",
      "Sliding Closure                                      1\n",
      "Double Fold Over Push Button                         1\n",
      "Box Deployment                                       1\n",
      "Folding Clasp with double push-security system       1\n",
      "Fold Over  With Double Push Button Safety            1\n",
      "Name: Clasp, Length: 241, dtype: int64 \n",
      "\n",
      "Name: Crown\n",
      "Unique Values: 164\n",
      "None Value: 1714\n",
      "Value Counts: Pull / Push                                           4399\n",
      "Screw Down                                            2013\n",
      "Push/pull                                              111\n",
      "Push/Pull                                              106\n",
      "Screw Locked                                            45\n",
      "                                                      ... \n",
      "Blue Synthetic Spinel Cabochon                           1\n",
      "Pull / Push set with a Single Wesselton Diamond          1\n",
      "Textured Gold-tone with Michele logo                     1\n",
      "Threaded with connected functions pusher                 1\n",
      "8kt Pink Gold Fluted set with a Blue Sapphire Cabo       1\n",
      "Name: Crown, Length: 164, dtype: int64 \n",
      "\n",
      "Name: Crystal\n",
      "Unique Values: 99\n",
      "None Value: 42\n",
      "Value Counts: Scratch Resistant Sapphire                          5010\n",
      "Scratch Resistant Mineral                           2192\n",
      "Flame Fusion                                         485\n",
      "Sapphire-Coated Mineral                              117\n",
      "Sapphitek                                            111\n",
      "                                                    ... \n",
      "Reinforced Mineral                                     1\n",
      "Scratch Resistant Sapphitek                            1\n",
      "Domed Anti-reflective Scratch Resistant Sapphire       1\n",
      "Iridescent Crystal                                     1\n",
      "Mineral Sapphire coated                                1\n",
      "Name: Crystal, Length: 99, dtype: int64 \n",
      "\n",
      "Name: Dial Color\n",
      "Unique Values: 1011\n",
      "None Value: 11\n",
      "Value Counts: Black                                     2219\n",
      "Silver                                     880\n",
      "Blue                                       830\n",
      "White                                      754\n",
      "Mother of Pearl                            347\n",
      "                                          ... \n",
      "Black with Embroidered Honeybee Design       1\n",
      "Black Transparent                            1\n",
      "Blue and Navy Blue                           1\n",
      "Silver Textured (12 Hour)                    1\n",
      "Red and Grey                                 1\n",
      "Name: Dial Color, Length: 1011, dtype: int64 \n",
      "\n",
      "Name: Dial Type\n",
      "Unique Values: 3\n",
      "None Value: 5\n",
      "Value Counts: Analog            8597\n",
      "Analog-Digital      60\n",
      "Digital             20\n",
      "Name: Dial Type, dtype: int64 \n",
      "\n",
      "Name: Engine\n",
      "Unique Values: 1251\n",
      "None Value: 0\n",
      "Value Counts: Unknown                            3167\n",
      "Hattori Caliber VD53                159\n",
      "SII Caliber NH35A                    84\n",
      "Hattori Caliber VD54                 82\n",
      "Omega Calibre 1376                   76\n",
      "                                   ... \n",
      "Oris Calibre 560, base ETA 2671       1\n",
      "Rado Calibre 322                      1\n",
      "ETA 251.264 AA                        1\n",
      "Cartier Calibre 115A                  1\n",
      "Piaget Calibre 690P                   1\n",
      "Name: Engine, Length: 1251, dtype: int64 \n",
      "\n",
      "Name: Features\n",
      "Unique Values: 845\n",
      "None Value: 24\n",
      "Value Counts: Calendar, Stainless Steel                                                  747\n",
      "Gold, Stainless Steel                                                      491\n",
      "Gold, Leather, Stainless Steel                                             442\n",
      "Leather, Stainless Steel                                                   428\n",
      "Calendar, Leather, Stainless Steel                                         426\n",
      "                                                                          ... \n",
      "Calendar, Gold, Leather, Power Reserve Indicator, Alligator                  1\n",
      "Chronograph, Chronometer, Diamond, Gold, Stainless Steel                     1\n",
      "Calendar, Diamond, Titanium                                                  1\n",
      "Calendar, Day/Night Indicator, GMT, Leather, Stainless Steel, Time Zone      1\n",
      "Calendar, Chronograph, Gold, Plastic                                         1\n",
      "Name: Features, Length: 845, dtype: int64 \n",
      "\n",
      "Name: Functions\n",
      "Unique Values: 620\n",
      "None Value: 2\n",
      "Value Counts: Date, Hour, Minute, Second                                                                                                                                                                                                                                2269\n",
      "Hour, Minute, Second                                                                                                                                                                                                                                      1343\n",
      "Hour, Minute                                                                                                                                                                                                                                               850\n",
      "Chronograph, Date, Hour, Minute, Second                                                                                                                                                                                                                    722\n",
      "Date, Day, Hour, Minute, Second                                                                                                                                                                                                                            326\n",
      "                                                                                                                                                                                                                                                          ... \n",
      "Moon Phase, Date, Hour, Minute, Small Second                                                                                                                                                                                                                 1\n",
      "Chronograph, Column Wheel, Monopoussoir, GMT, Second Time Zone, Hour, Minute, Small Second, Power Reserve Indicator                                                                                                                                          1\n",
      "Hour, Minute, compass, regatta, countdown timer, chrono split and lap (logbook), 2 alarms, backlight, second time zone, perpetual calendar with day and week indicator, accumulator charge indicator, EOL, meteo, altimeter, altitude difference meter       1\n",
      "Month, Date, Day, Hour, Minute, Second,  GMT, Second Time Zone, Alarm, Perpetual Calendar                                                                                                                                                                    1\n",
      "Chronograph, Tachymeter, Column Wheel, Date, Hour, Minute, Second, Co-Axial Escapement, Chronometer                                                                                                                                                          1\n",
      "Name: Functions, Length: 620, dtype: int64 \n",
      "\n",
      "Name: Gender\n",
      "Unique Values: 3\n",
      "None Value: 0\n",
      "Value Counts: Mens      5594\n",
      "Womens    2865\n",
      "Unisex     223\n",
      "Name: Gender, dtype: int64 \n",
      "\n",
      "Name: Hands\n",
      "Unique Values: 312\n",
      "None Value: 215\n",
      "Value Counts: Silver-tone             2491\n",
      "Gold-tone               1075\n",
      "Luminous Silver-tone    1014\n",
      "Rose Gold-tone           928\n",
      "Black                    371\n",
      "                        ... \n",
      "Silver and Blue            1\n",
      "Luminous Brown             1\n",
      "Brushed Silver-tone        1\n",
      "SLuminous                  1\n",
      "Luminous Yeloow Gold       1\n",
      "Name: Hands, Length: 312, dtype: int64 \n",
      "\n",
      "Name: Model\n",
      "Unique Values: 8638\n",
      "None Value: 0\n",
      "Value Counts: AS8125GN                     3\n",
      "1302                         3\n",
      "15347                        3\n",
      "LP-10339-RG-014-BRW          3\n",
      "29590                        2\n",
      "                            ..\n",
      "L4.804.4.11.6                1\n",
      "3013                         1\n",
      "116243SJDJ                   1\n",
      "3600502                      1\n",
      "NATODIVERSSYELLOWBRACELET    1\n",
      "Name: Model, Length: 8638, dtype: int64 \n",
      "\n",
      "Name: Movement\n",
      "Unique Values: 5\n",
      "None Value: 0\n",
      "Value Counts: Quartz         4611\n",
      "Automatic      3799\n",
      "Hand Wind       158\n",
      "Eco-Drive       110\n",
      "Auto-Quartz       4\n",
      "Name: Movement, dtype: int64 \n",
      "\n",
      "Name: SKU\n",
      "Unique Values: 8676\n",
      "None Value: 0\n",
      "Value Counts: AS8125GN               3\n",
      "IN15347                3\n",
      "LP-10339-RG-014-BRW    3\n",
      "BER-BTHBR5103          1\n",
      "BUL97P132              1\n",
      "                      ..\n",
      "HML-H39251194          1\n",
      "LNG37764586            1\n",
      "PG-GOA40110            1\n",
      "LP-28010A-11           1\n",
      "OM12320246053001       1\n",
      "Name: SKU, Length: 8676, dtype: int64 \n",
      "\n",
      "Name: Series\n",
      "Unique Values: 1299\n",
      "None Value: 1423\n",
      "Value Counts: Pro Diver        116\n",
      "Bold              96\n",
      "Constellation     95\n",
      "Bolt              89\n",
      "Angel             82\n",
      "                ... \n",
      "Baron              1\n",
      "Cinthia            1\n",
      "Logo Dial          1\n",
      "Manuel             1\n",
      "Emma 1142          1\n",
      "Name: Series, Length: 1299, dtype: int64 \n",
      "\n",
      "Name: Style\n",
      "Unique Values: 3\n",
      "None Value: 0\n",
      "Value Counts: Watches           8662\n",
      "Smart Watch         16\n",
      "Pocket Watches       4\n",
      "Name: Style, dtype: int64 \n",
      "\n",
      "Name: UPC Code\n",
      "Unique Values: 6683\n",
      "None Value: 1890\n",
      "Value Counts: 4.895158e+12    34\n",
      "4.895158e+12    21\n",
      "4.895158e+12    21\n",
      "8.478640e+11    15\n",
      "4.895158e+12     6\n",
      "                ..\n",
      "7.329432e+11     1\n",
      "8.859972e+11     1\n",
      "7.612586e+12     1\n",
      "1.320511e+10     1\n",
      "8.425511e+11     1\n",
      "Name: UPC Code, Length: 6683, dtype: int64 \n",
      "\n",
      "Name: Warranty\n",
      "Unique Values: 8\n",
      "None Value: 96\n",
      "Value Counts: 2 Year WatchCenter Warranty      4995\n",
      "With Manufacturers Guarantee     1674\n",
      "1 Year Manufacturer Warranty     1143\n",
      "3 Year WatchCenter Warranty       265\n",
      "5 Year WatchCenter Warranty       188\n",
      "1 Year WatchCenter Warranty       176\n",
      "2 Year Manufacturer Warranty      144\n",
      "2 Years Manufacturer Warranty       1\n",
      "Name: Warranty, dtype: int64 \n",
      "\n",
      "Name: Watch Label\n",
      "Unique Values: 24\n",
      "None Value: 1576\n",
      "Value Counts: Swiss Made              4938\n",
      "Japan Movt              1467\n",
      "Swiss Movt               351\n",
      "Made in Germany           69\n",
      "Swiss                     52\n",
      "Chinese Movt              49\n",
      "China Movt                46\n",
      "Swiss Movement            22\n",
      "Swiss made                21\n",
      "Swiss Quartz              18\n",
      "Hong Kong                 15\n",
      "Made in Japan             12\n",
      "Made In Germany            9\n",
      "Swiss Guilloche Main       8\n",
      "China                      5\n",
      "Far east                   5\n",
      "Japan Chronograph          5\n",
      "Swiss Parts Movt           3\n",
      "Swiss A.O.S.C.             3\n",
      "Japan                      2\n",
      "Far East                   2\n",
      "Japan Made                 2\n",
      "Swiss guilloche main       1\n",
      "London made                1\n",
      "Name: Watch Label, dtype: int64 \n",
      "\n",
      "Name: Watch Style\n",
      "Unique Values: 7\n",
      "None Value: 0\n",
      "Value Counts: Dress Watches       2622\n",
      "Luxury Watches      2171\n",
      "Casual Watches      1892\n",
      "Sport Watches       1336\n",
      "Dive Watches         390\n",
      "Fashion Watches      187\n",
      "Military Watches      84\n",
      "Name: Watch Style, dtype: int64 \n",
      "\n",
      "Name: Water Resistance\n",
      "Unique Values: 40\n",
      "None Value: 55\n",
      "Value Counts: 100 meters / 330 feet       2405\n",
      "50 meters / 165 feet        2348\n",
      "30 meters / 100 feet        2286\n",
      "200 meters / 660 feet        644\n",
      "300 meters / 1000 feet       369\n",
      "50 Meters / 165 Feet         167\n",
      "150 meters / 500 feet         82\n",
      "10 meters / 33 feet           63\n",
      "500 meters / 1650 feet        53\n",
      "1000 meters / 3300 feet       40\n",
      "60 meters / 200 feet          37\n",
      "100 Meters / 330 Feet         24\n",
      "600 meters / 2000 feet        20\n",
      "3 meters / 10 feet            15\n",
      "30 Meters / 100 Feet          10\n",
      "120 meters / 400 feet          9\n",
      "Splash Resistant               7\n",
      "20 meters / 65 feet            5\n",
      "25 meters / 80 feet            5\n",
      "3000 meters / 10000 feet       5\n",
      "3900 meters / 12800 feet       3\n",
      "300 meters / 990 feet          3\n",
      "30 meters / 90 feet            3\n",
      "50 meters/165 feet             2\n",
      "300 Meters / 1000 Feet         2\n",
      "30 meters/100 feet             2\n",
      "777 meters / 2549 feet         2\n",
      "1200 meters / 4000 feet        2\n",
      "None                           2\n",
      "30 Meters / 99 feet            2\n",
      "1500 meters / 5000 feet        1\n",
      "150 Meters / 495 Feet          1\n",
      "100 Meters / 330 feet          1\n",
      "10 Meters / 33 Feet            1\n",
      "5 atm/50 meters/165 feet       1\n",
      "0 meters / 0 feet              1\n",
      "4000 meters / 13120 feet       1\n",
      "90 meters / 300 feet           1\n",
      "300 Meter / 1000 Feet          1\n",
      "6 Bar                          1\n",
      "Name: Water Resistance, dtype: int64 \n",
      "\n",
      "Name: price\n",
      "Unique Values: 1187\n",
      "None Value: 0\n",
      "Value Counts: \\n                        $595.00                            216\n",
      "\\n                        $995.00                            200\n",
      "\\n                        $795.00                            200\n",
      "\\n                        $695.00                            194\n",
      "\\n                        $495.00                            173\n",
      "                                                            ... \n",
      "\\n                        $37,900.00                           1\n",
      "\\n                        $20,640.00                           1\n",
      "\\n                        $46,000.00                           1\n",
      "\\n                        $9,696.98                            1\n",
      "\\n                        $129,015.98                          1\n",
      "Name: price, Length: 1187, dtype: int64 \n",
      "\n",
      "Name: band_material_fixed\n",
      "Unique Values: 20\n",
      "None Value: 0\n",
      "Value Counts: Stainless Steel    2624\n",
      "Unknown            2190\n",
      "Leather            2025\n",
      "Rubber              332\n",
      "Alligator           331\n",
      "Silicone            257\n",
      "Gold                253\n",
      "Crocodile           138\n",
      "Ceramic             131\n",
      "Rose Gold           104\n",
      "Polyurethane         77\n",
      "Nylon                38\n",
      "Titanium             32\n",
      "Wood                 32\n",
      "NATO Nylon           23\n",
      "Resin                22\n",
      "Satin                21\n",
      "Alloy                19\n",
      "Fabric               18\n",
      "Textile              15\n",
      "Name: band_material_fixed, dtype: int64 \n",
      "\n"
     ]
    }
   ],
   "source": [
    "for i in df.columns:\n",
    "    print(f'Name: {i}')\n",
    "    print(f'Unique Values: {df[i].nunique()}')\n",
    "    print(f'None Value: {df[i].isna().sum()}')\n",
    "    print(f'Value Counts: {df[i].value_counts()}',  '\\n')"
   ]
  },
  {
   "cell_type": "markdown",
   "metadata": {},
   "source": [
    "Columns:\n",
    "Band Type - add unknown and categorize\n",
    "Band Width - change into numbers and round\n",
    "Bezel Material - Change Top 20\n",
    "Bezel - Change Top 20\n",
    "Brand - keep\n",
    "Calendar - Yes/No\n",
    "Case Back - Top 10\n",
    "Case Diameter - Change to Floats - fix for squares\n",
    "Case Material - Top 10\n",
    "Case Shape - keep\n",
    "Case Thickness - change to floats\n",
    "Clasp - Top 10\n",
    "Crown - Top 10\n",
    "Crystal - Top 10\n",
    "Dial Color - Top 20\n",
    "Dial Type - keep\n",
    "Engine- Drop? \n",
    "Features - Top 20\n",
    "Functions - Dummy it\n",
    "Gender - keep\n",
    "Hands - Top 20\n",
    "Model- Keep\n",
    "Movement - keep\n",
    "SKU - keep\n",
    "Series - Drop\n",
    "UPC Code- Drop\n",
    "Warranty - Drop\n",
    "Watch Label - keep\n",
    "Watch Style -Keep\n",
    "Water Resistance - turn to meters using regex\n",
    "Price - turn to integer"
   ]
  },
  {
   "cell_type": "code",
   "execution_count": 68,
   "metadata": {},
   "outputs": [],
   "source": [
    "df.fillna(\"Unknown\",inplace=True)"
   ]
  },
  {
   "cell_type": "code",
   "execution_count": 104,
   "metadata": {},
   "outputs": [
    {
     "data": {
      "text/plain": [
       "Strap       2863\n",
       "Bracelet    2728\n",
       "Name: Band Type, dtype: int64"
      ]
     },
     "execution_count": 104,
     "metadata": {},
     "output_type": "execute_result"
    }
   ],
   "source": [
    "df['Band Type'].value_counts()"
   ]
  },
  {
   "cell_type": "code",
   "execution_count": 105,
   "metadata": {},
   "outputs": [],
   "source": [
    "cols = df.columns.to_list()"
   ]
  },
  {
   "cell_type": "code",
   "execution_count": 106,
   "metadata": {},
   "outputs": [
    {
     "data": {
      "text/plain": [
       "['Band Material', 'Band Type', 'Band Width', 'Bezel Material', 'Bezel']"
      ]
     },
     "execution_count": 106,
     "metadata": {},
     "output_type": "execute_result"
    }
   ],
   "source": [
    "cols[:5]"
   ]
  },
  {
   "cell_type": "code",
   "execution_count": 107,
   "metadata": {},
   "outputs": [],
   "source": [
    "df.reset_index(inplace= True)"
   ]
  },
  {
   "cell_type": "code",
   "execution_count": 109,
   "metadata": {},
   "outputs": [],
   "source": [
    "df['Band Width'] = df['Band Width'].str.extract(r'([0-9.]*) mm')"
   ]
  },
  {
   "cell_type": "code",
   "execution_count": 110,
   "metadata": {},
   "outputs": [],
   "source": [
    "df['Band Width'].fillna('0', inplace=True)"
   ]
  },
  {
   "cell_type": "code",
   "execution_count": 113,
   "metadata": {},
   "outputs": [
    {
     "data": {
      "text/plain": [
       "str"
      ]
     },
     "execution_count": 113,
     "metadata": {},
     "output_type": "execute_result"
    }
   ],
   "source": [
    "type(df['Band Width'][1])"
   ]
  },
  {
   "cell_type": "code",
   "execution_count": 123,
   "metadata": {},
   "outputs": [],
   "source": [
    "df['Band Width'] = pd.to_numeric(df['Band Width'])"
   ]
  },
  {
   "cell_type": "code",
   "execution_count": 124,
   "metadata": {},
   "outputs": [
    {
     "data": {
      "text/plain": [
       "0        0.0\n",
       "1        0.0\n",
       "2       16.0\n",
       "3        0.0\n",
       "4        0.0\n",
       "        ... \n",
       "8677    22.0\n",
       "8678     0.0\n",
       "8679    18.0\n",
       "8680    14.0\n",
       "8681     0.0\n",
       "Name: Band Width, Length: 8682, dtype: float64"
      ]
     },
     "execution_count": 124,
     "metadata": {},
     "output_type": "execute_result"
    }
   ],
   "source": [
    "df['Band Width']"
   ]
  },
  {
   "cell_type": "code",
   "execution_count": 125,
   "metadata": {},
   "outputs": [],
   "source": [
    "df.to_pickle(\"watches_final.pkl\")"
   ]
  },
  {
   "cell_type": "code",
   "execution_count": null,
   "metadata": {},
   "outputs": [],
   "source": [
    "pd.read_pickle('watches_fin')"
   ]
  }
 ],
 "metadata": {
  "kernelspec": {
   "display_name": "Python 3",
   "language": "python",
   "name": "python3"
  },
  "language_info": {
   "codemirror_mode": {
    "name": "ipython",
    "version": 3
   },
   "file_extension": ".py",
   "mimetype": "text/x-python",
   "name": "python",
   "nbconvert_exporter": "python",
   "pygments_lexer": "ipython3",
   "version": "3.7.4"
  },
  "toc": {
   "base_numbering": 1,
   "nav_menu": {},
   "number_sections": true,
   "sideBar": true,
   "skip_h1_title": false,
   "title_cell": "Table of Contents",
   "title_sidebar": "Contents",
   "toc_cell": false,
   "toc_position": {
    "height": "calc(100% - 180px)",
    "left": "10px",
    "top": "150px",
    "width": "213.333px"
   },
   "toc_section_display": true,
   "toc_window_display": true
  }
 },
 "nbformat": 4,
 "nbformat_minor": 2
}
