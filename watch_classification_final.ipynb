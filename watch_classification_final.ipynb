{
 "cells": [
  {
   "cell_type": "markdown",
   "metadata": {},
   "source": [
    "# Import Data and Modules"
   ]
  },
  {
   "cell_type": "code",
   "execution_count": 1,
   "metadata": {},
   "outputs": [],
   "source": [
    "import pandas as pd"
   ]
  },
  {
   "cell_type": "code",
   "execution_count": 2,
   "metadata": {},
   "outputs": [
    {
     "name": "stdout",
     "output_type": "stream",
     "text": [
      "README.txt                        watch_output_fashion.csv\r\n",
      "Watches4.ipynb                    watch_output_luxury2.csv\r\n",
      "battle_wins.ipynb                 watch_output_military.csv\r\n",
      "df3_dummied.csv                   watch_output_sport.csv\r\n",
      "df_watches.csv                    watches.ipynb\r\n",
      "final_watches.ipynb               watches2.ipynb\r\n",
      "watch_classification_final.ipynb  watches3.ipynb\r\n",
      "watch_output.csv                  watches_category.csv\r\n",
      "watch_output2.csv                 watches_final.pkl\r\n",
      "watch_output_casual.csv           watches_final2.pkl\r\n",
      "watch_output_dive.csv             watcheslinks.csv\r\n",
      "watch_output_dress.csv\r\n"
     ]
    }
   ],
   "source": [
    "ls"
   ]
  },
  {
   "cell_type": "code",
   "execution_count": 12,
   "metadata": {},
   "outputs": [],
   "source": [
    "df = pd.read_pickle('watches_final2.pkl')"
   ]
  },
  {
   "cell_type": "markdown",
   "metadata": {},
   "source": [
    "# Explore Data"
   ]
  },
  {
   "cell_type": "markdown",
   "metadata": {},
   "source": [
    "## Dimensions"
   ]
  },
  {
   "cell_type": "code",
   "execution_count": 13,
   "metadata": {},
   "outputs": [
    {
     "data": {
      "text/plain": [
       "(8673, 26)"
      ]
     },
     "execution_count": 13,
     "metadata": {},
     "output_type": "execute_result"
    }
   ],
   "source": [
    "df.shape"
   ]
  },
  {
   "cell_type": "code",
   "execution_count": 14,
   "metadata": {},
   "outputs": [
    {
     "data": {
      "text/html": [
       "<div>\n",
       "<style scoped>\n",
       "    .dataframe tbody tr th:only-of-type {\n",
       "        vertical-align: middle;\n",
       "    }\n",
       "\n",
       "    .dataframe tbody tr th {\n",
       "        vertical-align: top;\n",
       "    }\n",
       "\n",
       "    .dataframe thead th {\n",
       "        text-align: right;\n",
       "    }\n",
       "</style>\n",
       "<table border=\"1\" class=\"dataframe\">\n",
       "  <thead>\n",
       "    <tr style=\"text-align: right;\">\n",
       "      <th></th>\n",
       "      <th>case_material_fixed</th>\n",
       "      <th>sku</th>\n",
       "      <th>case_shape</th>\n",
       "      <th>bezel</th>\n",
       "      <th>case_diameter_fixed</th>\n",
       "      <th>clasp_fixed</th>\n",
       "      <th>brand</th>\n",
       "      <th>case_thickness_fixed</th>\n",
       "      <th>band_material_fixed</th>\n",
       "      <th>model</th>\n",
       "      <th>...</th>\n",
       "      <th>crown_fixed</th>\n",
       "      <th>water_resistance</th>\n",
       "      <th>functions_fixed</th>\n",
       "      <th>band_width</th>\n",
       "      <th>crystal_fixed</th>\n",
       "      <th>watch_label</th>\n",
       "      <th>watch_style</th>\n",
       "      <th>features_fixed</th>\n",
       "      <th>dial_color_fixed</th>\n",
       "      <th>gender</th>\n",
       "    </tr>\n",
       "  </thead>\n",
       "  <tbody>\n",
       "    <tr>\n",
       "      <td>0</td>\n",
       "      <td>other</td>\n",
       "      <td>PK-5951P001</td>\n",
       "      <td>Rectangle</td>\n",
       "      <td>other</td>\n",
       "      <td>37.3</td>\n",
       "      <td>tang</td>\n",
       "      <td>Patek Philippe</td>\n",
       "      <td>0.00</td>\n",
       "      <td>Unknown</td>\n",
       "      <td>5951P-001</td>\n",
       "      <td>...</td>\n",
       "      <td>screw down</td>\n",
       "      <td>30</td>\n",
       "      <td>Hour, Minute</td>\n",
       "      <td>0.0</td>\n",
       "      <td>Scratch Resistant Sapphire</td>\n",
       "      <td>Swiss Made</td>\n",
       "      <td>Luxury Watches</td>\n",
       "      <td>other</td>\n",
       "      <td>Black</td>\n",
       "      <td>Unisex</td>\n",
       "    </tr>\n",
       "    <tr>\n",
       "      <td>1</td>\n",
       "      <td>titanium</td>\n",
       "      <td>AP26587TIOOD031CA01</td>\n",
       "      <td>Round</td>\n",
       "      <td>other</td>\n",
       "      <td>44.0</td>\n",
       "      <td>fold over</td>\n",
       "      <td>Audemars Piguet</td>\n",
       "      <td>16.15</td>\n",
       "      <td>Unknown</td>\n",
       "      <td>26587TI.OO.D031CA.01</td>\n",
       "      <td>...</td>\n",
       "      <td>screw down</td>\n",
       "      <td>100</td>\n",
       "      <td>other</td>\n",
       "      <td>0.0</td>\n",
       "      <td>Scratch Resistant Sapphire</td>\n",
       "      <td>Swiss Made</td>\n",
       "      <td>Luxury Watches</td>\n",
       "      <td>other</td>\n",
       "      <td>other</td>\n",
       "      <td>Mens</td>\n",
       "    </tr>\n",
       "    <tr>\n",
       "      <td>2</td>\n",
       "      <td>other</td>\n",
       "      <td>PK-5959P011</td>\n",
       "      <td>Round</td>\n",
       "      <td>fixed</td>\n",
       "      <td>33.0</td>\n",
       "      <td>deployment</td>\n",
       "      <td>Patek Philippe</td>\n",
       "      <td>0.00</td>\n",
       "      <td>Crocodile</td>\n",
       "      <td>5959P-011</td>\n",
       "      <td>...</td>\n",
       "      <td>pull</td>\n",
       "      <td>30</td>\n",
       "      <td>Hour, Minute</td>\n",
       "      <td>16.0</td>\n",
       "      <td>Scratch Resistant Sapphire</td>\n",
       "      <td>Swiss Made</td>\n",
       "      <td>Luxury Watches</td>\n",
       "      <td>other</td>\n",
       "      <td>Black</td>\n",
       "      <td>Unisex</td>\n",
       "    </tr>\n",
       "    <tr>\n",
       "      <td>3</td>\n",
       "      <td>other</td>\n",
       "      <td>PK-6102P-001</td>\n",
       "      <td>Round</td>\n",
       "      <td>fixed</td>\n",
       "      <td>44.0</td>\n",
       "      <td>tang</td>\n",
       "      <td>Patek Philippe</td>\n",
       "      <td>0.00</td>\n",
       "      <td>Alligator</td>\n",
       "      <td>6102P-001</td>\n",
       "      <td>...</td>\n",
       "      <td>other</td>\n",
       "      <td>30</td>\n",
       "      <td>Hour, Minute, Second</td>\n",
       "      <td>0.0</td>\n",
       "      <td>Scratch Resistant Sapphire</td>\n",
       "      <td>Swiss Made</td>\n",
       "      <td>Luxury Watches</td>\n",
       "      <td>other</td>\n",
       "      <td>Blue</td>\n",
       "      <td>Mens</td>\n",
       "    </tr>\n",
       "    <tr>\n",
       "      <td>4</td>\n",
       "      <td>rose gold</td>\n",
       "      <td>PK-52041R001</td>\n",
       "      <td>Round</td>\n",
       "      <td>fixed</td>\n",
       "      <td>40.0</td>\n",
       "      <td>other</td>\n",
       "      <td>Patek Philippe</td>\n",
       "      <td>14.30</td>\n",
       "      <td>Rose Gold</td>\n",
       "      <td>5204/1R-001</td>\n",
       "      <td>...</td>\n",
       "      <td>other</td>\n",
       "      <td>30</td>\n",
       "      <td>Hour, Minute, Second</td>\n",
       "      <td>0.0</td>\n",
       "      <td>Scratch Resistant Sapphire</td>\n",
       "      <td>Swiss Made</td>\n",
       "      <td>Luxury Watches</td>\n",
       "      <td>other</td>\n",
       "      <td>Black</td>\n",
       "      <td>Mens</td>\n",
       "    </tr>\n",
       "  </tbody>\n",
       "</table>\n",
       "<p>5 rows × 26 columns</p>\n",
       "</div>"
      ],
      "text/plain": [
       "  case_material_fixed                  sku case_shape  bezel  \\\n",
       "0               other          PK-5951P001  Rectangle  other   \n",
       "1            titanium  AP26587TIOOD031CA01      Round  other   \n",
       "2               other          PK-5959P011      Round  fixed   \n",
       "3               other         PK-6102P-001      Round  fixed   \n",
       "4           rose gold         PK-52041R001      Round  fixed   \n",
       "\n",
       "   case_diameter_fixed clasp_fixed            brand  case_thickness_fixed  \\\n",
       "0                 37.3        tang   Patek Philippe                  0.00   \n",
       "1                 44.0   fold over  Audemars Piguet                 16.15   \n",
       "2                 33.0  deployment   Patek Philippe                  0.00   \n",
       "3                 44.0        tang   Patek Philippe                  0.00   \n",
       "4                 40.0       other   Patek Philippe                 14.30   \n",
       "\n",
       "  band_material_fixed                 model  ... crown_fixed water_resistance  \\\n",
       "0             Unknown             5951P-001  ...  screw down               30   \n",
       "1             Unknown  26587TI.OO.D031CA.01  ...  screw down              100   \n",
       "2           Crocodile             5959P-011  ...        pull               30   \n",
       "3           Alligator             6102P-001  ...       other               30   \n",
       "4           Rose Gold           5204/1R-001  ...       other               30   \n",
       "\n",
       "        functions_fixed band_width               crystal_fixed watch_label  \\\n",
       "0          Hour, Minute        0.0  Scratch Resistant Sapphire  Swiss Made   \n",
       "1                 other        0.0  Scratch Resistant Sapphire  Swiss Made   \n",
       "2          Hour, Minute       16.0  Scratch Resistant Sapphire  Swiss Made   \n",
       "3  Hour, Minute, Second        0.0  Scratch Resistant Sapphire  Swiss Made   \n",
       "4  Hour, Minute, Second        0.0  Scratch Resistant Sapphire  Swiss Made   \n",
       "\n",
       "      watch_style  features_fixed dial_color_fixed  gender  \n",
       "0  Luxury Watches           other            Black  Unisex  \n",
       "1  Luxury Watches           other            other    Mens  \n",
       "2  Luxury Watches           other            Black  Unisex  \n",
       "3  Luxury Watches           other             Blue    Mens  \n",
       "4  Luxury Watches           other            Black    Mens  \n",
       "\n",
       "[5 rows x 26 columns]"
      ]
     },
     "execution_count": 14,
     "metadata": {},
     "output_type": "execute_result"
    }
   ],
   "source": [
    "df.head()"
   ]
  },
  {
   "cell_type": "code",
   "execution_count": 17,
   "metadata": {},
   "outputs": [
    {
     "data": {
      "text/plain": [
       "case_material_fixed     0\n",
       "sku                     0\n",
       "case_shape              0\n",
       "bezel                   0\n",
       "case_diameter_fixed     0\n",
       "clasp_fixed             0\n",
       "brand                   0\n",
       "case_thickness_fixed    0\n",
       "band_material_fixed     0\n",
       "model                   0\n",
       "dial_type               0\n",
       "movement                0\n",
       "engine                  0\n",
       "hands_fixed             0\n",
       "price_fixed             0\n",
       "calendar                0\n",
       "crown_fixed             0\n",
       "water_resistance        0\n",
       "functions_fixed         0\n",
       "band_width              0\n",
       "crystal_fixed           0\n",
       "watch_label             0\n",
       "watch_style             0\n",
       "features_fixed          0\n",
       "dial_color_fixed        0\n",
       "gender                  0\n",
       "dtype: int64"
      ]
     },
     "execution_count": 17,
     "metadata": {},
     "output_type": "execute_result"
    }
   ],
   "source": [
    "df.isna().sum()"
   ]
  },
  {
   "cell_type": "code",
   "execution_count": 18,
   "metadata": {},
   "outputs": [
    {
     "name": "stdout",
     "output_type": "stream",
     "text": [
      "<class 'pandas.core.frame.DataFrame'>\n",
      "Int64Index: 8673 entries, 0 to 8681\n",
      "Data columns (total 26 columns):\n",
      "case_material_fixed     8673 non-null object\n",
      "sku                     8673 non-null object\n",
      "case_shape              8673 non-null object\n",
      "bezel                   8673 non-null object\n",
      "case_diameter_fixed     8673 non-null float64\n",
      "clasp_fixed             8673 non-null object\n",
      "brand                   8673 non-null object\n",
      "case_thickness_fixed    8673 non-null float64\n",
      "band_material_fixed     8673 non-null object\n",
      "model                   8673 non-null object\n",
      "dial_type               8673 non-null object\n",
      "movement                8673 non-null object\n",
      "engine                  8673 non-null object\n",
      "hands_fixed             8673 non-null object\n",
      "price_fixed             8673 non-null object\n",
      "calendar                8673 non-null object\n",
      "crown_fixed             8673 non-null object\n",
      "water_resistance        8673 non-null int64\n",
      "functions_fixed         8673 non-null object\n",
      "band_width              8673 non-null float64\n",
      "crystal_fixed           8673 non-null object\n",
      "watch_label             8673 non-null object\n",
      "watch_style             8673 non-null object\n",
      "features_fixed          8673 non-null object\n",
      "dial_color_fixed        8673 non-null object\n",
      "gender                  8673 non-null object\n",
      "dtypes: float64(3), int64(1), object(22)\n",
      "memory usage: 1.8+ MB\n"
     ]
    }
   ],
   "source": [
    "#data types\n",
    "df.info()"
   ]
  },
  {
   "cell_type": "code",
   "execution_count": 22,
   "metadata": {},
   "outputs": [
    {
     "data": {
      "text/plain": [
       "'547,771.00'"
      ]
     },
     "execution_count": 22,
     "metadata": {},
     "output_type": "execute_result"
    }
   ],
   "source": []
  },
  {
   "cell_type": "code",
   "execution_count": 20,
   "metadata": {},
   "outputs": [
    {
     "data": {
      "text/html": [
       "<div>\n",
       "<style scoped>\n",
       "    .dataframe tbody tr th:only-of-type {\n",
       "        vertical-align: middle;\n",
       "    }\n",
       "\n",
       "    .dataframe tbody tr th {\n",
       "        vertical-align: top;\n",
       "    }\n",
       "\n",
       "    .dataframe thead th {\n",
       "        text-align: right;\n",
       "    }\n",
       "</style>\n",
       "<table border=\"1\" class=\"dataframe\">\n",
       "  <thead>\n",
       "    <tr style=\"text-align: right;\">\n",
       "      <th></th>\n",
       "      <th>case_material_fixed</th>\n",
       "      <th>sku</th>\n",
       "      <th>case_shape</th>\n",
       "      <th>bezel</th>\n",
       "      <th>case_diameter_fixed</th>\n",
       "      <th>clasp_fixed</th>\n",
       "      <th>brand</th>\n",
       "      <th>case_thickness_fixed</th>\n",
       "      <th>band_material_fixed</th>\n",
       "      <th>model</th>\n",
       "      <th>...</th>\n",
       "      <th>crown_fixed</th>\n",
       "      <th>water_resistance</th>\n",
       "      <th>functions_fixed</th>\n",
       "      <th>band_width</th>\n",
       "      <th>crystal_fixed</th>\n",
       "      <th>watch_label</th>\n",
       "      <th>watch_style</th>\n",
       "      <th>features_fixed</th>\n",
       "      <th>dial_color_fixed</th>\n",
       "      <th>gender</th>\n",
       "    </tr>\n",
       "  </thead>\n",
       "  <tbody>\n",
       "    <tr>\n",
       "      <td>0</td>\n",
       "      <td>other</td>\n",
       "      <td>PK-5951P001</td>\n",
       "      <td>Rectangle</td>\n",
       "      <td>other</td>\n",
       "      <td>37.3</td>\n",
       "      <td>tang</td>\n",
       "      <td>Patek Philippe</td>\n",
       "      <td>0.00</td>\n",
       "      <td>Unknown</td>\n",
       "      <td>5951P-001</td>\n",
       "      <td>...</td>\n",
       "      <td>screw down</td>\n",
       "      <td>30</td>\n",
       "      <td>Hour, Minute</td>\n",
       "      <td>0.0</td>\n",
       "      <td>Scratch Resistant Sapphire</td>\n",
       "      <td>Swiss Made</td>\n",
       "      <td>Luxury Watches</td>\n",
       "      <td>other</td>\n",
       "      <td>Black</td>\n",
       "      <td>Unisex</td>\n",
       "    </tr>\n",
       "    <tr>\n",
       "      <td>1</td>\n",
       "      <td>titanium</td>\n",
       "      <td>AP26587TIOOD031CA01</td>\n",
       "      <td>Round</td>\n",
       "      <td>other</td>\n",
       "      <td>44.0</td>\n",
       "      <td>fold over</td>\n",
       "      <td>Audemars Piguet</td>\n",
       "      <td>16.15</td>\n",
       "      <td>Unknown</td>\n",
       "      <td>26587TI.OO.D031CA.01</td>\n",
       "      <td>...</td>\n",
       "      <td>screw down</td>\n",
       "      <td>100</td>\n",
       "      <td>other</td>\n",
       "      <td>0.0</td>\n",
       "      <td>Scratch Resistant Sapphire</td>\n",
       "      <td>Swiss Made</td>\n",
       "      <td>Luxury Watches</td>\n",
       "      <td>other</td>\n",
       "      <td>other</td>\n",
       "      <td>Mens</td>\n",
       "    </tr>\n",
       "    <tr>\n",
       "      <td>2</td>\n",
       "      <td>other</td>\n",
       "      <td>PK-5959P011</td>\n",
       "      <td>Round</td>\n",
       "      <td>fixed</td>\n",
       "      <td>33.0</td>\n",
       "      <td>deployment</td>\n",
       "      <td>Patek Philippe</td>\n",
       "      <td>0.00</td>\n",
       "      <td>Crocodile</td>\n",
       "      <td>5959P-011</td>\n",
       "      <td>...</td>\n",
       "      <td>pull</td>\n",
       "      <td>30</td>\n",
       "      <td>Hour, Minute</td>\n",
       "      <td>16.0</td>\n",
       "      <td>Scratch Resistant Sapphire</td>\n",
       "      <td>Swiss Made</td>\n",
       "      <td>Luxury Watches</td>\n",
       "      <td>other</td>\n",
       "      <td>Black</td>\n",
       "      <td>Unisex</td>\n",
       "    </tr>\n",
       "    <tr>\n",
       "      <td>3</td>\n",
       "      <td>other</td>\n",
       "      <td>PK-6102P-001</td>\n",
       "      <td>Round</td>\n",
       "      <td>fixed</td>\n",
       "      <td>44.0</td>\n",
       "      <td>tang</td>\n",
       "      <td>Patek Philippe</td>\n",
       "      <td>0.00</td>\n",
       "      <td>Alligator</td>\n",
       "      <td>6102P-001</td>\n",
       "      <td>...</td>\n",
       "      <td>other</td>\n",
       "      <td>30</td>\n",
       "      <td>Hour, Minute, Second</td>\n",
       "      <td>0.0</td>\n",
       "      <td>Scratch Resistant Sapphire</td>\n",
       "      <td>Swiss Made</td>\n",
       "      <td>Luxury Watches</td>\n",
       "      <td>other</td>\n",
       "      <td>Blue</td>\n",
       "      <td>Mens</td>\n",
       "    </tr>\n",
       "    <tr>\n",
       "      <td>4</td>\n",
       "      <td>rose gold</td>\n",
       "      <td>PK-52041R001</td>\n",
       "      <td>Round</td>\n",
       "      <td>fixed</td>\n",
       "      <td>40.0</td>\n",
       "      <td>other</td>\n",
       "      <td>Patek Philippe</td>\n",
       "      <td>14.30</td>\n",
       "      <td>Rose Gold</td>\n",
       "      <td>5204/1R-001</td>\n",
       "      <td>...</td>\n",
       "      <td>other</td>\n",
       "      <td>30</td>\n",
       "      <td>Hour, Minute, Second</td>\n",
       "      <td>0.0</td>\n",
       "      <td>Scratch Resistant Sapphire</td>\n",
       "      <td>Swiss Made</td>\n",
       "      <td>Luxury Watches</td>\n",
       "      <td>other</td>\n",
       "      <td>Black</td>\n",
       "      <td>Mens</td>\n",
       "    </tr>\n",
       "  </tbody>\n",
       "</table>\n",
       "<p>5 rows × 26 columns</p>\n",
       "</div>"
      ],
      "text/plain": [
       "  case_material_fixed                  sku case_shape  bezel  \\\n",
       "0               other          PK-5951P001  Rectangle  other   \n",
       "1            titanium  AP26587TIOOD031CA01      Round  other   \n",
       "2               other          PK-5959P011      Round  fixed   \n",
       "3               other         PK-6102P-001      Round  fixed   \n",
       "4           rose gold         PK-52041R001      Round  fixed   \n",
       "\n",
       "   case_diameter_fixed clasp_fixed            brand  case_thickness_fixed  \\\n",
       "0                 37.3        tang   Patek Philippe                  0.00   \n",
       "1                 44.0   fold over  Audemars Piguet                 16.15   \n",
       "2                 33.0  deployment   Patek Philippe                  0.00   \n",
       "3                 44.0        tang   Patek Philippe                  0.00   \n",
       "4                 40.0       other   Patek Philippe                 14.30   \n",
       "\n",
       "  band_material_fixed                 model  ... crown_fixed water_resistance  \\\n",
       "0             Unknown             5951P-001  ...  screw down               30   \n",
       "1             Unknown  26587TI.OO.D031CA.01  ...  screw down              100   \n",
       "2           Crocodile             5959P-011  ...        pull               30   \n",
       "3           Alligator             6102P-001  ...       other               30   \n",
       "4           Rose Gold           5204/1R-001  ...       other               30   \n",
       "\n",
       "        functions_fixed band_width               crystal_fixed watch_label  \\\n",
       "0          Hour, Minute        0.0  Scratch Resistant Sapphire  Swiss Made   \n",
       "1                 other        0.0  Scratch Resistant Sapphire  Swiss Made   \n",
       "2          Hour, Minute       16.0  Scratch Resistant Sapphire  Swiss Made   \n",
       "3  Hour, Minute, Second        0.0  Scratch Resistant Sapphire  Swiss Made   \n",
       "4  Hour, Minute, Second        0.0  Scratch Resistant Sapphire  Swiss Made   \n",
       "\n",
       "      watch_style  features_fixed dial_color_fixed  gender  \n",
       "0  Luxury Watches           other            Black  Unisex  \n",
       "1  Luxury Watches           other            other    Mens  \n",
       "2  Luxury Watches           other            Black  Unisex  \n",
       "3  Luxury Watches           other             Blue    Mens  \n",
       "4  Luxury Watches           other            Black    Mens  \n",
       "\n",
       "[5 rows x 26 columns]"
      ]
     },
     "execution_count": 20,
     "metadata": {},
     "output_type": "execute_result"
    }
   ],
   "source": [
    "df.head()"
   ]
  },
  {
   "cell_type": "code",
   "execution_count": null,
   "metadata": {},
   "outputs": [],
   "source": []
  },
  {
   "cell_type": "code",
   "execution_count": null,
   "metadata": {},
   "outputs": [],
   "source": []
  },
  {
   "cell_type": "markdown",
   "metadata": {},
   "source": [
    "## To Do Before Charting"
   ]
  },
  {
   "cell_type": "markdown",
   "metadata": {},
   "source": [
    "### rearrange columns"
   ]
  },
  {
   "cell_type": "code",
   "execution_count": 50,
   "metadata": {},
   "outputs": [
    {
     "data": {
      "text/plain": [
       "['band_material_fixed',\n",
       " 'band_width',\n",
       " 'bezel',\n",
       " 'brand',\n",
       " 'calendar',\n",
       " 'case_diameter_fixed',\n",
       " 'case_material_fixed',\n",
       " 'case_shape',\n",
       " 'case_thickness_fixed',\n",
       " 'clasp_fixed',\n",
       " 'crown_fixed',\n",
       " 'crystal_fixed',\n",
       " 'dial_color_fixed',\n",
       " 'dial_type',\n",
       " 'engine',\n",
       " 'features_fixed',\n",
       " 'functions_fixed',\n",
       " 'gender',\n",
       " 'hands_fixed',\n",
       " 'model',\n",
       " 'movement',\n",
       " 'price_fixed',\n",
       " 'sku',\n",
       " 'watch_label',\n",
       " 'watch_style',\n",
       " 'water_resistance']"
      ]
     },
     "execution_count": 50,
     "metadata": {},
     "output_type": "execute_result"
    }
   ],
   "source": [
    "new_columns_sorter = sorted(list(df.columns))"
   ]
  },
  {
   "cell_type": "code",
   "execution_count": null,
   "metadata": {},
   "outputs": [],
   "source": []
  },
  {
   "cell_type": "code",
   "execution_count": null,
   "metadata": {},
   "outputs": [],
   "source": []
  },
  {
   "cell_type": "code",
   "execution_count": null,
   "metadata": {},
   "outputs": [],
   "source": []
  },
  {
   "cell_type": "code",
   "execution_count": null,
   "metadata": {},
   "outputs": [],
   "source": []
  },
  {
   "cell_type": "code",
   "execution_count": null,
   "metadata": {},
   "outputs": [],
   "source": []
  },
  {
   "cell_type": "markdown",
   "metadata": {},
   "source": [
    "### turn prices from strings to floats"
   ]
  },
  {
   "cell_type": "code",
   "execution_count": 33,
   "metadata": {},
   "outputs": [
    {
     "data": {
      "text/plain": [
       "0       547,771.00\n",
       "1       316,799.98\n",
       "2       350,000.00\n",
       "3       311,850.00\n",
       "4       323,200.00\n",
       "           ...    \n",
       "8677        145.00\n",
       "8678        200.00\n",
       "8679        595.00\n",
       "8680        140.00\n",
       "8681        410.00\n",
       "Name: price_fixed, Length: 8673, dtype: object"
      ]
     },
     "execution_count": 33,
     "metadata": {},
     "output_type": "execute_result"
    }
   ],
   "source": [
    "df['price_fixed']"
   ]
  },
  {
   "cell_type": "code",
   "execution_count": 36,
   "metadata": {},
   "outputs": [],
   "source": [
    "# get rid of commas\n",
    "df['price_fixed'] = df['price_fixed'].apply(lambda x: x.replace(',', ''))"
   ]
  },
  {
   "cell_type": "code",
   "execution_count": 45,
   "metadata": {},
   "outputs": [
    {
     "data": {
      "text/plain": [
       "1514    0\n",
       "2169    0\n",
       "2508    0\n",
       "2534    0\n",
       "2559    0\n",
       "2806    0\n",
       "3082    0\n",
       "3288    0\n",
       "3514    0\n",
       "3664    0\n",
       "4307    0\n",
       "4398    0\n",
       "4526    0\n",
       "4590    0\n",
       "5487    0\n",
       "5622    0\n",
       "5661    0\n",
       "5856    0\n",
       "6507    0\n",
       "6656    0\n",
       "7021    0\n",
       "7590    0\n",
       "8361    0\n",
       "Name: price_fixed, dtype: object"
      ]
     },
     "execution_count": 45,
     "metadata": {},
     "output_type": "execute_result"
    }
   ],
   "source": [
    "df[df['price_fixed'].str.split('.', expand=True)[1].isna()]['price_fixed']"
   ]
  },
  {
   "cell_type": "code",
   "execution_count": 46,
   "metadata": {},
   "outputs": [
    {
     "data": {
      "text/plain": [
       "case_material_fixed                            stainless steel\n",
       "sku                                                LNG81105796\n",
       "case_shape                                               Round\n",
       "bezel                                                    other\n",
       "case_diameter_fixed                                       26.5\n",
       "clasp_fixed                                          fold over\n",
       "brand                                                 Longines\n",
       "case_thickness_fixed                                         8\n",
       "band_material_fixed                                    Unknown\n",
       "model                                            L8.110.5.79.6\n",
       "dial_type                                               Analog\n",
       "movement                                                Quartz\n",
       "engine                                   Longines Calibre L250\n",
       "hands_fixed                                               Blue\n",
       "price_fixed                                                  0\n",
       "calendar                Date display at the 3 o'clock position\n",
       "crown_fixed                                               pull\n",
       "water_resistance                                            30\n",
       "functions_fixed                     Date, Hour, Minute, Second\n",
       "band_width                                                   0\n",
       "crystal_fixed                       Scratch Resistant Sapphire\n",
       "watch_label                                         Swiss Made\n",
       "watch_style                                     Luxury Watches\n",
       "features_fixed                           Gold, Stainless Steel\n",
       "dial_color_fixed                                     Champagne\n",
       "gender                                                  Womens\n",
       "Name: 1514, dtype: object"
      ]
     },
     "execution_count": 46,
     "metadata": {},
     "output_type": "execute_result"
    }
   ],
   "source": [
    "df.iloc[1514]"
   ]
  },
  {
   "cell_type": "code",
   "execution_count": 37,
   "metadata": {},
   "outputs": [
    {
     "ename": "ValueError",
     "evalue": "Unable to parse string \"price_fixed\" at position 0",
     "output_type": "error",
     "traceback": [
      "\u001b[0;31m--------------------------------------------------------------------------\u001b[0m",
      "\u001b[0;31mValueError\u001b[0m                               Traceback (most recent call last)",
      "\u001b[0;32mpandas/_libs/lib.pyx\u001b[0m in \u001b[0;36mpandas._libs.lib.maybe_convert_numeric\u001b[0;34m()\u001b[0m\n",
      "\u001b[0;31mValueError\u001b[0m: Unable to parse string \"price_fixed\"",
      "\nDuring handling of the above exception, another exception occurred:\n",
      "\u001b[0;31mValueError\u001b[0m                               Traceback (most recent call last)",
      "\u001b[0;32m<ipython-input-37-4161c9941478>\u001b[0m in \u001b[0;36m<module>\u001b[0;34m\u001b[0m\n\u001b[0;32m----> 1\u001b[0;31m \u001b[0mpd\u001b[0m\u001b[0;34m.\u001b[0m\u001b[0mto_numeric\u001b[0m\u001b[0;34m(\u001b[0m\u001b[0;34m'price_fixed'\u001b[0m\u001b[0;34m)\u001b[0m\u001b[0;34m\u001b[0m\u001b[0;34m\u001b[0m\u001b[0m\n\u001b[0m",
      "\u001b[0;32m~/opt/anaconda3/lib/python3.7/site-packages/pandas/core/tools/numeric.py\u001b[0m in \u001b[0;36mto_numeric\u001b[0;34m(arg, errors, downcast)\u001b[0m\n\u001b[1;32m    149\u001b[0m             \u001b[0mcoerce_numeric\u001b[0m \u001b[0;34m=\u001b[0m \u001b[0merrors\u001b[0m \u001b[0;32mnot\u001b[0m \u001b[0;32min\u001b[0m \u001b[0;34m(\u001b[0m\u001b[0;34m\"ignore\"\u001b[0m\u001b[0;34m,\u001b[0m \u001b[0;34m\"raise\"\u001b[0m\u001b[0;34m)\u001b[0m\u001b[0;34m\u001b[0m\u001b[0;34m\u001b[0m\u001b[0m\n\u001b[1;32m    150\u001b[0m             values = lib.maybe_convert_numeric(\n\u001b[0;32m--> 151\u001b[0;31m                 \u001b[0mvalues\u001b[0m\u001b[0;34m,\u001b[0m \u001b[0mset\u001b[0m\u001b[0;34m(\u001b[0m\u001b[0;34m)\u001b[0m\u001b[0;34m,\u001b[0m \u001b[0mcoerce_numeric\u001b[0m\u001b[0;34m=\u001b[0m\u001b[0mcoerce_numeric\u001b[0m\u001b[0;34m\u001b[0m\u001b[0;34m\u001b[0m\u001b[0m\n\u001b[0m\u001b[1;32m    152\u001b[0m             )\n\u001b[1;32m    153\u001b[0m \u001b[0;34m\u001b[0m\u001b[0m\n",
      "\u001b[0;32mpandas/_libs/lib.pyx\u001b[0m in \u001b[0;36mpandas._libs.lib.maybe_convert_numeric\u001b[0;34m()\u001b[0m\n",
      "\u001b[0;31mValueError\u001b[0m: Unable to parse string \"price_fixed\" at position 0"
     ]
    }
   ],
   "source": [
    "pd.to_numeric('price_fixed')"
   ]
  },
  {
   "cell_type": "code",
   "execution_count": null,
   "metadata": {},
   "outputs": [],
   "source": []
  },
  {
   "cell_type": "code",
   "execution_count": null,
   "metadata": {},
   "outputs": [],
   "source": []
  },
  {
   "cell_type": "code",
   "execution_count": null,
   "metadata": {},
   "outputs": [],
   "source": []
  },
  {
   "cell_type": "markdown",
   "metadata": {},
   "source": [
    "### Turn everything lower cased"
   ]
  },
  {
   "cell_type": "code",
   "execution_count": null,
   "metadata": {},
   "outputs": [],
   "source": []
  },
  {
   "cell_type": "code",
   "execution_count": null,
   "metadata": {},
   "outputs": [],
   "source": []
  },
  {
   "cell_type": "code",
   "execution_count": null,
   "metadata": {},
   "outputs": [],
   "source": []
  }
 ],
 "metadata": {
  "kernelspec": {
   "display_name": "Python 3",
   "language": "python",
   "name": "python3"
  },
  "language_info": {
   "codemirror_mode": {
    "name": "ipython",
    "version": 3
   },
   "file_extension": ".py",
   "mimetype": "text/x-python",
   "name": "python",
   "nbconvert_exporter": "python",
   "pygments_lexer": "ipython3",
   "version": "3.7.4"
  },
  "toc": {
   "base_numbering": 1,
   "nav_menu": {},
   "number_sections": true,
   "sideBar": true,
   "skip_h1_title": false,
   "title_cell": "Table of Contents",
   "title_sidebar": "Contents",
   "toc_cell": false,
   "toc_position": {},
   "toc_section_display": true,
   "toc_window_display": true
  }
 },
 "nbformat": 4,
 "nbformat_minor": 2
}
