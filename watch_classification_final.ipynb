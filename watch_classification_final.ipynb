{
 "cells": [
  {
   "cell_type": "markdown",
   "metadata": {},
   "source": [
    "# Import Data and Modules"
   ]
  },
  {
   "cell_type": "code",
   "execution_count": 1,
   "metadata": {},
   "outputs": [],
   "source": [
    "import pandas as pd"
   ]
  },
  {
   "cell_type": "code",
   "execution_count": 2,
   "metadata": {},
   "outputs": [],
   "source": [
    "import pickle"
   ]
  },
  {
   "cell_type": "code",
   "execution_count": 3,
   "metadata": {},
   "outputs": [],
   "source": [
    "from copy import deepcopy"
   ]
  },
  {
   "cell_type": "code",
   "execution_count": 2,
   "metadata": {},
   "outputs": [
    {
     "name": "stdout",
     "output_type": "stream",
     "text": [
      "README.txt                        watch_output_fashion.csv\r\n",
      "Watches4.ipynb                    watch_output_luxury2.csv\r\n",
      "battle_wins.ipynb                 watch_output_military.csv\r\n",
      "df3_dummied.csv                   watch_output_sport.csv\r\n",
      "df_watches.csv                    watches.ipynb\r\n",
      "final_watches.ipynb               watches2.ipynb\r\n",
      "watch_classification_final.ipynb  watches3.ipynb\r\n",
      "watch_output.csv                  watches_category.csv\r\n",
      "watch_output2.csv                 watches_final.pkl\r\n",
      "watch_output_casual.csv           watches_final2.pkl\r\n",
      "watch_output_dive.csv             watcheslinks.csv\r\n",
      "watch_output_dress.csv\r\n"
     ]
    }
   ],
   "source": [
    "ls"
   ]
  },
  {
   "cell_type": "code",
   "execution_count": 4,
   "metadata": {},
   "outputs": [],
   "source": [
    "df = pd.read_pickle('watches_final2.pkl')"
   ]
  },
  {
   "cell_type": "markdown",
   "metadata": {},
   "source": [
    "# Explore Data"
   ]
  },
  {
   "cell_type": "markdown",
   "metadata": {},
   "source": [
    "## Dimensions"
   ]
  },
  {
   "cell_type": "code",
   "execution_count": 5,
   "metadata": {},
   "outputs": [
    {
     "data": {
      "text/plain": [
       "(8673, 26)"
      ]
     },
     "execution_count": 5,
     "metadata": {},
     "output_type": "execute_result"
    }
   ],
   "source": [
    "df.shape"
   ]
  },
  {
   "cell_type": "code",
   "execution_count": 6,
   "metadata": {},
   "outputs": [
    {
     "data": {
      "text/html": [
       "<div>\n",
       "<style scoped>\n",
       "    .dataframe tbody tr th:only-of-type {\n",
       "        vertical-align: middle;\n",
       "    }\n",
       "\n",
       "    .dataframe tbody tr th {\n",
       "        vertical-align: top;\n",
       "    }\n",
       "\n",
       "    .dataframe thead th {\n",
       "        text-align: right;\n",
       "    }\n",
       "</style>\n",
       "<table border=\"1\" class=\"dataframe\">\n",
       "  <thead>\n",
       "    <tr style=\"text-align: right;\">\n",
       "      <th></th>\n",
       "      <th>case_material_fixed</th>\n",
       "      <th>sku</th>\n",
       "      <th>case_shape</th>\n",
       "      <th>bezel</th>\n",
       "      <th>case_diameter_fixed</th>\n",
       "      <th>clasp_fixed</th>\n",
       "      <th>brand</th>\n",
       "      <th>case_thickness_fixed</th>\n",
       "      <th>band_material_fixed</th>\n",
       "      <th>model</th>\n",
       "      <th>...</th>\n",
       "      <th>crown_fixed</th>\n",
       "      <th>water_resistance</th>\n",
       "      <th>functions_fixed</th>\n",
       "      <th>band_width</th>\n",
       "      <th>crystal_fixed</th>\n",
       "      <th>watch_label</th>\n",
       "      <th>watch_style</th>\n",
       "      <th>features_fixed</th>\n",
       "      <th>dial_color_fixed</th>\n",
       "      <th>gender</th>\n",
       "    </tr>\n",
       "  </thead>\n",
       "  <tbody>\n",
       "    <tr>\n",
       "      <td>0</td>\n",
       "      <td>other</td>\n",
       "      <td>PK-5951P001</td>\n",
       "      <td>Rectangle</td>\n",
       "      <td>other</td>\n",
       "      <td>37.3</td>\n",
       "      <td>tang</td>\n",
       "      <td>Patek Philippe</td>\n",
       "      <td>0.00</td>\n",
       "      <td>Unknown</td>\n",
       "      <td>5951P-001</td>\n",
       "      <td>...</td>\n",
       "      <td>screw down</td>\n",
       "      <td>30</td>\n",
       "      <td>Hour, Minute</td>\n",
       "      <td>0.0</td>\n",
       "      <td>Scratch Resistant Sapphire</td>\n",
       "      <td>Swiss Made</td>\n",
       "      <td>Luxury Watches</td>\n",
       "      <td>other</td>\n",
       "      <td>Black</td>\n",
       "      <td>Unisex</td>\n",
       "    </tr>\n",
       "    <tr>\n",
       "      <td>1</td>\n",
       "      <td>titanium</td>\n",
       "      <td>AP26587TIOOD031CA01</td>\n",
       "      <td>Round</td>\n",
       "      <td>other</td>\n",
       "      <td>44.0</td>\n",
       "      <td>fold over</td>\n",
       "      <td>Audemars Piguet</td>\n",
       "      <td>16.15</td>\n",
       "      <td>Unknown</td>\n",
       "      <td>26587TI.OO.D031CA.01</td>\n",
       "      <td>...</td>\n",
       "      <td>screw down</td>\n",
       "      <td>100</td>\n",
       "      <td>other</td>\n",
       "      <td>0.0</td>\n",
       "      <td>Scratch Resistant Sapphire</td>\n",
       "      <td>Swiss Made</td>\n",
       "      <td>Luxury Watches</td>\n",
       "      <td>other</td>\n",
       "      <td>other</td>\n",
       "      <td>Mens</td>\n",
       "    </tr>\n",
       "    <tr>\n",
       "      <td>2</td>\n",
       "      <td>other</td>\n",
       "      <td>PK-5959P011</td>\n",
       "      <td>Round</td>\n",
       "      <td>fixed</td>\n",
       "      <td>33.0</td>\n",
       "      <td>deployment</td>\n",
       "      <td>Patek Philippe</td>\n",
       "      <td>0.00</td>\n",
       "      <td>Crocodile</td>\n",
       "      <td>5959P-011</td>\n",
       "      <td>...</td>\n",
       "      <td>pull</td>\n",
       "      <td>30</td>\n",
       "      <td>Hour, Minute</td>\n",
       "      <td>16.0</td>\n",
       "      <td>Scratch Resistant Sapphire</td>\n",
       "      <td>Swiss Made</td>\n",
       "      <td>Luxury Watches</td>\n",
       "      <td>other</td>\n",
       "      <td>Black</td>\n",
       "      <td>Unisex</td>\n",
       "    </tr>\n",
       "    <tr>\n",
       "      <td>3</td>\n",
       "      <td>other</td>\n",
       "      <td>PK-6102P-001</td>\n",
       "      <td>Round</td>\n",
       "      <td>fixed</td>\n",
       "      <td>44.0</td>\n",
       "      <td>tang</td>\n",
       "      <td>Patek Philippe</td>\n",
       "      <td>0.00</td>\n",
       "      <td>Alligator</td>\n",
       "      <td>6102P-001</td>\n",
       "      <td>...</td>\n",
       "      <td>other</td>\n",
       "      <td>30</td>\n",
       "      <td>Hour, Minute, Second</td>\n",
       "      <td>0.0</td>\n",
       "      <td>Scratch Resistant Sapphire</td>\n",
       "      <td>Swiss Made</td>\n",
       "      <td>Luxury Watches</td>\n",
       "      <td>other</td>\n",
       "      <td>Blue</td>\n",
       "      <td>Mens</td>\n",
       "    </tr>\n",
       "    <tr>\n",
       "      <td>4</td>\n",
       "      <td>rose gold</td>\n",
       "      <td>PK-52041R001</td>\n",
       "      <td>Round</td>\n",
       "      <td>fixed</td>\n",
       "      <td>40.0</td>\n",
       "      <td>other</td>\n",
       "      <td>Patek Philippe</td>\n",
       "      <td>14.30</td>\n",
       "      <td>Rose Gold</td>\n",
       "      <td>5204/1R-001</td>\n",
       "      <td>...</td>\n",
       "      <td>other</td>\n",
       "      <td>30</td>\n",
       "      <td>Hour, Minute, Second</td>\n",
       "      <td>0.0</td>\n",
       "      <td>Scratch Resistant Sapphire</td>\n",
       "      <td>Swiss Made</td>\n",
       "      <td>Luxury Watches</td>\n",
       "      <td>other</td>\n",
       "      <td>Black</td>\n",
       "      <td>Mens</td>\n",
       "    </tr>\n",
       "  </tbody>\n",
       "</table>\n",
       "<p>5 rows × 26 columns</p>\n",
       "</div>"
      ],
      "text/plain": [
       "  case_material_fixed                  sku case_shape  bezel  \\\n",
       "0               other          PK-5951P001  Rectangle  other   \n",
       "1            titanium  AP26587TIOOD031CA01      Round  other   \n",
       "2               other          PK-5959P011      Round  fixed   \n",
       "3               other         PK-6102P-001      Round  fixed   \n",
       "4           rose gold         PK-52041R001      Round  fixed   \n",
       "\n",
       "   case_diameter_fixed clasp_fixed            brand  case_thickness_fixed  \\\n",
       "0                 37.3        tang   Patek Philippe                  0.00   \n",
       "1                 44.0   fold over  Audemars Piguet                 16.15   \n",
       "2                 33.0  deployment   Patek Philippe                  0.00   \n",
       "3                 44.0        tang   Patek Philippe                  0.00   \n",
       "4                 40.0       other   Patek Philippe                 14.30   \n",
       "\n",
       "  band_material_fixed                 model  ... crown_fixed water_resistance  \\\n",
       "0             Unknown             5951P-001  ...  screw down               30   \n",
       "1             Unknown  26587TI.OO.D031CA.01  ...  screw down              100   \n",
       "2           Crocodile             5959P-011  ...        pull               30   \n",
       "3           Alligator             6102P-001  ...       other               30   \n",
       "4           Rose Gold           5204/1R-001  ...       other               30   \n",
       "\n",
       "        functions_fixed band_width               crystal_fixed watch_label  \\\n",
       "0          Hour, Minute        0.0  Scratch Resistant Sapphire  Swiss Made   \n",
       "1                 other        0.0  Scratch Resistant Sapphire  Swiss Made   \n",
       "2          Hour, Minute       16.0  Scratch Resistant Sapphire  Swiss Made   \n",
       "3  Hour, Minute, Second        0.0  Scratch Resistant Sapphire  Swiss Made   \n",
       "4  Hour, Minute, Second        0.0  Scratch Resistant Sapphire  Swiss Made   \n",
       "\n",
       "      watch_style  features_fixed dial_color_fixed  gender  \n",
       "0  Luxury Watches           other            Black  Unisex  \n",
       "1  Luxury Watches           other            other    Mens  \n",
       "2  Luxury Watches           other            Black  Unisex  \n",
       "3  Luxury Watches           other             Blue    Mens  \n",
       "4  Luxury Watches           other            Black    Mens  \n",
       "\n",
       "[5 rows x 26 columns]"
      ]
     },
     "execution_count": 6,
     "metadata": {},
     "output_type": "execute_result"
    }
   ],
   "source": [
    "df.head()"
   ]
  },
  {
   "cell_type": "code",
   "execution_count": 7,
   "metadata": {},
   "outputs": [
    {
     "data": {
      "text/plain": [
       "case_material_fixed     0\n",
       "sku                     0\n",
       "case_shape              0\n",
       "bezel                   0\n",
       "case_diameter_fixed     0\n",
       "clasp_fixed             0\n",
       "brand                   0\n",
       "case_thickness_fixed    0\n",
       "band_material_fixed     0\n",
       "model                   0\n",
       "dial_type               0\n",
       "movement                0\n",
       "engine                  0\n",
       "hands_fixed             0\n",
       "price_fixed             0\n",
       "calendar                0\n",
       "crown_fixed             0\n",
       "water_resistance        0\n",
       "functions_fixed         0\n",
       "band_width              0\n",
       "crystal_fixed           0\n",
       "watch_label             0\n",
       "watch_style             0\n",
       "features_fixed          0\n",
       "dial_color_fixed        0\n",
       "gender                  0\n",
       "dtype: int64"
      ]
     },
     "execution_count": 7,
     "metadata": {},
     "output_type": "execute_result"
    }
   ],
   "source": [
    "df.isna().sum()"
   ]
  },
  {
   "cell_type": "code",
   "execution_count": 8,
   "metadata": {},
   "outputs": [
    {
     "name": "stdout",
     "output_type": "stream",
     "text": [
      "<class 'pandas.core.frame.DataFrame'>\n",
      "Int64Index: 8673 entries, 0 to 8681\n",
      "Data columns (total 26 columns):\n",
      "case_material_fixed     8673 non-null object\n",
      "sku                     8673 non-null object\n",
      "case_shape              8673 non-null object\n",
      "bezel                   8673 non-null object\n",
      "case_diameter_fixed     8673 non-null float64\n",
      "clasp_fixed             8673 non-null object\n",
      "brand                   8673 non-null object\n",
      "case_thickness_fixed    8673 non-null float64\n",
      "band_material_fixed     8673 non-null object\n",
      "model                   8673 non-null object\n",
      "dial_type               8673 non-null object\n",
      "movement                8673 non-null object\n",
      "engine                  8673 non-null object\n",
      "hands_fixed             8673 non-null object\n",
      "price_fixed             8673 non-null object\n",
      "calendar                8673 non-null object\n",
      "crown_fixed             8673 non-null object\n",
      "water_resistance        8673 non-null int64\n",
      "functions_fixed         8673 non-null object\n",
      "band_width              8673 non-null float64\n",
      "crystal_fixed           8673 non-null object\n",
      "watch_label             8673 non-null object\n",
      "watch_style             8673 non-null object\n",
      "features_fixed          8673 non-null object\n",
      "dial_color_fixed        8673 non-null object\n",
      "gender                  8673 non-null object\n",
      "dtypes: float64(3), int64(1), object(22)\n",
      "memory usage: 1.8+ MB\n"
     ]
    }
   ],
   "source": [
    "#data types\n",
    "df.info()"
   ]
  },
  {
   "cell_type": "markdown",
   "metadata": {},
   "source": [
    "## To Do Before Charting"
   ]
  },
  {
   "cell_type": "markdown",
   "metadata": {},
   "source": [
    "### rearrange columns"
   ]
  },
  {
   "cell_type": "code",
   "execution_count": 10,
   "metadata": {},
   "outputs": [],
   "source": [
    "new_columns_sorted = sorted(list(df.columns))"
   ]
  },
  {
   "cell_type": "code",
   "execution_count": 11,
   "metadata": {},
   "outputs": [],
   "source": [
    "df = df[new_columns_sorted]"
   ]
  },
  {
   "cell_type": "code",
   "execution_count": null,
   "metadata": {},
   "outputs": [],
   "source": []
  },
  {
   "cell_type": "markdown",
   "metadata": {},
   "source": [
    "### turn prices from strings to floats"
   ]
  },
  {
   "cell_type": "code",
   "execution_count": 13,
   "metadata": {},
   "outputs": [],
   "source": [
    "# get rid of commas\n",
    "df['price_fixed'] = df['price_fixed'].apply(lambda x: x.replace(',', ''))"
   ]
  },
  {
   "cell_type": "code",
   "execution_count": 14,
   "metadata": {},
   "outputs": [
    {
     "name": "stdout",
     "output_type": "stream",
     "text": [
      "Index: 1514, Price: 0 \n",
      "\n",
      "Index: 2169, Price: 0 \n",
      "\n",
      "Index: 2508, Price: 0 \n",
      "\n",
      "Index: 2534, Price: 0 \n",
      "\n",
      "Index: 2559, Price: 0 \n",
      "\n",
      "Index: 2797, Price: 0 \n",
      "\n",
      "Index: 3073, Price: 0 \n",
      "\n",
      "Index: 3279, Price: 0 \n",
      "\n",
      "Index: 3505, Price: 0 \n",
      "\n",
      "Index: 3655, Price: 0 \n",
      "\n",
      "Index: 4298, Price: 0 \n",
      "\n",
      "Index: 4389, Price: 0 \n",
      "\n",
      "Index: 4517, Price: 0 \n",
      "\n",
      "Index: 4581, Price: 0 \n",
      "\n",
      "Index: 5478, Price: 0 \n",
      "\n",
      "Index: 5613, Price: 0 \n",
      "\n",
      "Index: 5652, Price: 0 \n",
      "\n",
      "Index: 5847, Price: 0 \n",
      "\n",
      "Index: 6498, Price: 0 \n",
      "\n",
      "Index: 6647, Price: 0 \n",
      "\n",
      "Index: 7012, Price: 0 \n",
      "\n",
      "Index: 7581, Price: 0 \n",
      "\n",
      "Index: 8352, Price: 0 \n",
      "\n"
     ]
    }
   ],
   "source": [
    "# check if there are watches with price of 0\n",
    "count = 0\n",
    "for i in df['price_fixed']:\n",
    "    if '.' not in i:\n",
    "        print(f'Index: {count}, Price: {i}', '\\n')\n",
    "    count += 1"
   ]
  },
  {
   "cell_type": "code",
   "execution_count": 15,
   "metadata": {},
   "outputs": [],
   "source": [
    "# there shouldn't be watches with a price of 0\n",
    "test_df = df[df['price_fixed'] == '0']"
   ]
  },
  {
   "cell_type": "code",
   "execution_count": 17,
   "metadata": {},
   "outputs": [
    {
     "data": {
      "text/plain": [
       "(23, 26)"
      ]
     },
     "execution_count": 17,
     "metadata": {},
     "output_type": "execute_result"
    }
   ],
   "source": [
    "test_df.shape"
   ]
  },
  {
   "cell_type": "code",
   "execution_count": 78,
   "metadata": {},
   "outputs": [],
   "source": [
    "# we'll turn this into our test set\n",
    "test_df.to_pickle('test_watches.pkl')"
   ]
  },
  {
   "cell_type": "code",
   "execution_count": 18,
   "metadata": {},
   "outputs": [],
   "source": [
    "# get rid of test set\n",
    "df = df[df['price_fixed'] != '0']"
   ]
  },
  {
   "cell_type": "code",
   "execution_count": 19,
   "metadata": {
    "scrolled": true
   },
   "outputs": [],
   "source": [
    "# reset index\n",
    "df.reset_index(inplace = True)"
   ]
  },
  {
   "cell_type": "code",
   "execution_count": null,
   "metadata": {},
   "outputs": [],
   "source": []
  },
  {
   "cell_type": "code",
   "execution_count": 20,
   "metadata": {},
   "outputs": [
    {
     "data": {
      "text/plain": [
       "0"
      ]
     },
     "execution_count": 20,
     "metadata": {},
     "output_type": "execute_result"
    }
   ],
   "source": [
    "# find prices which don't have a period\n",
    "df['price_fixed'].str.split('.', expand=True)[1].isna().sum()"
   ]
  },
  {
   "cell_type": "code",
   "execution_count": 24,
   "metadata": {},
   "outputs": [],
   "source": [
    "#get rid of cents for price_fixed\n",
    "df['price_fixed'] = df['price_fixed'].str[:-3]"
   ]
  },
  {
   "cell_type": "code",
   "execution_count": 26,
   "metadata": {},
   "outputs": [],
   "source": [
    "df['price_fixed'] = pd.to_numeric(df['price_fixed'])"
   ]
  },
  {
   "cell_type": "code",
   "execution_count": 27,
   "metadata": {},
   "outputs": [
    {
     "data": {
      "text/plain": [
       "0       547771\n",
       "1       316799\n",
       "2       350000\n",
       "3       311850\n",
       "4       323200\n",
       "         ...  \n",
       "8645       145\n",
       "8646       200\n",
       "8647       595\n",
       "8648       140\n",
       "8649       410\n",
       "Name: price_fixed, Length: 8650, dtype: int64"
      ]
     },
     "execution_count": 27,
     "metadata": {},
     "output_type": "execute_result"
    }
   ],
   "source": [
    "df['price_fixed']"
   ]
  },
  {
   "cell_type": "markdown",
   "metadata": {},
   "source": [
    "### Turn everything lower cased"
   ]
  },
  {
   "cell_type": "code",
   "execution_count": 28,
   "metadata": {},
   "outputs": [],
   "source": [
    "# drop column created from import\n",
    "df.drop(columns = ['index'], inplace=True)"
   ]
  },
  {
   "cell_type": "code",
   "execution_count": 29,
   "metadata": {},
   "outputs": [],
   "source": [
    "cols = list(df.columns)"
   ]
  },
  {
   "cell_type": "code",
   "execution_count": 30,
   "metadata": {},
   "outputs": [],
   "source": [
    "cols_remove = ['band_width', 'case_diameter_fixed', 'case_thickness_fixed', 'price_fixed', 'water_resistane']"
   ]
  },
  {
   "cell_type": "code",
   "execution_count": 31,
   "metadata": {},
   "outputs": [],
   "source": [
    "cols_numeric = cols_remove"
   ]
  },
  {
   "cell_type": "code",
   "execution_count": 32,
   "metadata": {},
   "outputs": [],
   "source": [
    "df1 = deepcopy(df)"
   ]
  },
  {
   "cell_type": "code",
   "execution_count": 33,
   "metadata": {},
   "outputs": [],
   "source": [
    "#turn all to lower case\n",
    "df = df.apply(lambda x: x.astype(str).str.lower())"
   ]
  },
  {
   "cell_type": "code",
   "execution_count": 34,
   "metadata": {},
   "outputs": [
    {
     "data": {
      "text/plain": [
       "['band_width',\n",
       " 'case_diameter_fixed',\n",
       " 'case_thickness_fixed',\n",
       " 'price_fixed',\n",
       " 'water_resistane']"
      ]
     },
     "execution_count": 34,
     "metadata": {},
     "output_type": "execute_result"
    }
   ],
   "source": [
    "cols_numeric"
   ]
  },
  {
   "cell_type": "code",
   "execution_count": 35,
   "metadata": {},
   "outputs": [
    {
     "data": {
      "text/plain": [
       "0        0.0\n",
       "1        0.0\n",
       "2       16.0\n",
       "3        0.0\n",
       "4        0.0\n",
       "        ... \n",
       "8645    22.0\n",
       "8646     0.0\n",
       "8647    18.0\n",
       "8648    14.0\n",
       "8649     0.0\n",
       "Name: band_width, Length: 8650, dtype: float64"
      ]
     },
     "execution_count": 35,
     "metadata": {},
     "output_type": "execute_result"
    }
   ],
   "source": [
    "pd.to_numeric(df['band_width'])"
   ]
  },
  {
   "cell_type": "code",
   "execution_count": 37,
   "metadata": {},
   "outputs": [
    {
     "data": {
      "text/plain": [
       "['band_width',\n",
       " 'case_diameter_fixed',\n",
       " 'case_thickness_fixed',\n",
       " 'price_fixed',\n",
       " 'water_resistane']"
      ]
     },
     "execution_count": 37,
     "metadata": {},
     "output_type": "execute_result"
    }
   ],
   "source": [
    "cols_numeric"
   ]
  },
  {
   "cell_type": "code",
   "execution_count": 41,
   "metadata": {},
   "outputs": [],
   "source": [
    "cols_numeric.remove('water_resistane')"
   ]
  },
  {
   "cell_type": "code",
   "execution_count": 43,
   "metadata": {},
   "outputs": [],
   "source": [
    "for i in cols_numeric:\n",
    "    df[i] = pd.to_numeric(df[i])"
   ]
  },
  {
   "cell_type": "code",
   "execution_count": 49,
   "metadata": {},
   "outputs": [
    {
     "data": {
      "text/plain": [
       "numpy.float64"
      ]
     },
     "execution_count": 49,
     "metadata": {},
     "output_type": "execute_result"
    }
   ],
   "source": [
    "# check places\n",
    "type(df['band_width'][12])"
   ]
  },
  {
   "cell_type": "code",
   "execution_count": 50,
   "metadata": {},
   "outputs": [],
   "source": [
    "#fix water resistance\n",
    "df['water_resistance'] = pd.to_numeric(df['water_resistance'])"
   ]
  },
  {
   "cell_type": "markdown",
   "metadata": {},
   "source": [
    "## Find Correlations"
   ]
  },
  {
   "cell_type": "code",
   "execution_count": 51,
   "metadata": {},
   "outputs": [
    {
     "data": {
      "text/html": [
       "<div>\n",
       "<style scoped>\n",
       "    .dataframe tbody tr th:only-of-type {\n",
       "        vertical-align: middle;\n",
       "    }\n",
       "\n",
       "    .dataframe tbody tr th {\n",
       "        vertical-align: top;\n",
       "    }\n",
       "\n",
       "    .dataframe thead th {\n",
       "        text-align: right;\n",
       "    }\n",
       "</style>\n",
       "<table border=\"1\" class=\"dataframe\">\n",
       "  <thead>\n",
       "    <tr style=\"text-align: right;\">\n",
       "      <th></th>\n",
       "      <th>band_width</th>\n",
       "      <th>case_diameter_fixed</th>\n",
       "      <th>case_thickness_fixed</th>\n",
       "      <th>price_fixed</th>\n",
       "      <th>water_resistance</th>\n",
       "    </tr>\n",
       "  </thead>\n",
       "  <tbody>\n",
       "    <tr>\n",
       "      <td>band_width</td>\n",
       "      <td>1.000000</td>\n",
       "      <td>0.349209</td>\n",
       "      <td>0.472442</td>\n",
       "      <td>-0.229653</td>\n",
       "      <td>0.099807</td>\n",
       "    </tr>\n",
       "    <tr>\n",
       "      <td>case_diameter_fixed</td>\n",
       "      <td>0.349209</td>\n",
       "      <td>1.000000</td>\n",
       "      <td>0.382242</td>\n",
       "      <td>-0.010248</td>\n",
       "      <td>0.214092</td>\n",
       "    </tr>\n",
       "    <tr>\n",
       "      <td>case_thickness_fixed</td>\n",
       "      <td>0.472442</td>\n",
       "      <td>0.382242</td>\n",
       "      <td>1.000000</td>\n",
       "      <td>-0.093609</td>\n",
       "      <td>0.156621</td>\n",
       "    </tr>\n",
       "    <tr>\n",
       "      <td>price_fixed</td>\n",
       "      <td>-0.229653</td>\n",
       "      <td>-0.010248</td>\n",
       "      <td>-0.093609</td>\n",
       "      <td>1.000000</td>\n",
       "      <td>-0.009255</td>\n",
       "    </tr>\n",
       "    <tr>\n",
       "      <td>water_resistance</td>\n",
       "      <td>0.099807</td>\n",
       "      <td>0.214092</td>\n",
       "      <td>0.156621</td>\n",
       "      <td>-0.009255</td>\n",
       "      <td>1.000000</td>\n",
       "    </tr>\n",
       "  </tbody>\n",
       "</table>\n",
       "</div>"
      ],
      "text/plain": [
       "                      band_width  case_diameter_fixed  case_thickness_fixed  \\\n",
       "band_width              1.000000             0.349209              0.472442   \n",
       "case_diameter_fixed     0.349209             1.000000              0.382242   \n",
       "case_thickness_fixed    0.472442             0.382242              1.000000   \n",
       "price_fixed            -0.229653            -0.010248             -0.093609   \n",
       "water_resistance        0.099807             0.214092              0.156621   \n",
       "\n",
       "                      price_fixed  water_resistance  \n",
       "band_width              -0.229653          0.099807  \n",
       "case_diameter_fixed     -0.010248          0.214092  \n",
       "case_thickness_fixed    -0.093609          0.156621  \n",
       "price_fixed              1.000000         -0.009255  \n",
       "water_resistance        -0.009255          1.000000  "
      ]
     },
     "execution_count": 51,
     "metadata": {},
     "output_type": "execute_result"
    }
   ],
   "source": [
    "df.corr()"
   ]
  },
  {
   "cell_type": "code",
   "execution_count": null,
   "metadata": {},
   "outputs": [],
   "source": [
    "#at what level does correlations become too high?\n"
   ]
  },
  {
   "cell_type": "code",
   "execution_count": null,
   "metadata": {},
   "outputs": [],
   "source": []
  },
  {
   "cell_type": "code",
   "execution_count": null,
   "metadata": {},
   "outputs": [],
   "source": []
  },
  {
   "cell_type": "markdown",
   "metadata": {},
   "source": [
    "## Transformations"
   ]
  },
  {
   "cell_type": "markdown",
   "metadata": {},
   "source": [
    "### round to whole numbers"
   ]
  },
  {
   "cell_type": "code",
   "execution_count": 52,
   "metadata": {},
   "outputs": [],
   "source": [
    "#band_width\n",
    "df['band_width'] = df['band_width'].round()"
   ]
  },
  {
   "cell_type": "code",
   "execution_count": 53,
   "metadata": {},
   "outputs": [],
   "source": [
    "#case_diameter_fixed\n",
    "df['case_diameter_fixed'] = df['case_diameter_fixed'].round()"
   ]
  },
  {
   "cell_type": "code",
   "execution_count": 54,
   "metadata": {},
   "outputs": [],
   "source": [
    "#case_thickness_fixed\n",
    "df['case_thickness_fixed'] = df['case_thickness_fixed'].round()"
   ]
  },
  {
   "cell_type": "code",
   "execution_count": 55,
   "metadata": {},
   "outputs": [
    {
     "data": {
      "text/plain": [
       "50      2505\n",
       "100     2425\n",
       "30      2298\n",
       "200      643\n",
       "300      369\n",
       "150       83\n",
       "0         67\n",
       "10        61\n",
       "500       53\n",
       "1000      40\n",
       "60        37\n",
       "600       20\n",
       "3         15\n",
       "120        9\n",
       "20         5\n",
       "25         5\n",
       "3000       5\n",
       "3900       3\n",
       "777        2\n",
       "1200       2\n",
       "90         1\n",
       "1500       1\n",
       "4000       1\n",
       "Name: water_resistance, dtype: int64"
      ]
     },
     "execution_count": 55,
     "metadata": {},
     "output_type": "execute_result"
    }
   ],
   "source": [
    "df['water_resistance'].value_counts()"
   ]
  },
  {
   "cell_type": "code",
   "execution_count": 56,
   "metadata": {},
   "outputs": [
    {
     "data": {
      "text/plain": [
       "50      2505\n",
       "100     2425\n",
       "30      2298\n",
       "200      643\n",
       "300      369\n",
       "150       83\n",
       "0         67\n",
       "10        61\n",
       "500       53\n",
       "1000      40\n",
       "60        37\n",
       "600       20\n",
       "3         15\n",
       "120        9\n",
       "20         5\n",
       "25         5\n",
       "3000       5\n",
       "3900       3\n",
       "777        2\n",
       "1200       2\n",
       "90         1\n",
       "1500       1\n",
       "4000       1\n",
       "Name: water_resistance, dtype: int64"
      ]
     },
     "execution_count": 56,
     "metadata": {},
     "output_type": "execute_result"
    }
   ],
   "source": [
    "df['water_resistance'].round(100).value_counts()"
   ]
  },
  {
   "cell_type": "code",
   "execution_count": 57,
   "metadata": {},
   "outputs": [],
   "source": [
    "def custom_round(x, base = 50):\n",
    "    return int(base*round(float(x)/base))"
   ]
  },
  {
   "cell_type": "code",
   "execution_count": 58,
   "metadata": {},
   "outputs": [
    {
     "data": {
      "text/plain": [
       "50      4840\n",
       "100     2435\n",
       "200      643\n",
       "300      369\n",
       "0        153\n",
       "150       83\n",
       "500       53\n",
       "1000      40\n",
       "600       20\n",
       "3000       5\n",
       "3900       3\n",
       "1200       2\n",
       "800        2\n",
       "1500       1\n",
       "4000       1\n",
       "Name: water_resistance, dtype: int64"
      ]
     },
     "execution_count": 58,
     "metadata": {},
     "output_type": "execute_result"
    }
   ],
   "source": [
    "#applying rounding to 50\n",
    "df['water_resistance'].apply(custom_round).value_counts()"
   ]
  },
  {
   "cell_type": "code",
   "execution_count": 59,
   "metadata": {},
   "outputs": [],
   "source": [
    "#round using our function\n",
    "df['water_resistance'] = df['water_resistance'].apply(custom_round)"
   ]
  },
  {
   "cell_type": "code",
   "execution_count": 61,
   "metadata": {},
   "outputs": [
    {
     "data": {
      "text/plain": [
       "400      389\n",
       "600      382\n",
       "700      356\n",
       "500      347\n",
       "1000     318\n",
       "        ... \n",
       "24800      1\n",
       "20750      1\n",
       "16700      1\n",
       "33100      1\n",
       "16400      1\n",
       "Name: price_fixed, Length: 593, dtype: int64"
      ]
     },
     "execution_count": 61,
     "metadata": {},
     "output_type": "execute_result"
    }
   ],
   "source": [
    "df['price_fixed'].apply(custom_round).value_counts()"
   ]
  },
  {
   "cell_type": "code",
   "execution_count": 62,
   "metadata": {},
   "outputs": [],
   "source": [
    "# By rounding to nearest $50, we halve the number of values for price"
   ]
  },
  {
   "cell_type": "code",
   "execution_count": 63,
   "metadata": {},
   "outputs": [],
   "source": [
    "df['price_fixed'] = df['price_fixed'].apply(custom_round)"
   ]
  },
  {
   "cell_type": "markdown",
   "metadata": {},
   "source": [
    "# Chart"
   ]
  },
  {
   "cell_type": "code",
   "execution_count": 65,
   "metadata": {},
   "outputs": [],
   "source": [
    "import matplotlib.pyplot as plt\n",
    "import numpy as np"
   ]
  },
  {
   "cell_type": "code",
   "execution_count": 67,
   "metadata": {},
   "outputs": [
    {
     "data": {
      "text/plain": [
       "{'stainless steel': 2616,\n",
       " 'unknown': 2188,\n",
       " 'leather': 2011,\n",
       " 'rubber': 331,\n",
       " 'alligator': 331,\n",
       " 'silicone': 255,\n",
       " 'gold': 250,\n",
       " 'crocodile': 138,\n",
       " 'ceramic': 131,\n",
       " 'rose gold': 104,\n",
       " 'polyurethane': 75,\n",
       " 'nylon': 38,\n",
       " 'wood': 32,\n",
       " 'titanium': 32,\n",
       " 'nato nylon': 23,\n",
       " 'resin': 22,\n",
       " 'satin': 21,\n",
       " 'alloy': 19,\n",
       " 'fabric': 18,\n",
       " 'textile': 15}"
      ]
     },
     "execution_count": 67,
     "metadata": {},
     "output_type": "execute_result"
    }
   ],
   "source": [
    "#get value counts\n",
    "dict(df['band_material_fixed'].value_counts())"
   ]
  },
  {
   "cell_type": "code",
   "execution_count": 256,
   "metadata": {},
   "outputs": [],
   "source": [
    "#create list of dictionaries that have value counts\n",
    "list_of_bar_charts = []\n",
    "for i in list(df.columns):\n",
    "    list_of_bar_charts.append(dict(df[i].value_counts()))"
   ]
  },
  {
   "cell_type": "code",
   "execution_count": 284,
   "metadata": {},
   "outputs": [],
   "source": [
    "names_and_dicts = zip(list(df.columns), list_of_bar_charts)"
   ]
  },
  {
   "cell_type": "code",
   "execution_count": 285,
   "metadata": {},
   "outputs": [
    {
     "data": {
      "text/plain": [
       "{'stainless steel': 2616,\n",
       " 'unknown': 2188,\n",
       " 'leather': 2011,\n",
       " 'alligator': 331,\n",
       " 'rubber': 331,\n",
       " 'silicone': 255,\n",
       " 'gold': 250,\n",
       " 'crocodile': 138,\n",
       " 'ceramic': 131,\n",
       " 'rose gold': 104,\n",
       " 'polyurethane': 75,\n",
       " 'nylon': 38,\n",
       " 'wood': 32,\n",
       " 'titanium': 32,\n",
       " 'nato nylon': 23,\n",
       " 'resin': 22,\n",
       " 'satin': 21,\n",
       " 'alloy': 19,\n",
       " 'fabric': 18,\n",
       " 'textile': 15}"
      ]
     },
     "execution_count": 285,
     "metadata": {},
     "output_type": "execute_result"
    }
   ],
   "source": [
    "list_of_bar_charts[0]"
   ]
  },
  {
   "cell_type": "code",
   "execution_count": 262,
   "metadata": {},
   "outputs": [
    {
     "data": {
      "text/plain": [
       "{'stainless steel': 2616,\n",
       " 'unknown': 2188,\n",
       " 'leather': 2011,\n",
       " 'alligator': 331,\n",
       " 'rubber': 331,\n",
       " 'silicone': 255,\n",
       " 'gold': 250,\n",
       " 'crocodile': 138,\n",
       " 'ceramic': 131,\n",
       " 'rose gold': 104,\n",
       " 'polyurethane': 75,\n",
       " 'nylon': 38,\n",
       " 'wood': 32,\n",
       " 'titanium': 32,\n",
       " 'nato nylon': 23,\n",
       " 'resin': 22,\n",
       " 'satin': 21,\n",
       " 'alloy': 19,\n",
       " 'fabric': 18,\n",
       " 'textile': 15}"
      ]
     },
     "execution_count": 262,
     "metadata": {},
     "output_type": "execute_result"
    }
   ],
   "source": [
    "list_of_bar_charts[0]"
   ]
  },
  {
   "cell_type": "code",
   "execution_count": 271,
   "metadata": {
    "scrolled": true
   },
   "outputs": [
    {
     "data": {
      "text/plain": [
       "([0, 1, 2, 3, 4, 5, 6, 7, 8, 9, 10, 11, 12, 13, 14, 15, 16, 17, 18, 19],\n",
       " <a list of 20 Text xticklabel objects>)"
      ]
     },
     "execution_count": 271,
     "metadata": {},
     "output_type": "execute_result"
    },
    {
     "data": {
      "image/png": "[encoded data removed]",
      "text/plain": [
       "<Figure size 432x288 with 1 Axes>"
      ]
     },
     "metadata": {
      "needs_background": "light"
     },
     "output_type": "display_data"
    }
   ],
   "source": [
    "plt.bar(list_of_bar_charts[0].keys(), list_of_bar_charts[0].values())\n",
    "plt.xlabel('Name of {}')\n",
    "plt.xticks(fontsize= 10, rotation = 90)\n",
    "\n",
    "\n"
   ]
  },
  {
   "cell_type": "code",
   "execution_count": 274,
   "metadata": {},
   "outputs": [
    {
     "data": {
      "text/plain": [
       "[{'stainless steel': 2616,\n",
       "  'unknown': 2188,\n",
       "  'leather': 2011,\n",
       "  'alligator': 331,\n",
       "  'rubber': 331,\n",
       "  'silicone': 255,\n",
       "  'gold': 250,\n",
       "  'crocodile': 138,\n",
       "  'ceramic': 131,\n",
       "  'rose gold': 104,\n",
       "  'polyurethane': 75,\n",
       "  'nylon': 38,\n",
       "  'wood': 32,\n",
       "  'titanium': 32,\n",
       "  'nato nylon': 23,\n",
       "  'resin': 22,\n",
       "  'satin': 21,\n",
       "  'alloy': 19,\n",
       "  'fabric': 18,\n",
       "  'textile': 15},\n",
       " {0.0: 2033,\n",
       "  22.0: 1459,\n",
       "  20.0: 1447,\n",
       "  18.0: 785,\n",
       "  24.0: 454,\n",
       "  16.0: 376,\n",
       "  21.0: 370,\n",
       "  14.0: 237,\n",
       "  23.0: 230,\n",
       "  19.0: 204,\n",
       "  26.0: 161,\n",
       "  15.0: 148,\n",
       "  17.0: 134,\n",
       "  30.0: 93,\n",
       "  12.0: 92,\n",
       "  25.0: 74,\n",
       "  13.0: 48,\n",
       "  28.0: 48,\n",
       "  27.0: 39,\n",
       "  32.0: 38,\n",
       "  35.0: 31,\n",
       "  10.0: 24,\n",
       "  31.0: 23,\n",
       "  11.0: 23,\n",
       "  29.0: 23,\n",
       "  8.0: 10,\n",
       "  9.0: 10,\n",
       "  39.0: 7,\n",
       "  5.0: 6,\n",
       "  7.0: 6,\n",
       "  6.0: 4,\n",
       "  4.0: 4,\n",
       "  2.0: 2,\n",
       "  36.0: 2,\n",
       "  33.0: 2,\n",
       "  34.0: 1,\n",
       "  37.0: 1,\n",
       "  45.0: 1},\n",
       " {'fixed': 5488, 'other': 2390, 'rotating': 772},\n",
       " {'invicta': 645,\n",
       "  'tissot': 456,\n",
       "  'omega': 415,\n",
       "  'movado': 313,\n",
       "  'longines': 297,\n",
       "  'rado': 284,\n",
       "  'rolex': 238,\n",
       "  'jbw': 215,\n",
       "  'bertha': 191,\n",
       "  'heritor': 179,\n",
       "  'tag heuer': 178,\n",
       "  'hamilton': 172,\n",
       "  'ferre milano': 167,\n",
       "  'breitling': 160,\n",
       "  'seiko': 155,\n",
       "  'cartier': 140,\n",
       "  'raymond weil': 140,\n",
       "  'hublot': 130,\n",
       "  'mathey-tissot': 129,\n",
       "  'orient': 126,\n",
       "  'deep blue': 110,\n",
       "  'citizen': 105,\n",
       "  'victorinox': 102,\n",
       "  'bulova': 100,\n",
       "  'ulysse nardin': 95,\n",
       "  'reign': 91,\n",
       "  'morphic': 89,\n",
       "  'gv2 by gevril': 88,\n",
       "  'empress': 87,\n",
       "  'iwc': 84,\n",
       "  'gevril': 81,\n",
       "  'mido': 81,\n",
       "  'akribos xxiv': 75,\n",
       "  'bruno magli': 75,\n",
       "  'certina': 73,\n",
       "  'equipe': 68,\n",
       "  'zenith': 66,\n",
       "  'charmex': 63,\n",
       "  'patek philippe': 62,\n",
       "  'technomarine': 61,\n",
       "  'oris': 57,\n",
       "  'adee kaye': 56,\n",
       "  'michael kors': 55,\n",
       "  'eterna': 54,\n",
       "  'oniss': 54,\n",
       "  'jaeger lecoultre': 53,\n",
       "  'blancpain': 53,\n",
       "  'panerai': 50,\n",
       "  'baume et mercier': 49,\n",
       "  'armand nicolet': 49,\n",
       "  'lucien piccard': 47,\n",
       "  'bell and ross': 46,\n",
       "  'breed': 44,\n",
       "  'saint honore': 44,\n",
       "  'sophie and freda': 44,\n",
       "  'chopard': 43,\n",
       "  'charriol': 42,\n",
       "  'nomos': 41,\n",
       "  'swiss legend': 40,\n",
       "  'jacob & co.': 39,\n",
       "  'elini barokas': 39,\n",
       "  'just cavalli': 38,\n",
       "  'swiss military': 36,\n",
       "  'rebel': 36,\n",
       "  'elevon': 35,\n",
       "  'gucci': 35,\n",
       "  'earth': 34,\n",
       "  'simplify': 34,\n",
       "  'burgi': 33,\n",
       "  'audemars piguet': 33,\n",
       "  'maserati': 31,\n",
       "  'ebel': 30,\n",
       "  'tudor': 29,\n",
       "  'bvlgari': 29,\n",
       "  'jivago': 29,\n",
       "  'elysee': 29,\n",
       "  'equipe tritium': 27,\n",
       "  'brooklyn watch co.': 26,\n",
       "  'revue thommen': 25,\n",
       "  'perrelet': 25,\n",
       "  'alpina': 23,\n",
       "  'guess': 23,\n",
       "  'maurice lacroix': 23,\n",
       "  'casio': 23,\n",
       "  'diesel': 23,\n",
       "  'roberto cavalli': 23,\n",
       "  'montblanc': 22,\n",
       "  'breguet': 22,\n",
       "  'kate spade': 19,\n",
       "  'junghans': 17,\n",
       "  'frederique constant': 17,\n",
       "  'chanel': 16,\n",
       "  'vacheron constantin': 16,\n",
       "  'armani exchange': 15,\n",
       "  'fendi': 15,\n",
       "  'anne klein': 15,\n",
       "  'emporio armani': 15,\n",
       "  'franck muller': 14,\n",
       "  'lamborghini': 13,\n",
       "  'sevenfriday': 13,\n",
       "  'grovana': 12,\n",
       "  'joshua and sons': 12,\n",
       "  'ball': 10,\n",
       "  'suunto': 10,\n",
       "  'carl f. bucherer': 10,\n",
       "  'michele': 9,\n",
       "  'fiyta': 9,\n",
       "  'olivia burton': 9,\n",
       "  'milus': 9,\n",
       "  'swatch': 9,\n",
       "  'piaget': 9,\n",
       "  'glashutte': 9,\n",
       "  'bull titanium': 8,\n",
       "  'corum': 8,\n",
       "  'calvin klein': 8,\n",
       "  'armani': 8,\n",
       "  'a. lange & sohne': 8,\n",
       "  'eberhard and co': 8,\n",
       "  'girard perregaux': 7,\n",
       "  'fossil': 6,\n",
       "  'dior': 6,\n",
       "  'thomas earnshaw': 6,\n",
       "  'concord': 6,\n",
       "  'azzaro': 5,\n",
       "  's coifman': 5,\n",
       "  'harry winston': 5,\n",
       "  'waldhoff': 4,\n",
       "  'dkny': 4,\n",
       "  'coach': 4,\n",
       "  'zeno': 4,\n",
       "  'parmigiani fleurier': 4,\n",
       "  'swarovski': 4,\n",
       "  'd1 milano': 4,\n",
       "  'skagen': 4,\n",
       "  'chronoswiss': 4,\n",
       "  'bedat': 3,\n",
       "  'vulcain': 3,\n",
       "  'hermes': 3,\n",
       "  'dewitt': 3,\n",
       "  'nautica': 3,\n",
       "  'guy laroche': 3,\n",
       "  'timex': 3,\n",
       "  'ferrari': 3,\n",
       "  'salvatore ferragamo': 3,\n",
       "  'paul picot': 2,\n",
       "  'momo design': 2,\n",
       "  'edox': 2,\n",
       "  'enicar': 2,\n",
       "  'mr. jones': 2,\n",
       "  'fortis': 2,\n",
       "  'red line': 2,\n",
       "  'picasso and co': 2,\n",
       "  'roamer': 1,\n",
       "  'marc jacobs': 1,\n",
       "  'ralph lauren': 1,\n",
       "  'richard mille': 1,\n",
       "  'shield': 1,\n",
       "  'august steiner': 1,\n",
       "  'jacques lemans': 1,\n",
       "  'nixon': 1,\n",
       "  'jaquet droz': 1,\n",
       "  'house of horology': 1,\n",
       "  'hautlence': 1,\n",
       "  'tw steel': 1,\n",
       "  'aerowatch': 1,\n",
       "  'haemmer': 1},\n",
       " {'no': 2873,\n",
       "  \"date display at the 3 o'clock position\": 2445,\n",
       "  \"date display at the 6 o'clock position\": 1052,\n",
       "  \"date display between 4 and 5 o'clock position\": 663,\n",
       "  \"date display at the 4 o'clock position\": 413,\n",
       "  \"day of the week and date display at the 3 o'clock position\": 264,\n",
       "  \"date display between the 4 and 5 o'clock positions\": 181,\n",
       "  \"date display above the 6 o'clock position\": 81,\n",
       "  'perpetual calendar': 80,\n",
       "  \"date display at the 12 o'clock position\": 75,\n",
       "  \"date display at the 2 o'clock position\": 61,\n",
       "  \"date display at the 9 o'clock position\": 27,\n",
       "  'date and day': 22,\n",
       "  'date display around an inner circle': 21,\n",
       "  \"between the 4 and 5 o'clock position\": 16,\n",
       "  \"date display below the 12 o'clock position\": 14,\n",
       "  'date': 12,\n",
       "  'day and date': 12,\n",
       "  \"day of the week and date display at the 6 o'clock position\": 11,\n",
       "  \"date display at the 8 o'clock position\": 11,\n",
       "  \"date display at the  o'clock position\": 10,\n",
       "  \"date display at the 6 o'clock position. day of the week display centered on the 12 o'clock position\": 9,\n",
       "  'pointer date': 7,\n",
       "  \"date display between 4 and 5 o'clock positions\": 7,\n",
       "  \"day of the week and date display at the 9 o'clock position\": 7,\n",
       "  'date pointer': 6,\n",
       "  \"date display window at the 3 o'clock position\": 6,\n",
       "  \"date display between 3 and 4 o'clock position\": 6,\n",
       "  'day of the week and date display': 6,\n",
       "  \"date display at 3 o'clock| day display at 12 o'clock.\": 6,\n",
       "  'annual calendar': 6,\n",
       "  \"date display between 1 and 2 o'clock position\": 5,\n",
       "  \"day of the week and date display at the 12 and 6  o'clock position\": 5,\n",
       "  'day / date / month': 5,\n",
       "  \"date display between 7 and 8 o'clock position\": 5,\n",
       "  \"day of the week and month display below the 12 o'clock position\": 5,\n",
       "  \"day of the week and date display at the  o'clock position\": 4,\n",
       "  \"date display between 6 and 7 o'clock position\": 4,\n",
       "  \"date display below the o'clock position\": 4,\n",
       "  'date/day display': 4,\n",
       "  'complete calendar': 4,\n",
       "  'full auto calendar': 4,\n",
       "  \"date display between 4 and 5 o'clock position. day of the week display at the 3 o'clock position\": 4,\n",
       "  \"date display at the 1 o'clock position\": 3,\n",
       "  'day of the week and date subdials': 3,\n",
       "  'day and date subdials': 3,\n",
       "  \"date display at the 5 o'clock position\": 3,\n",
       "  'day/date display': 3,\n",
       "  \"date display at the 6 o'clock position, day of the week display at the 12 o' clock position\": 3,\n",
       "  \"day of the week and date display at the 12 and 6 o'clock position\": 3,\n",
       "  'perfect date -  does  not need adjustment until 2060': 3,\n",
       "  'day-date': 3,\n",
       "  \"date display at the 7 o'clock position\": 3,\n",
       "  \"date display at the 3 o'clock position. day of the week display centered on the 12 o'clock position\": 3,\n",
       "  'month, day of the week and date': 3,\n",
       "  \"date display at the 4 o'clock position. day of the week\": 3,\n",
       "  \"big double date window at the 12 o'clock position\": 3,\n",
       "  \"day of the week and month display at the 10 o'clock and 2 o'clock position\": 3,\n",
       "  \"date display at the 6 o'clock position. day of the week display below the 12 o'clock position\": 3,\n",
       "  'halfmoon date window': 3,\n",
       "  \"grande date display at the 12 o'clock position\": 3,\n",
       "  \"date display at the 4 o'clock position. day of the week display at the 2 o'clock position\": 2,\n",
       "  \"day and date display at the 3 o'clock position\": 2,\n",
       "  \"day and month display at the 12 o'clock position\": 2,\n",
       "  'day of the week and date - sub dials': 2,\n",
       "  '\"saros\" annual calendar': 2,\n",
       "  \"date display between 2 and 3 o'clock position\": 2,\n",
       "  'month, day and date calendar': 2,\n",
       "  \"date display at the 4 o'clock position. day of the week display\": 2,\n",
       "  \"date display above the 3 o'clock position\": 2,\n",
       "  \"month and date display at the 3 o'clock position\": 2,\n",
       "  \"perpetual calendar. day of the week and month display at center dial. two digit year above 6 o'clock position\": 2,\n",
       "  \"date display 6 o'clock position\": 2,\n",
       "  'full calendar': 2,\n",
       "  'perpetual calendar - day and date display above center dial': 2,\n",
       "  \"date display between 4 and 8 o'clock position\": 2,\n",
       "  \"date display between the 3 and 4 o'clock positions\": 2,\n",
       "  'day, date, and month': 2,\n",
       "  \"date display at the 6  o'clock position\": 2,\n",
       "  \"perpetual date display at the 4 o'clock position\": 2,\n",
       "  \"date display at 3 o'clock, day display at 9 o'clock position\": 2,\n",
       "  \"date display between the 7 and 8 o'clock positions\": 2,\n",
       "  \"date display at the 6 o'clock position. day of the week display\": 1,\n",
       "  'day of the week and month display above the center dial': 1,\n",
       "  \"day odf the week and month display below the 12 o'clock position\": 1,\n",
       "  \"day and date display at the 12 o'clock position\": 1,\n",
       "  'on subdials': 1,\n",
       "  'digital': 1,\n",
       "  \"date display above the 6  o'clock position\": 1,\n",
       "  \"magnified date display at the 3 o'clock position\": 1,\n",
       "  \"date display at the 6 o'clock position. day of the week and month display at the 3 o'clock position\": 1,\n",
       "  'retrograde register date': 1,\n",
       "  'annual calendar - date - day of the week - month': 1,\n",
       "  \"date display at the 6 o'clock position. month and day of the week display below the 12 o'clock position\": 1,\n",
       "  \"date display at the 6 o'clock position. day of the week sub-dial\": 1,\n",
       "  'date and day display': 1,\n",
       "  \"month and date display at the  o'clock position\": 1,\n",
       "  \"date and day of the week display centered on the 12 o'clock position\": 1,\n",
       "  'days of month engraved on bezel': 1,\n",
       "  'day and month indication by hands, date aperture, moon phase': 1,\n",
       "  'date display around an outer ring. month and day of the week sub-dials': 1,\n",
       "  \"day display on subdial at 10 o'clock position, date display at the 4 o'clock position\": 1,\n",
       "  \"date and day of the week display at the 3 o'clcok position\": 1,\n",
       "  \"date display at the 6 o'clock position, day of the week display at the 12 o' clock\": 1,\n",
       "  \"date display at the 3 o'clock position, day of the week at the 12 o'clock position\": 1,\n",
       "  \"date display at 3 o'clock| day of the week display centered on the 12 o'clock.\": 1,\n",
       "  \"day of the week and date display at the 3 o'clock and 9 o'clock position\": 1,\n",
       "  'day of the week display. date display. month display': 1,\n",
       "  \"date display at the 3 o'clock position. day display at 12 o'clock.\": 1,\n",
       "  \"date display at the 3 o'clock position, day of the week display between 8 and 11 o'clock\": 1,\n",
       "  \"date display at the 12 o'clock position. month display at the 8 o'clock position\": 1,\n",
       "  'day of the week and month display above center dial': 1,\n",
       "  \"date between the 7 o'clock and 8 o'clock position\": 1,\n",
       "  \"date display at the 3. o'clock position\": 1,\n",
       "  'date around dial': 1,\n",
       "  \"pointer date. day of the week display at the 9 o'clock position. month display at the 3 o'clock position\": 1,\n",
       "  \"month and day of the week below the 12 o'clock position\": 1,\n",
       "  'day / date': 1,\n",
       "  'month, day and date': 1,\n",
       "  'date display below center dial': 1,\n",
       "  \"day of the week display at 10 o'clock. date display at 2 o'clock\": 1,\n",
       "  \"date display at the 6 o'clock position and day display at the 12 o'clock position\": 1,\n",
       "  'date display at top right corner of the dial': 1,\n",
       "  'full auto-calendar, day of the week and date display': 1,\n",
       "  'day of week, date': 1,\n",
       "  \"date display at the 6 o'clock position. day of week display center dial\": 1,\n",
       "  \"date display at the  3 o'clock position\": 1,\n",
       "  \"day of the week and month dispyed at the 12 o'clock position\": 1,\n",
       "  \"date display between the  4 and 5 o'clock positions\": 1,\n",
       "  'perpetual calendar - month, day of the week, date, leap year sub-dials': 1,\n",
       "  \"perpetual calendar. date display below the 12 o'clock position\": 1,\n",
       "  'perpetual - day of the week. month. leap year': 1,\n",
       "  'perpetual calendar - date display above center dial': 1,\n",
       "  \"day of the week and date display at the 33 o'clock position\": 1,\n",
       "  'day and date subdial': 1,\n",
       "  \"date display above the 6 o'clock position. day of the week display centered on the 12 o'clock position\": 1,\n",
       "  \"date display between the 4 and 5 o'clock positions, day on subdial between 9 and 10 o'clock\": 1,\n",
       "  \"perpetual calendar, date display at the 4 o'clock position. day of the week display\": 1,\n",
       "  \"date display at 3 o'clock; day display at 12 o'clock.\": 1,\n",
       "  \"date display at the 6 o'clock position, day of the week display at the 12 o'clock position.\": 1,\n",
       "  'perpetual calendar digital': 1,\n",
       "  \"date display at the 3 o'clock position, day of the week display at the 9 o' clock\": 1,\n",
       "  \"date display at the 2 o'clock position. dual time display at the 9 o'clock position\": 1,\n",
       "  \"date display at the 3 o'clock position. day of the week display centered on the 12 o'clock position.\": 1,\n",
       "  \"date display window at the 6 o'clock position\": 1,\n",
       "  \"date display centered on 12 o'clock position. day of the week centered on the 6 o'clock position\": 1,\n",
       "  \"day of the week and date display at the 12 o'clock position\": 1,\n",
       "  \"date display at the o'clock position\": 1,\n",
       "  \"date display at 3 o'clock| day of the week display at 12 o'clock.\": 1,\n",
       "  \"day display between 11 and 12 o'clock, date display at 12 o'clock and month display between 1 and 2 o'clock\": 1,\n",
       "  \"date display at 6 o'clock position\": 1,\n",
       "  \"month and day of the week under the 12 oclock position. date display at the 6 o'clock position\": 1,\n",
       "  \"date display between 8 and 9 o'clock position\": 1,\n",
       "  \"day display at 6 o'clock position, date display at the 9 o'clock position\": 1,\n",
       "  \"date display at the 6 o'clock position. day of the week and month\": 1,\n",
       "  \"crystal-set date display at the 6 o'clock position\": 1,\n",
       "  \"date display at the 6 o'clock position. day of the week at the 12 o'clock position\": 1,\n",
       "  \"date display at the 6 o'clock position. day of the week appears at the 12 o'clock\": 1,\n",
       "  \"day of the week display at the 12 o'clock position\": 1,\n",
       "  \"annual calander and flying tourbillon located at the 6 o'clock position.\": 1,\n",
       "  'date display at the center of the dial': 1,\n",
       "  \"date display centered on the 3 o'clock position. day of the week display centered on the 12 o'clock position. 24 hour display centered at the 9 o'clock position\": 1,\n",
       "  \"day of the week and date display above the 6 o'clock position\": 1,\n",
       "  \"date and day of the week display window at the 3 o'clock position\": 1,\n",
       "  \"date display above 6 o'clock position\": 1,\n",
       "  \"date display at the 11 o'clock position\": 1,\n",
       "  \"day of the week and month appear below the 12 o'clock position\": 1,\n",
       "  \"date display at the 3 o'clock position and day display at the 12 o'clock positon\": 1,\n",
       "  \"month, day at 12 o'clock position and date ring around outter rim\": 1,\n",
       "  \"day of the week display at the 12 o'clock position and date display at the 6 o'clock position\": 1,\n",
       "  'day of the week and month': 1,\n",
       "  \"date display at the 6 o'clock position. day of the week display at the 12 o'clock position\": 1,\n",
       "  \"day of the week and date at the 12 o'clock position\": 1}]"
      ]
     },
     "execution_count": 274,
     "metadata": {},
     "output_type": "execute_result"
    }
   ],
   "source": [
    "list_of_bar_charts[:5]"
   ]
  },
  {
   "cell_type": "code",
   "execution_count": null,
   "metadata": {},
   "outputs": [],
   "source": []
  },
  {
   "cell_type": "code",
   "execution_count": 288,
   "metadata": {},
   "outputs": [],
   "source": [
    "for j,i in names_and_dicts:\n",
    "    if len(i) <= 20:\n",
    "        plt.bar(i.keys(), i.values())\n",
    "        plt.xlabel(f'{j}')\n",
    "        plt.xticks(fontsize= 10, rotation = 90)\n",
    "        plt.show()"
   ]
  },
  {
   "cell_type": "code",
   "execution_count": 291,
   "metadata": {},
   "outputs": [],
   "source": [
    "for j,i in names_and_dicts:\n",
    "    print(j)\n",
    "    print(i)\n",
    "    "
   ]
  },
  {
   "cell_type": "code",
   "execution_count": null,
   "metadata": {},
   "outputs": [],
   "source": []
  },
  {
   "cell_type": "code",
   "execution_count": 290,
   "metadata": {},
   "outputs": [
    {
     "data": {
      "text/plain": [
       "<zip at 0x14de65410>"
      ]
     },
     "execution_count": 290,
     "metadata": {},
     "output_type": "execute_result"
    }
   ],
   "source": [
    "names_and_dicts"
   ]
  },
  {
   "cell_type": "code",
   "execution_count": null,
   "metadata": {},
   "outputs": [],
   "source": []
  },
  {
   "cell_type": "code",
   "execution_count": null,
   "metadata": {},
   "outputs": [],
   "source": []
  },
  {
   "cell_type": "code",
   "execution_count": 254,
   "metadata": {},
   "outputs": [
    {
     "data": {
      "text/plain": [
       "0               unknown\n",
       "1               unknown\n",
       "2             crocodile\n",
       "3             alligator\n",
       "4             rose gold\n",
       "             ...       \n",
       "8645            leather\n",
       "8646    stainless steel\n",
       "8647    stainless steel\n",
       "8648            leather\n",
       "8649            leather\n",
       "Name: band_material_fixed, Length: 8650, dtype: object"
      ]
     },
     "execution_count": 254,
     "metadata": {},
     "output_type": "execute_result"
    }
   ],
   "source": [
    "df['band_material_fixed']"
   ]
  },
  {
   "cell_type": "code",
   "execution_count": null,
   "metadata": {},
   "outputs": [],
   "source": []
  },
  {
   "cell_type": "code",
   "execution_count": null,
   "metadata": {},
   "outputs": [],
   "source": []
  },
  {
   "cell_type": "code",
   "execution_count": null,
   "metadata": {},
   "outputs": [],
   "source": []
  },
  {
   "cell_type": "markdown",
   "metadata": {},
   "source": [
    "# Dummy Variables"
   ]
  },
  {
   "cell_type": "code",
   "execution_count": 70,
   "metadata": {},
   "outputs": [],
   "source": [
    "test_df = deepcopy(df)"
   ]
  },
  {
   "cell_type": "code",
   "execution_count": 71,
   "metadata": {},
   "outputs": [
    {
     "data": {
      "text/plain": [
       "Index(['band_material_fixed', 'band_width', 'bezel', 'brand', 'calendar',\n",
       "       'case_diameter_fixed', 'case_material_fixed', 'case_shape',\n",
       "       'case_thickness_fixed', 'clasp_fixed', 'crown_fixed', 'crystal_fixed',\n",
       "       'dial_color_fixed', 'dial_type', 'engine', 'features_fixed',\n",
       "       'functions_fixed', 'gender', 'hands_fixed', 'model', 'movement',\n",
       "       'price_fixed', 'sku', 'watch_label', 'watch_style', 'water_resistance'],\n",
       "      dtype='object')"
      ]
     },
     "execution_count": 71,
     "metadata": {},
     "output_type": "execute_result"
    }
   ],
   "source": [
    "test_df.columns"
   ]
  },
  {
   "cell_type": "code",
   "execution_count": 72,
   "metadata": {},
   "outputs": [
    {
     "data": {
      "text/plain": [
       "0               unknown\n",
       "1               unknown\n",
       "2             crocodile\n",
       "3             alligator\n",
       "4             rose gold\n",
       "             ...       \n",
       "8645            leather\n",
       "8646    stainless steel\n",
       "8647    stainless steel\n",
       "8648            leather\n",
       "8649            leather\n",
       "Name: band_material_fixed, Length: 8650, dtype: object"
      ]
     },
     "execution_count": 72,
     "metadata": {},
     "output_type": "execute_result"
    }
   ],
   "source": [
    "test_df['band_material_fixed']"
   ]
  },
  {
   "cell_type": "code",
   "execution_count": 75,
   "metadata": {},
   "outputs": [],
   "source": [
    "# create dummy variables for 'band_material_fixed'\n",
    "band_material_fixed = pd.get_dummies(test_df['band_material_fixed'])"
   ]
  },
  {
   "cell_type": "code",
   "execution_count": 76,
   "metadata": {},
   "outputs": [],
   "source": [
    "list_of_columns = []"
   ]
  },
  {
   "cell_type": "code",
   "execution_count": 77,
   "metadata": {},
   "outputs": [],
   "source": [
    "list_of_columns.append(band_material_fixed)"
   ]
  },
  {
   "cell_type": "code",
   "execution_count": 80,
   "metadata": {},
   "outputs": [],
   "source": [
    "# create a function to make dummy variables \n",
    "dummy_columns = list(test_df.columns)"
   ]
  },
  {
   "cell_type": "code",
   "execution_count": 86,
   "metadata": {},
   "outputs": [
    {
     "data": {
      "text/html": [
       "<div>\n",
       "<style scoped>\n",
       "    .dataframe tbody tr th:only-of-type {\n",
       "        vertical-align: middle;\n",
       "    }\n",
       "\n",
       "    .dataframe tbody tr th {\n",
       "        vertical-align: top;\n",
       "    }\n",
       "\n",
       "    .dataframe thead th {\n",
       "        text-align: right;\n",
       "    }\n",
       "</style>\n",
       "<table border=\"1\" class=\"dataframe\">\n",
       "  <thead>\n",
       "    <tr style=\"text-align: right;\">\n",
       "      <th></th>\n",
       "      <th>band_width</th>\n",
       "      <th>case_diameter_fixed</th>\n",
       "      <th>case_thickness_fixed</th>\n",
       "      <th>price_fixed</th>\n",
       "      <th>water_resistance</th>\n",
       "    </tr>\n",
       "  </thead>\n",
       "  <tbody>\n",
       "    <tr>\n",
       "      <td>count</td>\n",
       "      <td>8650.000000</td>\n",
       "      <td>8650.000000</td>\n",
       "      <td>8650.000000</td>\n",
       "      <td>8650.000000</td>\n",
       "      <td>8650.000000</td>\n",
       "    </tr>\n",
       "    <tr>\n",
       "      <td>mean</td>\n",
       "      <td>15.580347</td>\n",
       "      <td>39.803237</td>\n",
       "      <td>9.055145</td>\n",
       "      <td>4830.092486</td>\n",
       "      <td>98.491329</td>\n",
       "    </tr>\n",
       "    <tr>\n",
       "      <td>std</td>\n",
       "      <td>9.287588</td>\n",
       "      <td>6.665098</td>\n",
       "      <td>5.527015</td>\n",
       "      <td>15528.774186</td>\n",
       "      <td>146.973087</td>\n",
       "    </tr>\n",
       "    <tr>\n",
       "      <td>min</td>\n",
       "      <td>0.000000</td>\n",
       "      <td>0.000000</td>\n",
       "      <td>0.000000</td>\n",
       "      <td>100.000000</td>\n",
       "      <td>0.000000</td>\n",
       "    </tr>\n",
       "    <tr>\n",
       "      <td>25%</td>\n",
       "      <td>12.000000</td>\n",
       "      <td>36.000000</td>\n",
       "      <td>7.000000</td>\n",
       "      <td>600.000000</td>\n",
       "      <td>50.000000</td>\n",
       "    </tr>\n",
       "    <tr>\n",
       "      <td>50%</td>\n",
       "      <td>20.000000</td>\n",
       "      <td>41.000000</td>\n",
       "      <td>10.000000</td>\n",
       "      <td>1100.000000</td>\n",
       "      <td>50.000000</td>\n",
       "    </tr>\n",
       "    <tr>\n",
       "      <td>75%</td>\n",
       "      <td>22.000000</td>\n",
       "      <td>44.000000</td>\n",
       "      <td>13.000000</td>\n",
       "      <td>3550.000000</td>\n",
       "      <td>100.000000</td>\n",
       "    </tr>\n",
       "    <tr>\n",
       "      <td>max</td>\n",
       "      <td>45.000000</td>\n",
       "      <td>66.000000</td>\n",
       "      <td>92.000000</td>\n",
       "      <td>547750.000000</td>\n",
       "      <td>4000.000000</td>\n",
       "    </tr>\n",
       "  </tbody>\n",
       "</table>\n",
       "</div>"
      ],
      "text/plain": [
       "        band_width  case_diameter_fixed  case_thickness_fixed    price_fixed  \\\n",
       "count  8650.000000          8650.000000           8650.000000    8650.000000   \n",
       "mean     15.580347            39.803237              9.055145    4830.092486   \n",
       "std       9.287588             6.665098              5.527015   15528.774186   \n",
       "min       0.000000             0.000000              0.000000     100.000000   \n",
       "25%      12.000000            36.000000              7.000000     600.000000   \n",
       "50%      20.000000            41.000000             10.000000    1100.000000   \n",
       "75%      22.000000            44.000000             13.000000    3550.000000   \n",
       "max      45.000000            66.000000             92.000000  547750.000000   \n",
       "\n",
       "       water_resistance  \n",
       "count       8650.000000  \n",
       "mean          98.491329  \n",
       "std          146.973087  \n",
       "min            0.000000  \n",
       "25%           50.000000  \n",
       "50%           50.000000  \n",
       "75%          100.000000  \n",
       "max         4000.000000  "
      ]
     },
     "execution_count": 86,
     "metadata": {},
     "output_type": "execute_result"
    }
   ],
   "source": [
    "test_df.describe()"
   ]
  },
  {
   "cell_type": "code",
   "execution_count": 87,
   "metadata": {},
   "outputs": [],
   "source": [
    "cols_remove = ['band_width', 'case_diameter_fixed', 'case_thickness_fixed', 'price_fixed', 'water_resistance']"
   ]
  },
  {
   "cell_type": "code",
   "execution_count": null,
   "metadata": {},
   "outputs": [],
   "source": []
  },
  {
   "cell_type": "code",
   "execution_count": null,
   "metadata": {},
   "outputs": [],
   "source": []
  },
  {
   "cell_type": "code",
   "execution_count": null,
   "metadata": {},
   "outputs": [],
   "source": []
  },
  {
   "cell_type": "code",
   "execution_count": null,
   "metadata": {},
   "outputs": [],
   "source": []
  },
  {
   "cell_type": "code",
   "execution_count": null,
   "metadata": {},
   "outputs": [],
   "source": []
  }
 ],
 "metadata": {
  "kernelspec": {
   "display_name": "Python 3",
   "language": "python",
   "name": "python3"
  },
  "language_info": {
   "codemirror_mode": {
    "name": "ipython",
    "version": 3
   },
   "file_extension": ".py",
   "mimetype": "text/x-python",
   "name": "python",
   "nbconvert_exporter": "python",
   "pygments_lexer": "ipython3",
   "version": "3.7.4"
  },
  "toc": {
   "base_numbering": 1,
   "nav_menu": {},
   "number_sections": true,
   "sideBar": true,
   "skip_h1_title": false,
   "title_cell": "Table of Contents",
   "title_sidebar": "Contents",
   "toc_cell": false,
   "toc_position": {
    "height": "calc(100% - 180px)",
    "left": "10px",
    "top": "150px",
    "width": "213.312px"
   },
   "toc_section_display": true,
   "toc_window_display": true
  }
 },
 "nbformat": 4,
 "nbformat_minor": 2
}
